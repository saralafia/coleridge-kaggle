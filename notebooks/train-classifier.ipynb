{
 "cells": [
  {
   "cell_type": "markdown",
   "metadata": {},
   "source": [
    "# Train classfier\n",
    "Build and save a classifier to discriminate true citation sentences (target - binary) given a set of input features (binary, count)\n",
    "\n",
    "Goals:\n",
    "- we want high recall first in this step (classifier should predict as many true citation sentences as possible)\n",
    "- then we want precision (NER will help us identify the right portion of the citation sentence to submit)\n",
    "\n",
    "Resources:\n",
    "- [Fitting models on imbalanced data](https://imbalanced-learn.org/stable/auto_examples/applications/plot_impact_imbalanced_classes.html)\n",
    "- [Comparing Random Forest (RF) and Logistic Regression (LR)](https://medium.com/@bemali_61284/random-forest-vs-logistic-regression-16c0c8e2484c)"
   ]
  },
  {
   "cell_type": "code",
   "execution_count": 1,
   "metadata": {},
   "outputs": [],
   "source": [
    "import re\n",
    "import pandas as pd\n",
    "import numpy as np\n",
    "import pickle\n",
    "%matplotlib inline\n",
    "\n",
    "from sklearn import metrics\n",
    "from sklearn.model_selection import train_test_split, cross_validate\n",
    "\n",
    "from sklearn.impute import SimpleImputer\n",
    "from sklearn.preprocessing import StandardScaler, OneHotEncoder, OrdinalEncoder\n",
    "from sklearn.pipeline import make_pipeline\n",
    "from sklearn.compose import make_column_transformer\n",
    "from sklearn.compose import make_column_selector as selector\n",
    "\n",
    "from sklearn.dummy import DummyClassifier\n",
    "from sklearn.linear_model import LogisticRegression\n",
    "from sklearn.ensemble import RandomForestClassifier"
   ]
  },
  {
   "cell_type": "code",
   "execution_count": 2,
   "metadata": {},
   "outputs": [],
   "source": [
    "def clean_text(txt):\n",
    "    \"\"\"\n",
    "    Convert to lowercase, remove special characters, and punctuation.\n",
    "    \"\"\"\n",
    "    return re.sub('[^A-Za-z0-9]+', ' ', str(txt).lower())\n",
    "\n",
    "def find_acronyms(txt):\n",
    "    \"\"\"\n",
    "    finds and returns a sequence of capital letters\n",
    "    for use on dataset_titles, dataset_labels, or full text\n",
    "    \"\"\"\n",
    "    matches = re.findall(r\"\\b[A-Z\\.]{2,}s?\\b\", txt)\n",
    "    if matches:\n",
    "        return 1\n",
    "    else:\n",
    "        return 0\n",
    "\n",
    "def count_acronyms(txt):\n",
    "    \"\"\"\n",
    "    finds and returns a sequence of capital letters\n",
    "    for use on dataset_titles, dataset_labels, or full text\n",
    "    \"\"\"\n",
    "    matches = re.findall(r\"\\b[A-Z\\.]{2,}s?\\b\", txt)\n",
    "    if matches:\n",
    "        return len(matches)\n",
    "    else:\n",
    "        return 0"
   ]
  },
  {
   "cell_type": "code",
   "execution_count": 3,
   "metadata": {},
   "outputs": [],
   "source": [
    "# DATA_DIR = '/nfs/turbo/hrg/bib/icpsr-we-have-the-data/'\n",
    "# DATA_DIR = '/nfs/turbo/hrg/coleridge/'"
   ]
  },
  {
   "cell_type": "markdown",
   "metadata": {},
   "source": [
    "## Load and prepare data"
   ]
  },
  {
   "cell_type": "code",
   "execution_count": 4,
   "metadata": {},
   "outputs": [],
   "source": [
    "# df = pd.read_csv(DATA_DIR+'train_sents_all.csv', index_col=0)\n",
    "\n",
    "# df['hasICPSRTitle'] = df['hasICPSRTitle'].astype('category').cat.codes\n",
    "# df['hasDATAGOVTitle'] = df['hasDATAGOVTitle'].astype('category').cat.codes\n",
    "# df['Match'] = df['match'].astype('category').cat.codes\n",
    "\n",
    "# df = df.drop(columns=['Id',\n",
    "#                       'dataset_label', \n",
    "#                       'section_title', \n",
    "#                       'sent',\n",
    "#                       'match',\n",
    "#                       'sent_clean', \n",
    "#                       'section_clean'])\n",
    "\n",
    "\n",
    "\n",
    "# df.Match.value_counts()"
   ]
  },
  {
   "cell_type": "code",
   "execution_count": 5,
   "metadata": {},
   "outputs": [
    {
     "data": {
      "text/html": [
       "<div>\n",
       "<style scoped>\n",
       "    .dataframe tbody tr th:only-of-type {\n",
       "        vertical-align: middle;\n",
       "    }\n",
       "\n",
       "    .dataframe tbody tr th {\n",
       "        vertical-align: top;\n",
       "    }\n",
       "\n",
       "    .dataframe thead th {\n",
       "        text-align: right;\n",
       "    }\n",
       "</style>\n",
       "<table border=\"1\" class=\"dataframe\">\n",
       "  <thead>\n",
       "    <tr style=\"text-align: right;\">\n",
       "      <th></th>\n",
       "      <th>paper_section</th>\n",
       "      <th>sentence_text</th>\n",
       "      <th>text_referencing_dataset_1</th>\n",
       "    </tr>\n",
       "  </thead>\n",
       "  <tbody>\n",
       "    <tr>\n",
       "      <th>0</th>\n",
       "      <td>Results</td>\n",
       "      <td>After examining the effect of switching field ...</td>\n",
       "      <td>none</td>\n",
       "    </tr>\n",
       "    <tr>\n",
       "      <th>1</th>\n",
       "      <td>Policy implications: Economic and social policies</td>\n",
       "      <td>These programs help ensure that children do no...</td>\n",
       "      <td>none</td>\n",
       "    </tr>\n",
       "    <tr>\n",
       "      <th>2</th>\n",
       "      <td>Special Attention to Inclusion of the SBE Scie...</td>\n",
       "      <td>Program Directors in EHR and SBE are at the fo...</td>\n",
       "      <td>none</td>\n",
       "    </tr>\n",
       "    <tr>\n",
       "      <th>3</th>\n",
       "      <td>Clinical variables</td>\n",
       "      <td>Categorical fluency (animals) [23] is a test o...</td>\n",
       "      <td>none</td>\n",
       "    </tr>\n",
       "    <tr>\n",
       "      <th>4</th>\n",
       "      <td>a. Observed analysis for the extremely active ...</td>\n",
       "      <td>Moreover, mean midlevel relative humidity was ...</td>\n",
       "      <td>none</td>\n",
       "    </tr>\n",
       "    <tr>\n",
       "      <th>...</th>\n",
       "      <td>...</td>\n",
       "      <td>...</td>\n",
       "      <td>...</td>\n",
       "    </tr>\n",
       "    <tr>\n",
       "      <th>2051</th>\n",
       "      <td>Sample</td>\n",
       "      <td>We relied on specific questions within the LEM...</td>\n",
       "      <td>LEMAS-BWCS</td>\n",
       "    </tr>\n",
       "    <tr>\n",
       "      <th>2052</th>\n",
       "      <td>Discussion</td>\n",
       "      <td>What is perhaps most striking from the descrip...</td>\n",
       "      <td>ECLS-K</td>\n",
       "    </tr>\n",
       "    <tr>\n",
       "      <th>2053</th>\n",
       "      <td>Discussion</td>\n",
       "      <td>This certainly creates some issues, including ...</td>\n",
       "      <td>UCR</td>\n",
       "    </tr>\n",
       "    <tr>\n",
       "      <th>2054</th>\n",
       "      <td>A. Data on Crime, Social Connectedness, and Co...</td>\n",
       "      <td>UCR data contain monthly counts of the number ...</td>\n",
       "      <td>UCR</td>\n",
       "    </tr>\n",
       "    <tr>\n",
       "      <th>2055</th>\n",
       "      <td>Variation in the Implementation of Curricula</td>\n",
       "      <td>Across all curricula, HSIS teachers reported h...</td>\n",
       "      <td>HSIS</td>\n",
       "    </tr>\n",
       "  </tbody>\n",
       "</table>\n",
       "<p>402 rows × 3 columns</p>\n",
       "</div>"
      ],
      "text/plain": [
       "                                          paper_section  \\\n",
       "0                                               Results   \n",
       "1     Policy implications: Economic and social policies   \n",
       "2     Special Attention to Inclusion of the SBE Scie...   \n",
       "3                                    Clinical variables   \n",
       "4     a. Observed analysis for the extremely active ...   \n",
       "...                                                 ...   \n",
       "2051                                             Sample   \n",
       "2052                                         Discussion   \n",
       "2053                                         Discussion   \n",
       "2054  A. Data on Crime, Social Connectedness, and Co...   \n",
       "2055       Variation in the Implementation of Curricula   \n",
       "\n",
       "                                          sentence_text  \\\n",
       "0     After examining the effect of switching field ...   \n",
       "1     These programs help ensure that children do no...   \n",
       "2     Program Directors in EHR and SBE are at the fo...   \n",
       "3     Categorical fluency (animals) [23] is a test o...   \n",
       "4     Moreover, mean midlevel relative humidity was ...   \n",
       "...                                                 ...   \n",
       "2051  We relied on specific questions within the LEM...   \n",
       "2052  What is perhaps most striking from the descrip...   \n",
       "2053  This certainly creates some issues, including ...   \n",
       "2054  UCR data contain monthly counts of the number ...   \n",
       "2055  Across all curricula, HSIS teachers reported h...   \n",
       "\n",
       "     text_referencing_dataset_1  \n",
       "0                          none  \n",
       "1                          none  \n",
       "2                          none  \n",
       "3                          none  \n",
       "4                          none  \n",
       "...                         ...  \n",
       "2051                 LEMAS-BWCS  \n",
       "2052                     ECLS-K  \n",
       "2053                        UCR  \n",
       "2054                        UCR  \n",
       "2055                       HSIS  \n",
       "\n",
       "[402 rows x 3 columns]"
      ]
     },
     "execution_count": 5,
     "metadata": {},
     "output_type": "execute_result"
    }
   ],
   "source": [
    "df = pd.read_csv('/Users/slafia/Documents/coleridge-kaggle/data/ner_annotate.csv')\n",
    "df = df[((df['labeler_1']==\"Sara\"))]\n",
    "\n",
    "df = df.filter(['paper_section','sentence_text','text_referencing_dataset_1'], axis=1)\n",
    "\n",
    "# df = df.drop(columns=['paper_id',\n",
    "#                       'paper_title', \n",
    "#                       'source',\n",
    "#                       'sentence_id',\n",
    "#                       'labeler_1', \n",
    "#                       'contains_dataset_1',\n",
    "#                       'notes_1', \n",
    "#                       'text_referencing_dataset_2', \n",
    "#                       'labeler_2', \n",
    "#                       'contains_dataset_2', \n",
    "#                       'notes_2'])\n",
    "\n",
    "df['paper_section'] = df['paper_section'].astype(str)\n",
    "df['sentence_text'] = df['sentence_text'].astype(str)\n",
    "df['paper_section'] = df['paper_section'].astype(str)\n",
    "\n",
    "df"
   ]
  },
  {
   "cell_type": "markdown",
   "metadata": {},
   "source": [
    "## Features"
   ]
  },
  {
   "cell_type": "markdown",
   "metadata": {},
   "source": [
    "Term frequency, article section, and acronyms"
   ]
  },
  {
   "cell_type": "code",
   "execution_count": 6,
   "metadata": {},
   "outputs": [
    {
     "name": "stdout",
     "output_type": "stream",
     "text": [
      "CPU times: user 43.8 ms, sys: 3.89 ms, total: 47.7 ms\n",
      "Wall time: 44.9 ms\n"
     ]
    },
    {
     "data": {
      "text/html": [
       "<div>\n",
       "<style scoped>\n",
       "    .dataframe tbody tr th:only-of-type {\n",
       "        vertical-align: middle;\n",
       "    }\n",
       "\n",
       "    .dataframe tbody tr th {\n",
       "        vertical-align: top;\n",
       "    }\n",
       "\n",
       "    .dataframe thead th {\n",
       "        text-align: right;\n",
       "    }\n",
       "</style>\n",
       "<table border=\"1\" class=\"dataframe\">\n",
       "  <thead>\n",
       "    <tr style=\"text-align: right;\">\n",
       "      <th></th>\n",
       "      <th>paper_section</th>\n",
       "      <th>sentence_text</th>\n",
       "      <th>sentence_text_clean</th>\n",
       "      <th>paper_section_clean</th>\n",
       "      <th>hasData</th>\n",
       "      <th>hasEdu</th>\n",
       "      <th>hasSample</th>\n",
       "      <th>hasNational</th>\n",
       "      <th>hasSurvey</th>\n",
       "      <th>hasPublic</th>\n",
       "      <th>...</th>\n",
       "      <th>inSamp</th>\n",
       "      <th>inMeas</th>\n",
       "      <th>inMeth</th>\n",
       "      <th>inVari</th>\n",
       "      <th>inIntr</th>\n",
       "      <th>inLimi</th>\n",
       "      <th>inAnal</th>\n",
       "      <th>inResu</th>\n",
       "      <th>hasAcronym</th>\n",
       "      <th>match</th>\n",
       "    </tr>\n",
       "  </thead>\n",
       "  <tbody>\n",
       "    <tr>\n",
       "      <th>1929</th>\n",
       "      <td>Methods</td>\n",
       "      <td>A secondary analysis using de-identified WRS d...</td>\n",
       "      <td>a secondary analysis using de identified wrs d...</td>\n",
       "      <td>methods</td>\n",
       "      <td>1</td>\n",
       "      <td>0</td>\n",
       "      <td>0</td>\n",
       "      <td>0</td>\n",
       "      <td>0</td>\n",
       "      <td>0</td>\n",
       "      <td>...</td>\n",
       "      <td>0</td>\n",
       "      <td>0</td>\n",
       "      <td>1</td>\n",
       "      <td>0</td>\n",
       "      <td>0</td>\n",
       "      <td>0</td>\n",
       "      <td>0</td>\n",
       "      <td>0</td>\n",
       "      <td>1</td>\n",
       "      <td>False</td>\n",
       "    </tr>\n",
       "    <tr>\n",
       "      <th>1937</th>\n",
       "      <td>Analytic Strategies</td>\n",
       "      <td>Since the assignment to the two treatment cond...</td>\n",
       "      <td>since the assignment to the two treatment cond...</td>\n",
       "      <td>analytic strategies</td>\n",
       "      <td>1</td>\n",
       "      <td>1</td>\n",
       "      <td>0</td>\n",
       "      <td>0</td>\n",
       "      <td>0</td>\n",
       "      <td>0</td>\n",
       "      <td>...</td>\n",
       "      <td>0</td>\n",
       "      <td>0</td>\n",
       "      <td>0</td>\n",
       "      <td>0</td>\n",
       "      <td>0</td>\n",
       "      <td>0</td>\n",
       "      <td>1</td>\n",
       "      <td>0</td>\n",
       "      <td>1</td>\n",
       "      <td>True</td>\n",
       "    </tr>\n",
       "    <tr>\n",
       "      <th>197</th>\n",
       "      <td>Current Federal Loan Information</td>\n",
       "      <td>Analysts should be aware that the entity grant...</td>\n",
       "      <td>analysts should be aware that the entity grant...</td>\n",
       "      <td>current federal loan information</td>\n",
       "      <td>0</td>\n",
       "      <td>0</td>\n",
       "      <td>0</td>\n",
       "      <td>0</td>\n",
       "      <td>0</td>\n",
       "      <td>0</td>\n",
       "      <td>...</td>\n",
       "      <td>0</td>\n",
       "      <td>0</td>\n",
       "      <td>0</td>\n",
       "      <td>0</td>\n",
       "      <td>0</td>\n",
       "      <td>0</td>\n",
       "      <td>0</td>\n",
       "      <td>0</td>\n",
       "      <td>0</td>\n",
       "      <td>False</td>\n",
       "    </tr>\n",
       "    <tr>\n",
       "      <th>2018</th>\n",
       "      <td>Conclusion</td>\n",
       "      <td>Once disaggregated, NCVS data show distinct pa...</td>\n",
       "      <td>once disaggregated ncvs data show distinct pat...</td>\n",
       "      <td>conclusion</td>\n",
       "      <td>1</td>\n",
       "      <td>0</td>\n",
       "      <td>0</td>\n",
       "      <td>0</td>\n",
       "      <td>0</td>\n",
       "      <td>0</td>\n",
       "      <td>...</td>\n",
       "      <td>0</td>\n",
       "      <td>0</td>\n",
       "      <td>0</td>\n",
       "      <td>0</td>\n",
       "      <td>0</td>\n",
       "      <td>0</td>\n",
       "      <td>0</td>\n",
       "      <td>0</td>\n",
       "      <td>1</td>\n",
       "      <td>True</td>\n",
       "    </tr>\n",
       "    <tr>\n",
       "      <th>1987</th>\n",
       "      <td>Control variables</td>\n",
       "      <td>Therefore, we control for the county-level cri...</td>\n",
       "      <td>therefore we control for the county level crim...</td>\n",
       "      <td>control variables</td>\n",
       "      <td>0</td>\n",
       "      <td>0</td>\n",
       "      <td>0</td>\n",
       "      <td>0</td>\n",
       "      <td>0</td>\n",
       "      <td>0</td>\n",
       "      <td>...</td>\n",
       "      <td>0</td>\n",
       "      <td>0</td>\n",
       "      <td>0</td>\n",
       "      <td>1</td>\n",
       "      <td>0</td>\n",
       "      <td>0</td>\n",
       "      <td>0</td>\n",
       "      <td>0</td>\n",
       "      <td>1</td>\n",
       "      <td>True</td>\n",
       "    </tr>\n",
       "    <tr>\n",
       "      <th>74</th>\n",
       "      <td>Conclusions and discussion</td>\n",
       "      <td>2010; Murakami et al.</td>\n",
       "      <td>2010 murakami et al</td>\n",
       "      <td>conclusions and discussion</td>\n",
       "      <td>0</td>\n",
       "      <td>0</td>\n",
       "      <td>0</td>\n",
       "      <td>0</td>\n",
       "      <td>0</td>\n",
       "      <td>0</td>\n",
       "      <td>...</td>\n",
       "      <td>0</td>\n",
       "      <td>0</td>\n",
       "      <td>0</td>\n",
       "      <td>0</td>\n",
       "      <td>0</td>\n",
       "      <td>0</td>\n",
       "      <td>0</td>\n",
       "      <td>0</td>\n",
       "      <td>0</td>\n",
       "      <td>False</td>\n",
       "    </tr>\n",
       "    <tr>\n",
       "      <th>2041</th>\n",
       "      <td>The Monitoring the Future Study.</td>\n",
       "      <td>Unlike the CDC question, the Monitoring the Fu...</td>\n",
       "      <td>unlike the cdc question the monitoring the fut...</td>\n",
       "      <td>the monitoring the future study</td>\n",
       "      <td>0</td>\n",
       "      <td>0</td>\n",
       "      <td>0</td>\n",
       "      <td>0</td>\n",
       "      <td>0</td>\n",
       "      <td>0</td>\n",
       "      <td>...</td>\n",
       "      <td>0</td>\n",
       "      <td>0</td>\n",
       "      <td>0</td>\n",
       "      <td>0</td>\n",
       "      <td>0</td>\n",
       "      <td>0</td>\n",
       "      <td>0</td>\n",
       "      <td>0</td>\n",
       "      <td>1</td>\n",
       "      <td>True</td>\n",
       "    </tr>\n",
       "    <tr>\n",
       "      <th>1934</th>\n",
       "      <td>Probability of Arrest: Consumers and Dealers</td>\n",
       "      <td>The numerator for the probability of arrest fo...</td>\n",
       "      <td>the numerator for the probability of arrest fo...</td>\n",
       "      <td>probability of arrest consumers and dealers</td>\n",
       "      <td>0</td>\n",
       "      <td>0</td>\n",
       "      <td>0</td>\n",
       "      <td>0</td>\n",
       "      <td>0</td>\n",
       "      <td>0</td>\n",
       "      <td>...</td>\n",
       "      <td>0</td>\n",
       "      <td>0</td>\n",
       "      <td>0</td>\n",
       "      <td>0</td>\n",
       "      <td>0</td>\n",
       "      <td>0</td>\n",
       "      <td>0</td>\n",
       "      <td>0</td>\n",
       "      <td>1</td>\n",
       "      <td>True</td>\n",
       "    </tr>\n",
       "    <tr>\n",
       "      <th>130</th>\n",
       "      <td>Neuroimaging modalities, including Magnetic Re...</td>\n",
       "      <td>Patch extraction is relatively easy to carry o...</td>\n",
       "      <td>patch extraction is relatively easy to carry o...</td>\n",
       "      <td>neuroimaging modalities including magnetic res...</td>\n",
       "      <td>0</td>\n",
       "      <td>0</td>\n",
       "      <td>0</td>\n",
       "      <td>0</td>\n",
       "      <td>0</td>\n",
       "      <td>0</td>\n",
       "      <td>...</td>\n",
       "      <td>0</td>\n",
       "      <td>0</td>\n",
       "      <td>0</td>\n",
       "      <td>0</td>\n",
       "      <td>0</td>\n",
       "      <td>0</td>\n",
       "      <td>0</td>\n",
       "      <td>0</td>\n",
       "      <td>1</td>\n",
       "      <td>False</td>\n",
       "    </tr>\n",
       "    <tr>\n",
       "      <th>2036</th>\n",
       "      <td>Limitations</td>\n",
       "      <td>Although many covariates were considered in th...</td>\n",
       "      <td>although many covariates were considered in th...</td>\n",
       "      <td>limitations</td>\n",
       "      <td>0</td>\n",
       "      <td>0</td>\n",
       "      <td>0</td>\n",
       "      <td>0</td>\n",
       "      <td>0</td>\n",
       "      <td>0</td>\n",
       "      <td>...</td>\n",
       "      <td>0</td>\n",
       "      <td>0</td>\n",
       "      <td>0</td>\n",
       "      <td>0</td>\n",
       "      <td>0</td>\n",
       "      <td>1</td>\n",
       "      <td>0</td>\n",
       "      <td>0</td>\n",
       "      <td>1</td>\n",
       "      <td>True</td>\n",
       "    </tr>\n",
       "  </tbody>\n",
       "</table>\n",
       "<p>10 rows × 36 columns</p>\n",
       "</div>"
      ],
      "text/plain": [
       "                                          paper_section  \\\n",
       "1929                                            Methods   \n",
       "1937                                Analytic Strategies   \n",
       "197                    Current Federal Loan Information   \n",
       "2018                                         Conclusion   \n",
       "1987                                  Control variables   \n",
       "74                           Conclusions and discussion   \n",
       "2041                   The Monitoring the Future Study.   \n",
       "1934       Probability of Arrest: Consumers and Dealers   \n",
       "130   Neuroimaging modalities, including Magnetic Re...   \n",
       "2036                                        Limitations   \n",
       "\n",
       "                                          sentence_text  \\\n",
       "1929  A secondary analysis using de-identified WRS d...   \n",
       "1937  Since the assignment to the two treatment cond...   \n",
       "197   Analysts should be aware that the entity grant...   \n",
       "2018  Once disaggregated, NCVS data show distinct pa...   \n",
       "1987  Therefore, we control for the county-level cri...   \n",
       "74                                2010; Murakami et al.   \n",
       "2041  Unlike the CDC question, the Monitoring the Fu...   \n",
       "1934  The numerator for the probability of arrest fo...   \n",
       "130   Patch extraction is relatively easy to carry o...   \n",
       "2036  Although many covariates were considered in th...   \n",
       "\n",
       "                                    sentence_text_clean  \\\n",
       "1929  a secondary analysis using de identified wrs d...   \n",
       "1937  since the assignment to the two treatment cond...   \n",
       "197   analysts should be aware that the entity grant...   \n",
       "2018  once disaggregated ncvs data show distinct pat...   \n",
       "1987  therefore we control for the county level crim...   \n",
       "74                                 2010 murakami et al    \n",
       "2041  unlike the cdc question the monitoring the fut...   \n",
       "1934  the numerator for the probability of arrest fo...   \n",
       "130   patch extraction is relatively easy to carry o...   \n",
       "2036  although many covariates were considered in th...   \n",
       "\n",
       "                                    paper_section_clean  hasData  hasEdu  \\\n",
       "1929                                            methods        1       0   \n",
       "1937                                analytic strategies        1       1   \n",
       "197                    current federal loan information        0       0   \n",
       "2018                                         conclusion        1       0   \n",
       "1987                                  control variables        0       0   \n",
       "74                           conclusions and discussion        0       0   \n",
       "2041                   the monitoring the future study         0       0   \n",
       "1934        probability of arrest consumers and dealers        0       0   \n",
       "130   neuroimaging modalities including magnetic res...        0       0   \n",
       "2036                                        limitations        0       0   \n",
       "\n",
       "      hasSample  hasNational  hasSurvey  hasPublic  ...  inSamp  inMeas  \\\n",
       "1929          0            0          0          0  ...       0       0   \n",
       "1937          0            0          0          0  ...       0       0   \n",
       "197           0            0          0          0  ...       0       0   \n",
       "2018          0            0          0          0  ...       0       0   \n",
       "1987          0            0          0          0  ...       0       0   \n",
       "74            0            0          0          0  ...       0       0   \n",
       "2041          0            0          0          0  ...       0       0   \n",
       "1934          0            0          0          0  ...       0       0   \n",
       "130           0            0          0          0  ...       0       0   \n",
       "2036          0            0          0          0  ...       0       0   \n",
       "\n",
       "      inMeth  inVari  inIntr  inLimi  inAnal  inResu  hasAcronym  match  \n",
       "1929       1       0       0       0       0       0           1  False  \n",
       "1937       0       0       0       0       1       0           1   True  \n",
       "197        0       0       0       0       0       0           0  False  \n",
       "2018       0       0       0       0       0       0           1   True  \n",
       "1987       0       1       0       0       0       0           1   True  \n",
       "74         0       0       0       0       0       0           0  False  \n",
       "2041       0       0       0       0       0       0           1   True  \n",
       "1934       0       0       0       0       0       0           1   True  \n",
       "130        0       0       0       0       0       0           1  False  \n",
       "2036       0       0       0       1       0       0           1   True  \n",
       "\n",
       "[10 rows x 36 columns]"
      ]
     },
     "execution_count": 6,
     "metadata": {},
     "output_type": "execute_result"
    }
   ],
   "source": [
    "%%time\n",
    "\n",
    "df['sentence_text_clean'] = df['sentence_text'].apply(clean_text)\n",
    "df['paper_section_clean']= df['paper_section'].apply(clean_text)\n",
    "\n",
    "df['hasData'] = np.where(df['sentence_text_clean'].str.contains('data'), 1, 0)\n",
    "df['hasEdu'] = np.where(df['sentence_text_clean'].str.contains('edu'), 1, 0)\n",
    "df['hasSample'] = np.where(df['sentence_text_clean'].str.contains('sample'), 1, 0)\n",
    "df['hasNational'] = np.where(df['sentence_text_clean'].str.contains('national'), 1, 0)\n",
    "df['hasSurvey'] = np.where(df['sentence_text_clean'].str.contains('survey'), 1, 0)\n",
    "df['hasPublic'] = np.where(df['sentence_text_clean'].str.contains('public'), 1, 0)\n",
    "df['hasAvailab'] = np.where(df['sentence_text_clean'].str.contains('availab'), 1, 0)\n",
    "df['hasNSF'] = np.where(df['sentence_text_clean'].str.contains('nsf'), 1, 0)\n",
    "df['hasGov'] = np.where(df['sentence_text_clean'].str.contains('gov'), 1, 0)\n",
    "df['hasAccess'] = np.where(df['sentence_text_clean'].str.contains('access'), 1, 0)\n",
    "df['hasSupplem'] = np.where(df['sentence_text_clean'].str.contains('supplem'), 1, 0)\n",
    "df['hasStudy'] = np.where(df['sentence_text_clean'].str.contains('study'), 1, 0)\n",
    "df['hasReport'] = np.where(df['sentence_text_clean'].str.contains('report'), 1, 0)\n",
    "df['hasParticip'] = np.where(df['sentence_text_clean'].str.contains('particip'), 1, 0)\n",
    "df['hasUsed'] = np.where(df['sentence_text_clean'].str.contains('used'), 1, 0)\n",
    "df['hasUsing'] = np.where(df['sentence_text_clean'].str.contains('using'), 1, 0)\n",
    "df['hasBased'] = np.where(df['sentence_text_clean'].str.contains('based'), 1, 0)\n",
    "df['hasAgenc'] = np.where(df['sentence_text_clean'].str.contains('agenc'), 1, 0)\n",
    "df['hasStatistic'] = np.where(df['sentence_text_clean'].str.contains('statistic'), 1, 0)\n",
    "df['hasMeasur'] = np.where(df['sentence_text_clean'].str.contains('measur'), 1, 0)\n",
    "\n",
    "df['inDisc'] = np.where(df['paper_section_clean'].str.contains('disc'), 1, 0)\n",
    "df['inData'] = np.where(df['paper_section_clean'].str.contains('data'), 1, 0)\n",
    "df['inSamp'] = np.where(df['paper_section_clean'].str.contains('sampl'), 1, 0)\n",
    "df['inMeas'] = np.where(df['paper_section_clean'].str.contains('meas'), 1, 0)\n",
    "df['inMeth'] = np.where(df['paper_section_clean'].str.contains('meth'), 1, 0)\n",
    "df['inVari'] = np.where(df['paper_section_clean'].str.contains('vari'), 1, 0)\n",
    "df['inIntr'] = np.where(df['paper_section_clean'].str.contains('intr'), 1, 0)\n",
    "df['inLimi'] = np.where(df['paper_section_clean'].str.contains('limi'), 1, 0)\n",
    "df['inAnal'] = np.where(df['paper_section_clean'].str.contains('anal'), 1, 0)\n",
    "df['inResu'] = np.where(df['paper_section_clean'].str.contains('resu'), 1, 0)\n",
    "\n",
    "df['hasAcronym'] = df['sentence_text'].apply(find_acronyms)\n",
    "\n",
    "df['match'] = df.apply(lambda x: x.text_referencing_dataset_1 in x.sentence_text, axis=1)\n",
    "\n",
    "df = df.drop(columns=['text_referencing_dataset_1'])\n",
    "\n",
    "df.sample(n=10)"
   ]
  },
  {
   "cell_type": "markdown",
   "metadata": {},
   "source": [
    "## Feature selection\n",
    "21 features"
   ]
  },
  {
   "cell_type": "code",
   "execution_count": 7,
   "metadata": {},
   "outputs": [
    {
     "name": "stdout",
     "output_type": "stream",
     "text": [
      "<class 'pandas.core.frame.DataFrame'>\n",
      "Int64Index: 402 entries, 0 to 2055\n",
      "Data columns (total 36 columns):\n",
      " #   Column               Non-Null Count  Dtype \n",
      "---  ------               --------------  ----- \n",
      " 0   paper_section        402 non-null    object\n",
      " 1   sentence_text        402 non-null    object\n",
      " 2   sentence_text_clean  402 non-null    object\n",
      " 3   paper_section_clean  402 non-null    object\n",
      " 4   hasData              402 non-null    int64 \n",
      " 5   hasEdu               402 non-null    int64 \n",
      " 6   hasSample            402 non-null    int64 \n",
      " 7   hasNational          402 non-null    int64 \n",
      " 8   hasSurvey            402 non-null    int64 \n",
      " 9   hasPublic            402 non-null    int64 \n",
      " 10  hasAvailab           402 non-null    int64 \n",
      " 11  hasNSF               402 non-null    int64 \n",
      " 12  hasGov               402 non-null    int64 \n",
      " 13  hasAccess            402 non-null    int64 \n",
      " 14  hasSupplem           402 non-null    int64 \n",
      " 15  hasStudy             402 non-null    int64 \n",
      " 16  hasReport            402 non-null    int64 \n",
      " 17  hasParticip          402 non-null    int64 \n",
      " 18  hasUsed              402 non-null    int64 \n",
      " 19  hasUsing             402 non-null    int64 \n",
      " 20  hasBased             402 non-null    int64 \n",
      " 21  hasAgenc             402 non-null    int64 \n",
      " 22  hasStatistic         402 non-null    int64 \n",
      " 23  hasMeasur            402 non-null    int64 \n",
      " 24  inDisc               402 non-null    int64 \n",
      " 25  inData               402 non-null    int64 \n",
      " 26  inSamp               402 non-null    int64 \n",
      " 27  inMeas               402 non-null    int64 \n",
      " 28  inMeth               402 non-null    int64 \n",
      " 29  inVari               402 non-null    int64 \n",
      " 30  inIntr               402 non-null    int64 \n",
      " 31  inLimi               402 non-null    int64 \n",
      " 32  inAnal               402 non-null    int64 \n",
      " 33  inResu               402 non-null    int64 \n",
      " 34  hasAcronym           402 non-null    int64 \n",
      " 35  match                402 non-null    bool  \n",
      "dtypes: bool(1), int64(31), object(4)\n",
      "memory usage: 113.5+ KB\n"
     ]
    }
   ],
   "source": [
    "df.info()"
   ]
  },
  {
   "cell_type": "markdown",
   "metadata": {},
   "source": [
    "### Binary features only"
   ]
  },
  {
   "cell_type": "code",
   "execution_count": 8,
   "metadata": {},
   "outputs": [],
   "source": [
    "# df.drop(list(df.filter(regex = 'freq')), axis = 1, inplace = True)\n",
    "# df.info()"
   ]
  },
  {
   "cell_type": "markdown",
   "metadata": {},
   "source": [
    "### Binary and frequency combination\n",
    "Selecting based on feature importance from Random Forest output"
   ]
  },
  {
   "cell_type": "code",
   "execution_count": 9,
   "metadata": {},
   "outputs": [],
   "source": [
    "# df = df[['hasAcronym','freqData','freqNational','freqEdu','inData','Match']]\n",
    "# df.info()"
   ]
  },
  {
   "cell_type": "markdown",
   "metadata": {},
   "source": [
    "Separate the dataframe into input X (features / explanatory variables) and y (response / target)"
   ]
  },
  {
   "cell_type": "code",
   "execution_count": 10,
   "metadata": {},
   "outputs": [
    {
     "name": "stdout",
     "output_type": "stream",
     "text": [
      "(402, 31)\n",
      "(402,)\n"
     ]
    }
   ],
   "source": [
    "# X = df.drop('match',axis=1)\n",
    "X = df.drop(columns=['paper_section','sentence_text','sentence_text_clean','paper_section_clean','match'],axis=1)\n",
    "\n",
    "y = df['match']\n",
    "\n",
    "print(X.shape)\n",
    "print(y.shape)"
   ]
  },
  {
   "cell_type": "markdown",
   "metadata": {},
   "source": [
    "Split the cleaned sample frame into test and train sets; stratify target to assure test / train 0,1 are proportional"
   ]
  },
  {
   "cell_type": "code",
   "execution_count": 11,
   "metadata": {},
   "outputs": [
    {
     "name": "stdout",
     "output_type": "stream",
     "text": [
      "(321, 31) (321,) (81, 31) (81,)\n"
     ]
    }
   ],
   "source": [
    "X_train, X_test, y_train, y_test = train_test_split(X, \n",
    "                                                    y, \n",
    "                                                    stratify=y,\n",
    "                                                    test_size=0.2,\n",
    "                                                    random_state=42)\n",
    "\n",
    "print(X_train.shape, y_train.shape, X_test.shape, y_test.shape)"
   ]
  },
  {
   "cell_type": "markdown",
   "metadata": {},
   "source": [
    "## Imbalanced learning"
   ]
  },
  {
   "cell_type": "markdown",
   "metadata": {},
   "source": [
    "Matches have a class ratio of about 120:1 (highly imbalanced)"
   ]
  },
  {
   "cell_type": "code",
   "execution_count": 12,
   "metadata": {},
   "outputs": [
    {
     "data": {
      "text/plain": [
       "False    245\n",
       "True     157\n",
       "Name: match, dtype: int64"
      ]
     },
     "execution_count": 12,
     "metadata": {},
     "output_type": "execute_result"
    }
   ],
   "source": [
    "y.value_counts()"
   ]
  },
  {
   "cell_type": "markdown",
   "metadata": {},
   "source": [
    "Sample based on training target values\n",
    "- oversampling takes a long time and duplicates entries\n",
    "- undersampling reduces the entries in the majority class"
   ]
  },
  {
   "cell_type": "markdown",
   "metadata": {},
   "source": [
    "Create a dictionary and a list to store results of comparisons"
   ]
  },
  {
   "cell_type": "code",
   "execution_count": 13,
   "metadata": {},
   "outputs": [],
   "source": [
    "index = []\n",
    "scores = {\"Accuracy\": [], \"Balanced accuracy\": []}"
   ]
  },
  {
   "cell_type": "markdown",
   "metadata": {},
   "source": [
    "### Pipeline for processing model inputs\n",
    "- Encode categorical and standardize numerical columns\n",
    "- Preprocessing is different per model (scaling for LR, ordinal encoding for RF)"
   ]
  },
  {
   "cell_type": "markdown",
   "metadata": {},
   "source": [
    "LR preprocessing"
   ]
  },
  {
   "cell_type": "code",
   "execution_count": 14,
   "metadata": {},
   "outputs": [],
   "source": [
    "num_pipe = SimpleImputer(strategy=\"mean\", add_indicator=True)\n",
    "\n",
    "cat_pipe = make_pipeline(SimpleImputer(strategy=\"constant\", fill_value=\"missing\"), \n",
    "                         OneHotEncoder(handle_unknown=\"ignore\"),\n",
    "                         OrdinalEncoder(handle_unknown=\"use_encoded_value\", unknown_value=-1))\n",
    "\n",
    "preprocessor_linear = make_column_transformer(\n",
    "    (num_pipe, selector(dtype_include=\"number\")),\n",
    "    (cat_pipe, selector(dtype_include=\"category\")),\n",
    "    n_jobs=2,)"
   ]
  },
  {
   "cell_type": "markdown",
   "metadata": {},
   "source": [
    "RF preprocessing"
   ]
  },
  {
   "cell_type": "code",
   "execution_count": 15,
   "metadata": {},
   "outputs": [],
   "source": [
    "# num_pipe = make_pipeline(StandardScaler(), SimpleImputer(strategy=\"mean\", add_indicator=True))\n",
    "\n",
    "preprocessor_tree = make_column_transformer(\n",
    "    (num_pipe, selector(dtype_include=\"number\")),\n",
    "    (cat_pipe, selector(dtype_include=\"category\")),\n",
    "    n_jobs=2,)"
   ]
  },
  {
   "cell_type": "markdown",
   "metadata": {},
   "source": [
    "## Classifiers\n",
    "- All models are influenced by imbalanced class; RF is slightly less influenced than the linear model"
   ]
  },
  {
   "cell_type": "markdown",
   "metadata": {},
   "source": [
    "### Dummy baseline"
   ]
  },
  {
   "cell_type": "code",
   "execution_count": 16,
   "metadata": {},
   "outputs": [
    {
     "data": {
      "text/html": [
       "<div>\n",
       "<style scoped>\n",
       "    .dataframe tbody tr th:only-of-type {\n",
       "        vertical-align: middle;\n",
       "    }\n",
       "\n",
       "    .dataframe tbody tr th {\n",
       "        vertical-align: top;\n",
       "    }\n",
       "\n",
       "    .dataframe thead th {\n",
       "        text-align: right;\n",
       "    }\n",
       "</style>\n",
       "<table border=\"1\" class=\"dataframe\">\n",
       "  <thead>\n",
       "    <tr style=\"text-align: right;\">\n",
       "      <th></th>\n",
       "      <th>Accuracy</th>\n",
       "      <th>Balanced accuracy</th>\n",
       "    </tr>\n",
       "  </thead>\n",
       "  <tbody>\n",
       "    <tr>\n",
       "      <th>Dummy classifier</th>\n",
       "      <td>0.542115</td>\n",
       "      <td>0.500423</td>\n",
       "    </tr>\n",
       "  </tbody>\n",
       "</table>\n",
       "</div>"
      ],
      "text/plain": [
       "                  Accuracy  Balanced accuracy\n",
       "Dummy classifier  0.542115           0.500423"
      ]
     },
     "execution_count": 16,
     "metadata": {},
     "output_type": "execute_result"
    }
   ],
   "source": [
    "dummy_clf = DummyClassifier(strategy=\"stratified\", random_state=42)\n",
    "scoring = [\"accuracy\", \"balanced_accuracy\"]\n",
    "\n",
    "index += [\"Dummy classifier\"]\n",
    "cv_result = cross_validate(dummy_clf, X_train, y_train, scoring=scoring)\n",
    "scores[\"Accuracy\"].append(cv_result[\"test_accuracy\"].mean())\n",
    "scores[\"Balanced accuracy\"].append(cv_result[\"test_balanced_accuracy\"].mean())\n",
    "\n",
    "df_scores = pd.DataFrame(scores, index=index)\n",
    "df_scores"
   ]
  },
  {
   "cell_type": "markdown",
   "metadata": {},
   "source": [
    "### Linear classifier baseline\n",
    "- Logistic regression is a good baseline algorithm (extension of a GLM with interpretable feature weights)"
   ]
  },
  {
   "cell_type": "code",
   "execution_count": 17,
   "metadata": {},
   "outputs": [
    {
     "data": {
      "text/html": [
       "<div>\n",
       "<style scoped>\n",
       "    .dataframe tbody tr th:only-of-type {\n",
       "        vertical-align: middle;\n",
       "    }\n",
       "\n",
       "    .dataframe tbody tr th {\n",
       "        vertical-align: top;\n",
       "    }\n",
       "\n",
       "    .dataframe thead th {\n",
       "        text-align: right;\n",
       "    }\n",
       "</style>\n",
       "<table border=\"1\" class=\"dataframe\">\n",
       "  <thead>\n",
       "    <tr style=\"text-align: right;\">\n",
       "      <th></th>\n",
       "      <th>Accuracy</th>\n",
       "      <th>Balanced accuracy</th>\n",
       "    </tr>\n",
       "  </thead>\n",
       "  <tbody>\n",
       "    <tr>\n",
       "      <th>Dummy classifier</th>\n",
       "      <td>0.542115</td>\n",
       "      <td>0.500423</td>\n",
       "    </tr>\n",
       "    <tr>\n",
       "      <th>Logistic regression</th>\n",
       "      <td>0.769471</td>\n",
       "      <td>0.751897</td>\n",
       "    </tr>\n",
       "  </tbody>\n",
       "</table>\n",
       "</div>"
      ],
      "text/plain": [
       "                     Accuracy  Balanced accuracy\n",
       "Dummy classifier     0.542115           0.500423\n",
       "Logistic regression  0.769471           0.751897"
      ]
     },
     "execution_count": 17,
     "metadata": {},
     "output_type": "execute_result"
    }
   ],
   "source": [
    "# lr_clf = LogisticRegression(solver='lbfgs', max_iter=1000, random_state=42)\n",
    "lr_clf = make_pipeline(preprocessor_linear, LogisticRegression(max_iter=1000))\n",
    "\n",
    "index += [\"Logistic regression\"]\n",
    "cv_result = cross_validate(lr_clf, X_train, y_train, scoring=scoring)\n",
    "scores[\"Accuracy\"].append(cv_result[\"test_accuracy\"].mean())\n",
    "scores[\"Balanced accuracy\"].append(cv_result[\"test_balanced_accuracy\"].mean())\n",
    "\n",
    "df_scores = pd.DataFrame(scores, index=index)\n",
    "df_scores"
   ]
  },
  {
   "cell_type": "markdown",
   "metadata": {},
   "source": [
    "### Random forest baseline\n",
    "- determine n jobs needed"
   ]
  },
  {
   "cell_type": "code",
   "execution_count": 18,
   "metadata": {},
   "outputs": [
    {
     "name": "stdout",
     "output_type": "stream",
     "text": [
      "CPU times: user 873 ms, sys: 45.6 ms, total: 918 ms\n",
      "Wall time: 534 ms\n"
     ]
    },
    {
     "data": {
      "text/html": [
       "<div>\n",
       "<style scoped>\n",
       "    .dataframe tbody tr th:only-of-type {\n",
       "        vertical-align: middle;\n",
       "    }\n",
       "\n",
       "    .dataframe tbody tr th {\n",
       "        vertical-align: top;\n",
       "    }\n",
       "\n",
       "    .dataframe thead th {\n",
       "        text-align: right;\n",
       "    }\n",
       "</style>\n",
       "<table border=\"1\" class=\"dataframe\">\n",
       "  <thead>\n",
       "    <tr style=\"text-align: right;\">\n",
       "      <th></th>\n",
       "      <th>Accuracy</th>\n",
       "      <th>Balanced accuracy</th>\n",
       "    </tr>\n",
       "  </thead>\n",
       "  <tbody>\n",
       "    <tr>\n",
       "      <th>Dummy classifier</th>\n",
       "      <td>0.542115</td>\n",
       "      <td>0.500423</td>\n",
       "    </tr>\n",
       "    <tr>\n",
       "      <th>Logistic regression</th>\n",
       "      <td>0.769471</td>\n",
       "      <td>0.751897</td>\n",
       "    </tr>\n",
       "    <tr>\n",
       "      <th>Random forest</th>\n",
       "      <td>0.713462</td>\n",
       "      <td>0.700321</td>\n",
       "    </tr>\n",
       "  </tbody>\n",
       "</table>\n",
       "</div>"
      ],
      "text/plain": [
       "                     Accuracy  Balanced accuracy\n",
       "Dummy classifier     0.542115           0.500423\n",
       "Logistic regression  0.769471           0.751897\n",
       "Random forest        0.713462           0.700321"
      ]
     },
     "execution_count": 18,
     "metadata": {},
     "output_type": "execute_result"
    }
   ],
   "source": [
    "rf_pipe = RandomForestClassifier(n_jobs=2, random_state=42)\n",
    "rf_clf = make_pipeline(preprocessor_tree, rf_pipe)\n",
    "\n",
    "index += [\"Random forest\"]\n",
    "%time cv_result = cross_validate(rf_clf, X_train, y_train, scoring=scoring)\n",
    "scores[\"Accuracy\"].append(cv_result[\"test_accuracy\"].mean())\n",
    "scores[\"Balanced accuracy\"].append(cv_result[\"test_balanced_accuracy\"].mean())\n",
    "\n",
    "df_scores = pd.DataFrame(scores, index=index)\n",
    "df_scores"
   ]
  },
  {
   "cell_type": "markdown",
   "metadata": {},
   "source": [
    "## Improve model performance\n",
    "- Use balanced class weight\n",
    "- Sample training set during learning"
   ]
  },
  {
   "cell_type": "markdown",
   "metadata": {},
   "source": [
    "### Class weight"
   ]
  },
  {
   "cell_type": "markdown",
   "metadata": {},
   "source": [
    "Logistic regression with balanced class weight"
   ]
  },
  {
   "cell_type": "code",
   "execution_count": 19,
   "metadata": {},
   "outputs": [
    {
     "data": {
      "text/html": [
       "<div>\n",
       "<style scoped>\n",
       "    .dataframe tbody tr th:only-of-type {\n",
       "        vertical-align: middle;\n",
       "    }\n",
       "\n",
       "    .dataframe tbody tr th {\n",
       "        vertical-align: top;\n",
       "    }\n",
       "\n",
       "    .dataframe thead th {\n",
       "        text-align: right;\n",
       "    }\n",
       "</style>\n",
       "<table border=\"1\" class=\"dataframe\">\n",
       "  <thead>\n",
       "    <tr style=\"text-align: right;\">\n",
       "      <th></th>\n",
       "      <th>Accuracy</th>\n",
       "      <th>Balanced accuracy</th>\n",
       "    </tr>\n",
       "  </thead>\n",
       "  <tbody>\n",
       "    <tr>\n",
       "      <th>Dummy classifier</th>\n",
       "      <td>0.542115</td>\n",
       "      <td>0.500423</td>\n",
       "    </tr>\n",
       "    <tr>\n",
       "      <th>Logistic regression</th>\n",
       "      <td>0.769471</td>\n",
       "      <td>0.751897</td>\n",
       "    </tr>\n",
       "    <tr>\n",
       "      <th>Random forest</th>\n",
       "      <td>0.713462</td>\n",
       "      <td>0.700321</td>\n",
       "    </tr>\n",
       "    <tr>\n",
       "      <th>Logistic regression with balanced class weights</th>\n",
       "      <td>0.738365</td>\n",
       "      <td>0.753923</td>\n",
       "    </tr>\n",
       "  </tbody>\n",
       "</table>\n",
       "</div>"
      ],
      "text/plain": [
       "                                                 Accuracy  Balanced accuracy\n",
       "Dummy classifier                                 0.542115           0.500423\n",
       "Logistic regression                              0.769471           0.751897\n",
       "Random forest                                    0.713462           0.700321\n",
       "Logistic regression with balanced class weights  0.738365           0.753923"
      ]
     },
     "execution_count": 19,
     "metadata": {},
     "output_type": "execute_result"
    }
   ],
   "source": [
    "# lr_clf.set_params(class_weight=\"balanced\")\n",
    "lr_clf.set_params(logisticregression__class_weight=\"balanced\")\n",
    "\n",
    "index += [\"Logistic regression with balanced class weights\"]\n",
    "cv_result = cross_validate(lr_clf, X_train, y_train, scoring=scoring)\n",
    "scores[\"Accuracy\"].append(cv_result[\"test_accuracy\"].mean())\n",
    "scores[\"Balanced accuracy\"].append(cv_result[\"test_balanced_accuracy\"].mean())\n",
    "\n",
    "df_scores = pd.DataFrame(scores, index=index)\n",
    "df_scores"
   ]
  },
  {
   "cell_type": "markdown",
   "metadata": {},
   "source": [
    "Random forest with balanced class weight"
   ]
  },
  {
   "cell_type": "code",
   "execution_count": 20,
   "metadata": {},
   "outputs": [
    {
     "name": "stdout",
     "output_type": "stream",
     "text": [
      "CPU times: user 788 ms, sys: 44.1 ms, total: 832 ms\n",
      "Wall time: 537 ms\n"
     ]
    },
    {
     "data": {
      "text/html": [
       "<div>\n",
       "<style scoped>\n",
       "    .dataframe tbody tr th:only-of-type {\n",
       "        vertical-align: middle;\n",
       "    }\n",
       "\n",
       "    .dataframe tbody tr th {\n",
       "        vertical-align: top;\n",
       "    }\n",
       "\n",
       "    .dataframe thead th {\n",
       "        text-align: right;\n",
       "    }\n",
       "</style>\n",
       "<table border=\"1\" class=\"dataframe\">\n",
       "  <thead>\n",
       "    <tr style=\"text-align: right;\">\n",
       "      <th></th>\n",
       "      <th>Accuracy</th>\n",
       "      <th>Balanced accuracy</th>\n",
       "    </tr>\n",
       "  </thead>\n",
       "  <tbody>\n",
       "    <tr>\n",
       "      <th>Dummy classifier</th>\n",
       "      <td>0.542115</td>\n",
       "      <td>0.500423</td>\n",
       "    </tr>\n",
       "    <tr>\n",
       "      <th>Logistic regression</th>\n",
       "      <td>0.769471</td>\n",
       "      <td>0.751897</td>\n",
       "    </tr>\n",
       "    <tr>\n",
       "      <th>Random forest</th>\n",
       "      <td>0.713462</td>\n",
       "      <td>0.700321</td>\n",
       "    </tr>\n",
       "    <tr>\n",
       "      <th>Logistic regression with balanced class weights</th>\n",
       "      <td>0.738365</td>\n",
       "      <td>0.753923</td>\n",
       "    </tr>\n",
       "    <tr>\n",
       "      <th>Random forest with balanced class weights</th>\n",
       "      <td>0.704038</td>\n",
       "      <td>0.694064</td>\n",
       "    </tr>\n",
       "  </tbody>\n",
       "</table>\n",
       "</div>"
      ],
      "text/plain": [
       "                                                 Accuracy  Balanced accuracy\n",
       "Dummy classifier                                 0.542115           0.500423\n",
       "Logistic regression                              0.769471           0.751897\n",
       "Random forest                                    0.713462           0.700321\n",
       "Logistic regression with balanced class weights  0.738365           0.753923\n",
       "Random forest with balanced class weights        0.704038           0.694064"
      ]
     },
     "execution_count": 20,
     "metadata": {},
     "output_type": "execute_result"
    }
   ],
   "source": [
    "# rf_clf.set_params(class_weight=\"balanced\")\n",
    "rf_clf.set_params(randomforestclassifier__class_weight=\"balanced\")\n",
    "\n",
    "index += [\"Random forest with balanced class weights\"]\n",
    "%time cv_result = cross_validate(rf_clf, X_train, y_train, scoring=scoring)\n",
    "scores[\"Accuracy\"].append(cv_result[\"test_accuracy\"].mean())\n",
    "scores[\"Balanced accuracy\"].append(cv_result[\"test_balanced_accuracy\"].mean())\n",
    "\n",
    "df_scores = pd.DataFrame(scores, index=index)\n",
    "df_scores"
   ]
  },
  {
   "cell_type": "markdown",
   "metadata": {},
   "source": [
    "## Grid Search"
   ]
  },
  {
   "cell_type": "code",
   "execution_count": 21,
   "metadata": {},
   "outputs": [],
   "source": [
    "# np.random.seed(1)\n",
    "\n",
    "# pipe = Pipeline([(\"classifier\", ComplementNB())])\n",
    "\n",
    "# search_space = [{\"classifier\": [DummyClassifier(strategy='stratified',\n",
    "#                                                 random_state=1)]}, \n",
    "#                 {\"classifier\": [RandomForestClassifier()]}, \n",
    "#                 {\"classifier\": [LogisticRegression(solver='lbfgs')]}]\n",
    "\n",
    "# gridsearch = GridSearchCV(pipe, search_space, cv=10)\n",
    "\n",
    "# %time best_model = gridsearch.fit(X_train, y_train)\n",
    "# sorted(gridsearch.cv_results_.keys())\n",
    "# best_model.best_estimator_.get_params()[\"classifier\"]"
   ]
  },
  {
   "cell_type": "markdown",
   "metadata": {},
   "source": [
    "## Best models"
   ]
  },
  {
   "cell_type": "markdown",
   "metadata": {},
   "source": [
    "Logistic Regression (balanced)"
   ]
  },
  {
   "cell_type": "code",
   "execution_count": 22,
   "metadata": {},
   "outputs": [
    {
     "data": {
      "text/plain": [
       "0.72"
      ]
     },
     "execution_count": 22,
     "metadata": {},
     "output_type": "execute_result"
    }
   ],
   "source": [
    "balanced_lr = lr_clf.fit(X_train, y_train).set_params(logisticregression__class_weight=\"balanced\")\n",
    "y_pred_class = balanced_lr.predict(X_test)\n",
    "\n",
    "metrics.accuracy_score(y_test, y_pred_class).round(decimals=2)"
   ]
  },
  {
   "cell_type": "markdown",
   "metadata": {},
   "source": [
    "Random Forest (balanced)"
   ]
  },
  {
   "cell_type": "code",
   "execution_count": 23,
   "metadata": {},
   "outputs": [
    {
     "data": {
      "text/plain": [
       "0.63"
      ]
     },
     "execution_count": 23,
     "metadata": {},
     "output_type": "execute_result"
    }
   ],
   "source": [
    "balanced_forests = rf_clf.fit(X_train, y_train).set_params(randomforestclassifier__class_weight=\"balanced\")\n",
    "y_pred_class = balanced_forests.predict(X_test)\n",
    "\n",
    "metrics.accuracy_score(y_test, y_pred_class).round(decimals=2)"
   ]
  },
  {
   "cell_type": "markdown",
   "metadata": {},
   "source": [
    "The best model is doing a good job of predicting false instances but is missing true instances. This model also has much higher recall for true citations, but very low precision... why?"
   ]
  },
  {
   "cell_type": "code",
   "execution_count": 24,
   "metadata": {},
   "outputs": [
    {
     "name": "stdout",
     "output_type": "stream",
     "text": [
      "              precision    recall  f1-score   support\n",
      "\n",
      "       False       0.71      0.65      0.68        49\n",
      "        True       0.53      0.59      0.56        32\n",
      "\n",
      "    accuracy                           0.63        81\n",
      "   macro avg       0.62      0.62      0.62        81\n",
      "weighted avg       0.64      0.63      0.63        81\n",
      "\n"
     ]
    }
   ],
   "source": [
    "print(metrics.classification_report(y_test, y_pred_class))"
   ]
  },
  {
   "cell_type": "markdown",
   "metadata": {},
   "source": [
    "## Feature importance"
   ]
  },
  {
   "cell_type": "markdown",
   "metadata": {},
   "source": [
    "Inspect model feature importance for features that seem to be have more discriminatory power."
   ]
  },
  {
   "cell_type": "markdown",
   "metadata": {},
   "source": [
    "Random Forest: \"The results suggest perhaps two or three of the N features as being important to prediction.\""
   ]
  },
  {
   "cell_type": "code",
   "execution_count": 25,
   "metadata": {},
   "outputs": [
    {
     "data": {
      "text/plain": [
       "<AxesSubplot:>"
      ]
     },
     "execution_count": 25,
     "metadata": {},
     "output_type": "execute_result"
    },
    {
     "data": {
      "image/png": "[encoded data removed]",
      "text/plain": [
       "<Figure size 720x720 with 1 Axes>"
      ]
     },
     "metadata": {
      "needs_background": "light"
     },
     "output_type": "display_data"
    }
   ],
   "source": [
    "feats = {} \n",
    "for feature, importance in zip(X.columns, balanced_forests.named_steps[\"randomforestclassifier\"].feature_importances_):\n",
    "    feats[feature] = importance\n",
    "\n",
    "importances = pd.DataFrame.from_dict(feats, orient='index').rename(columns={0: 'Importance'})\n",
    "importances.sort_values(by='Importance').plot(kind='barh',figsize=(10,10))"
   ]
  },
  {
   "cell_type": "markdown",
   "metadata": {},
   "source": [
    "Logistic Regression: \n",
    "\"Recall this is a classification problem with classes 0 and 1. Notice that the coefficients are both positive and negative. The positive scores indicate a feature that predicts class 1, whereas the negative scores indicate a feature that predicts class 0.\"\n",
    "(https://machinelearningmastery.com/calculate-feature-importance-with-python/)"
   ]
  },
  {
   "cell_type": "code",
   "execution_count": 26,
   "metadata": {},
   "outputs": [
    {
     "data": {
      "text/plain": [
       "<AxesSubplot:>"
      ]
     },
     "execution_count": 26,
     "metadata": {},
     "output_type": "execute_result"
    },
    {
     "data": {
      "image/png": "[encoded data removed]",
      "text/plain": [
       "<Figure size 720x720 with 1 Axes>"
      ]
     },
     "metadata": {
      "needs_background": "light"
     },
     "output_type": "display_data"
    }
   ],
   "source": [
    "feats = {} \n",
    "for feature, importance in zip(X.columns, balanced_lr.named_steps[\"logisticregression\"].coef_[0]):\n",
    "    feats[feature] = importance\n",
    "\n",
    "importances = pd.DataFrame.from_dict(feats, orient='index').rename(columns={0: 'Importance'})\n",
    "importances.sort_values(by='Importance').plot(kind='barh',figsize=(10,10))"
   ]
  },
  {
   "cell_type": "markdown",
   "metadata": {},
   "source": [
    "## Prediction probabilities\n",
    "We can use cols `prob_0` and `prob_1` to filter sentences (as a way of guessing whether it is a citance)"
   ]
  },
  {
   "cell_type": "code",
   "execution_count": 27,
   "metadata": {},
   "outputs": [],
   "source": [
    "prob = balanced_forests.predict_proba(X_test)\n",
    "df_test = pd.DataFrame(X_test)\n",
    "df_test['prob_0'] = prob[:,0] \n",
    "df_test['prob_1'] = prob[:,1]\n",
    "df_test['Target'] = y_test"
   ]
  },
  {
   "cell_type": "code",
   "execution_count": 28,
   "metadata": {},
   "outputs": [
    {
     "data": {
      "text/html": [
       "<div>\n",
       "<style scoped>\n",
       "    .dataframe tbody tr th:only-of-type {\n",
       "        vertical-align: middle;\n",
       "    }\n",
       "\n",
       "    .dataframe tbody tr th {\n",
       "        vertical-align: top;\n",
       "    }\n",
       "\n",
       "    .dataframe thead th {\n",
       "        text-align: right;\n",
       "    }\n",
       "</style>\n",
       "<table border=\"1\" class=\"dataframe\">\n",
       "  <thead>\n",
       "    <tr style=\"text-align: right;\">\n",
       "      <th></th>\n",
       "      <th>hasData</th>\n",
       "      <th>hasEdu</th>\n",
       "      <th>hasSample</th>\n",
       "      <th>hasNational</th>\n",
       "      <th>hasSurvey</th>\n",
       "      <th>hasPublic</th>\n",
       "      <th>hasAvailab</th>\n",
       "      <th>hasNSF</th>\n",
       "      <th>hasGov</th>\n",
       "      <th>hasAccess</th>\n",
       "      <th>...</th>\n",
       "      <th>inMeth</th>\n",
       "      <th>inVari</th>\n",
       "      <th>inIntr</th>\n",
       "      <th>inLimi</th>\n",
       "      <th>inAnal</th>\n",
       "      <th>inResu</th>\n",
       "      <th>hasAcronym</th>\n",
       "      <th>prob_0</th>\n",
       "      <th>prob_1</th>\n",
       "      <th>Target</th>\n",
       "    </tr>\n",
       "  </thead>\n",
       "  <tbody>\n",
       "    <tr>\n",
       "      <th>1949</th>\n",
       "      <td>1</td>\n",
       "      <td>0</td>\n",
       "      <td>0</td>\n",
       "      <td>0</td>\n",
       "      <td>0</td>\n",
       "      <td>0</td>\n",
       "      <td>0</td>\n",
       "      <td>0</td>\n",
       "      <td>0</td>\n",
       "      <td>0</td>\n",
       "      <td>...</td>\n",
       "      <td>0</td>\n",
       "      <td>0</td>\n",
       "      <td>0</td>\n",
       "      <td>0</td>\n",
       "      <td>0</td>\n",
       "      <td>0</td>\n",
       "      <td>1</td>\n",
       "      <td>0.217273</td>\n",
       "      <td>0.782727</td>\n",
       "      <td>True</td>\n",
       "    </tr>\n",
       "    <tr>\n",
       "      <th>132</th>\n",
       "      <td>0</td>\n",
       "      <td>0</td>\n",
       "      <td>0</td>\n",
       "      <td>0</td>\n",
       "      <td>0</td>\n",
       "      <td>0</td>\n",
       "      <td>0</td>\n",
       "      <td>0</td>\n",
       "      <td>0</td>\n",
       "      <td>0</td>\n",
       "      <td>...</td>\n",
       "      <td>0</td>\n",
       "      <td>0</td>\n",
       "      <td>0</td>\n",
       "      <td>0</td>\n",
       "      <td>0</td>\n",
       "      <td>0</td>\n",
       "      <td>0</td>\n",
       "      <td>0.996497</td>\n",
       "      <td>0.003503</td>\n",
       "      <td>False</td>\n",
       "    </tr>\n",
       "    <tr>\n",
       "      <th>189</th>\n",
       "      <td>0</td>\n",
       "      <td>0</td>\n",
       "      <td>0</td>\n",
       "      <td>0</td>\n",
       "      <td>0</td>\n",
       "      <td>0</td>\n",
       "      <td>0</td>\n",
       "      <td>0</td>\n",
       "      <td>0</td>\n",
       "      <td>0</td>\n",
       "      <td>...</td>\n",
       "      <td>0</td>\n",
       "      <td>0</td>\n",
       "      <td>0</td>\n",
       "      <td>0</td>\n",
       "      <td>0</td>\n",
       "      <td>0</td>\n",
       "      <td>0</td>\n",
       "      <td>0.988931</td>\n",
       "      <td>0.011069</td>\n",
       "      <td>False</td>\n",
       "    </tr>\n",
       "    <tr>\n",
       "      <th>60</th>\n",
       "      <td>0</td>\n",
       "      <td>0</td>\n",
       "      <td>0</td>\n",
       "      <td>0</td>\n",
       "      <td>0</td>\n",
       "      <td>0</td>\n",
       "      <td>0</td>\n",
       "      <td>0</td>\n",
       "      <td>0</td>\n",
       "      <td>0</td>\n",
       "      <td>...</td>\n",
       "      <td>0</td>\n",
       "      <td>0</td>\n",
       "      <td>0</td>\n",
       "      <td>0</td>\n",
       "      <td>0</td>\n",
       "      <td>0</td>\n",
       "      <td>0</td>\n",
       "      <td>0.963669</td>\n",
       "      <td>0.036331</td>\n",
       "      <td>False</td>\n",
       "    </tr>\n",
       "    <tr>\n",
       "      <th>20</th>\n",
       "      <td>0</td>\n",
       "      <td>0</td>\n",
       "      <td>0</td>\n",
       "      <td>0</td>\n",
       "      <td>0</td>\n",
       "      <td>1</td>\n",
       "      <td>0</td>\n",
       "      <td>0</td>\n",
       "      <td>1</td>\n",
       "      <td>0</td>\n",
       "      <td>...</td>\n",
       "      <td>0</td>\n",
       "      <td>0</td>\n",
       "      <td>0</td>\n",
       "      <td>0</td>\n",
       "      <td>0</td>\n",
       "      <td>0</td>\n",
       "      <td>0</td>\n",
       "      <td>0.980759</td>\n",
       "      <td>0.019241</td>\n",
       "      <td>False</td>\n",
       "    </tr>\n",
       "    <tr>\n",
       "      <th>...</th>\n",
       "      <td>...</td>\n",
       "      <td>...</td>\n",
       "      <td>...</td>\n",
       "      <td>...</td>\n",
       "      <td>...</td>\n",
       "      <td>...</td>\n",
       "      <td>...</td>\n",
       "      <td>...</td>\n",
       "      <td>...</td>\n",
       "      <td>...</td>\n",
       "      <td>...</td>\n",
       "      <td>...</td>\n",
       "      <td>...</td>\n",
       "      <td>...</td>\n",
       "      <td>...</td>\n",
       "      <td>...</td>\n",
       "      <td>...</td>\n",
       "      <td>...</td>\n",
       "      <td>...</td>\n",
       "      <td>...</td>\n",
       "      <td>...</td>\n",
       "    </tr>\n",
       "    <tr>\n",
       "      <th>2052</th>\n",
       "      <td>0</td>\n",
       "      <td>0</td>\n",
       "      <td>0</td>\n",
       "      <td>0</td>\n",
       "      <td>0</td>\n",
       "      <td>0</td>\n",
       "      <td>0</td>\n",
       "      <td>0</td>\n",
       "      <td>0</td>\n",
       "      <td>0</td>\n",
       "      <td>...</td>\n",
       "      <td>0</td>\n",
       "      <td>0</td>\n",
       "      <td>0</td>\n",
       "      <td>0</td>\n",
       "      <td>0</td>\n",
       "      <td>0</td>\n",
       "      <td>1</td>\n",
       "      <td>0.841236</td>\n",
       "      <td>0.158764</td>\n",
       "      <td>True</td>\n",
       "    </tr>\n",
       "    <tr>\n",
       "      <th>56</th>\n",
       "      <td>0</td>\n",
       "      <td>0</td>\n",
       "      <td>0</td>\n",
       "      <td>0</td>\n",
       "      <td>0</td>\n",
       "      <td>0</td>\n",
       "      <td>0</td>\n",
       "      <td>0</td>\n",
       "      <td>0</td>\n",
       "      <td>0</td>\n",
       "      <td>...</td>\n",
       "      <td>0</td>\n",
       "      <td>0</td>\n",
       "      <td>0</td>\n",
       "      <td>0</td>\n",
       "      <td>0</td>\n",
       "      <td>0</td>\n",
       "      <td>0</td>\n",
       "      <td>0.963669</td>\n",
       "      <td>0.036331</td>\n",
       "      <td>False</td>\n",
       "    </tr>\n",
       "    <tr>\n",
       "      <th>52</th>\n",
       "      <td>0</td>\n",
       "      <td>0</td>\n",
       "      <td>0</td>\n",
       "      <td>0</td>\n",
       "      <td>0</td>\n",
       "      <td>0</td>\n",
       "      <td>0</td>\n",
       "      <td>0</td>\n",
       "      <td>0</td>\n",
       "      <td>1</td>\n",
       "      <td>...</td>\n",
       "      <td>0</td>\n",
       "      <td>0</td>\n",
       "      <td>1</td>\n",
       "      <td>0</td>\n",
       "      <td>0</td>\n",
       "      <td>0</td>\n",
       "      <td>0</td>\n",
       "      <td>0.970000</td>\n",
       "      <td>0.030000</td>\n",
       "      <td>False</td>\n",
       "    </tr>\n",
       "    <tr>\n",
       "      <th>2003</th>\n",
       "      <td>0</td>\n",
       "      <td>0</td>\n",
       "      <td>0</td>\n",
       "      <td>0</td>\n",
       "      <td>0</td>\n",
       "      <td>0</td>\n",
       "      <td>0</td>\n",
       "      <td>0</td>\n",
       "      <td>0</td>\n",
       "      <td>0</td>\n",
       "      <td>...</td>\n",
       "      <td>0</td>\n",
       "      <td>0</td>\n",
       "      <td>0</td>\n",
       "      <td>0</td>\n",
       "      <td>0</td>\n",
       "      <td>1</td>\n",
       "      <td>1</td>\n",
       "      <td>0.277833</td>\n",
       "      <td>0.722167</td>\n",
       "      <td>True</td>\n",
       "    </tr>\n",
       "    <tr>\n",
       "      <th>2021</th>\n",
       "      <td>0</td>\n",
       "      <td>0</td>\n",
       "      <td>0</td>\n",
       "      <td>0</td>\n",
       "      <td>0</td>\n",
       "      <td>0</td>\n",
       "      <td>0</td>\n",
       "      <td>0</td>\n",
       "      <td>0</td>\n",
       "      <td>0</td>\n",
       "      <td>...</td>\n",
       "      <td>0</td>\n",
       "      <td>1</td>\n",
       "      <td>0</td>\n",
       "      <td>0</td>\n",
       "      <td>0</td>\n",
       "      <td>0</td>\n",
       "      <td>1</td>\n",
       "      <td>0.748586</td>\n",
       "      <td>0.251414</td>\n",
       "      <td>True</td>\n",
       "    </tr>\n",
       "  </tbody>\n",
       "</table>\n",
       "<p>81 rows × 34 columns</p>\n",
       "</div>"
      ],
      "text/plain": [
       "      hasData  hasEdu  hasSample  hasNational  hasSurvey  hasPublic  \\\n",
       "1949        1       0          0            0          0          0   \n",
       "132         0       0          0            0          0          0   \n",
       "189         0       0          0            0          0          0   \n",
       "60          0       0          0            0          0          0   \n",
       "20          0       0          0            0          0          1   \n",
       "...       ...     ...        ...          ...        ...        ...   \n",
       "2052        0       0          0            0          0          0   \n",
       "56          0       0          0            0          0          0   \n",
       "52          0       0          0            0          0          0   \n",
       "2003        0       0          0            0          0          0   \n",
       "2021        0       0          0            0          0          0   \n",
       "\n",
       "      hasAvailab  hasNSF  hasGov  hasAccess  ...  inMeth  inVari  inIntr  \\\n",
       "1949           0       0       0          0  ...       0       0       0   \n",
       "132            0       0       0          0  ...       0       0       0   \n",
       "189            0       0       0          0  ...       0       0       0   \n",
       "60             0       0       0          0  ...       0       0       0   \n",
       "20             0       0       1          0  ...       0       0       0   \n",
       "...          ...     ...     ...        ...  ...     ...     ...     ...   \n",
       "2052           0       0       0          0  ...       0       0       0   \n",
       "56             0       0       0          0  ...       0       0       0   \n",
       "52             0       0       0          1  ...       0       0       1   \n",
       "2003           0       0       0          0  ...       0       0       0   \n",
       "2021           0       0       0          0  ...       0       1       0   \n",
       "\n",
       "      inLimi  inAnal  inResu  hasAcronym    prob_0    prob_1  Target  \n",
       "1949       0       0       0           1  0.217273  0.782727    True  \n",
       "132        0       0       0           0  0.996497  0.003503   False  \n",
       "189        0       0       0           0  0.988931  0.011069   False  \n",
       "60         0       0       0           0  0.963669  0.036331   False  \n",
       "20         0       0       0           0  0.980759  0.019241   False  \n",
       "...      ...     ...     ...         ...       ...       ...     ...  \n",
       "2052       0       0       0           1  0.841236  0.158764    True  \n",
       "56         0       0       0           0  0.963669  0.036331   False  \n",
       "52         0       0       0           0  0.970000  0.030000   False  \n",
       "2003       0       0       1           1  0.277833  0.722167    True  \n",
       "2021       0       0       0           1  0.748586  0.251414    True  \n",
       "\n",
       "[81 rows x 34 columns]"
      ]
     },
     "execution_count": 28,
     "metadata": {},
     "output_type": "execute_result"
    }
   ],
   "source": [
    "df_test"
   ]
  },
  {
   "cell_type": "markdown",
   "metadata": {},
   "source": [
    "## Save best model"
   ]
  },
  {
   "cell_type": "code",
   "execution_count": 29,
   "metadata": {},
   "outputs": [],
   "source": [
    "# pkl_filename = \"./output/model-RF.pkl\"\n",
    "pkl_filename = \"./output/model-LR.pkl\"\n",
    "\n",
    "# with open(pkl_filename, 'wb') as file:\n",
    "#     pickle.dump(balanced_forests, file)"
   ]
  },
  {
   "cell_type": "code",
   "execution_count": null,
   "metadata": {},
   "outputs": [],
   "source": []
  }
 ],
 "metadata": {
  "kernelspec": {
   "display_name": "Python 3",
   "language": "python",
   "name": "python3"
  },
  "language_info": {
   "codemirror_mode": {
    "name": "ipython",
    "version": 3
   },
   "file_extension": ".py",
   "mimetype": "text/x-python",
   "name": "python",
   "nbconvert_exporter": "python",
   "pygments_lexer": "ipython3",
   "version": "3.9.5"
  }
 },
 "nbformat": 4,
 "nbformat_minor": 4
}
