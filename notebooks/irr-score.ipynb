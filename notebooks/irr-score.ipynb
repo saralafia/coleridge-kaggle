{
 "cells": [
  {
   "cell_type": "markdown",
   "id": "537d1dbb-6e62-4d97-83c3-08f7e29cbc9c",
   "metadata": {},
   "source": [
    "## IRR Score\n",
    "Scores inter-rater reliability for annotated training data"
   ]
  },
  {
   "cell_type": "code",
   "execution_count": 1,
   "id": "e252c1af-6171-47b8-929e-569d4b3c25cc",
   "metadata": {},
   "outputs": [],
   "source": [
    "import simpledorff\n",
    "import pandas as pd"
   ]
  },
  {
   "cell_type": "markdown",
   "id": "603af893-49a5-4f2f-8576-c4657d22b8f1",
   "metadata": {},
   "source": [
    "Import labels (4 annotators) and drop empty rows (sentences not annotated)\n",
    "- SL labeled 402\n",
    "- LH, EM, DB labeled 125"
   ]
  },
  {
   "cell_type": "code",
   "execution_count": 2,
   "id": "be5564ef-ce4c-4577-9317-5a5cbbac64de",
   "metadata": {},
   "outputs": [
    {
     "name": "stdout",
     "output_type": "stream",
     "text": [
      "<class 'pandas.core.frame.DataFrame'>\n",
      "Int64Index: 125 entries, 0 to 2055\n",
      "Data columns (total 23 columns):\n",
      " #   Column                      Non-Null Count  Dtype \n",
      "---  ------                      --------------  ----- \n",
      " 0   paper_id                    125 non-null    object\n",
      " 1   paper_title                 125 non-null    object\n",
      " 2   paper_section               118 non-null    object\n",
      " 3   source                      125 non-null    object\n",
      " 4   sentence_id                 125 non-null    int64 \n",
      " 5   sentence_text               125 non-null    object\n",
      " 6   text_referencing_dataset_1  125 non-null    object\n",
      " 7   labeler_1                   125 non-null    object\n",
      " 8   notes_1                     17 non-null     object\n",
      " 9   contains_dataset_1          125 non-null    object\n",
      " 10  text_referencing_dataset_2  125 non-null    object\n",
      " 11  labeler_2                   125 non-null    object\n",
      " 12  notes_2                     24 non-null     object\n",
      " 13  contains_dataset_2          125 non-null    object\n",
      " 14  text_referencing_dataset_3  125 non-null    object\n",
      " 15  labeler_3                   125 non-null    object\n",
      " 16  notes_3                     25 non-null     object\n",
      " 17  contains_dataset_3          125 non-null    object\n",
      " 18  text_referencing_dataset_4  125 non-null    object\n",
      " 19  labeler_4                   125 non-null    object\n",
      " 20  notes_4                     8 non-null      object\n",
      " 21  contains_dataset_4          125 non-null    object\n",
      " 22  agree_labels                125 non-null    bool  \n",
      "dtypes: bool(1), int64(1), object(21)\n",
      "memory usage: 22.6+ KB\n"
     ]
    }
   ],
   "source": [
    "df = pd.read_csv('../data/ner_annotate.csv')\n",
    "df = df.dropna(subset=['text_referencing_dataset_4'])\n",
    "df.info()"
   ]
  },
  {
   "cell_type": "markdown",
   "id": "2ccd8a9d-ea9e-4022-9596-2939a54cb454",
   "metadata": {},
   "source": [
    "Dataframe wide to long\n",
    "- combine `labler_1` through `labeler_4` to single col\n",
    "- combine `text_referencing_dataset_1` through `text_referencing_dataset_4` to single col"
   ]
  },
  {
   "cell_type": "code",
   "execution_count": 3,
   "id": "413b6d3d-f7dd-4ae8-9731-0520e8449718",
   "metadata": {},
   "outputs": [
    {
     "data": {
      "text/html": [
       "<div>\n",
       "<style scoped>\n",
       "    .dataframe tbody tr th:only-of-type {\n",
       "        vertical-align: middle;\n",
       "    }\n",
       "\n",
       "    .dataframe tbody tr th {\n",
       "        vertical-align: top;\n",
       "    }\n",
       "\n",
       "    .dataframe thead th {\n",
       "        text-align: right;\n",
       "    }\n",
       "</style>\n",
       "<table border=\"1\" class=\"dataframe\">\n",
       "  <thead>\n",
       "    <tr style=\"text-align: right;\">\n",
       "      <th></th>\n",
       "      <th>paper_id</th>\n",
       "      <th>sentence_id</th>\n",
       "      <th>variable</th>\n",
       "      <th>value</th>\n",
       "      <th>combo_id</th>\n",
       "    </tr>\n",
       "  </thead>\n",
       "  <tbody>\n",
       "    <tr>\n",
       "      <th>0</th>\n",
       "      <td>22f04ef5-6bf1-4221-ae9c-b60ee9847590</td>\n",
       "      <td>9</td>\n",
       "      <td>text_referencing_dataset_1</td>\n",
       "      <td>none</td>\n",
       "      <td>22f04ef5-6bf1-4221-ae9c-b60ee9847590.9</td>\n",
       "    </tr>\n",
       "    <tr>\n",
       "      <th>1</th>\n",
       "      <td>c5991999-d7bf-4dba-a6b5-d961a2540db2</td>\n",
       "      <td>11</td>\n",
       "      <td>text_referencing_dataset_1</td>\n",
       "      <td>none</td>\n",
       "      <td>c5991999-d7bf-4dba-a6b5-d961a2540db2.11</td>\n",
       "    </tr>\n",
       "    <tr>\n",
       "      <th>2</th>\n",
       "      <td>f1bcf379-29a5-41d5-bf08-6087560be3ac</td>\n",
       "      <td>18</td>\n",
       "      <td>text_referencing_dataset_1</td>\n",
       "      <td>none</td>\n",
       "      <td>f1bcf379-29a5-41d5-bf08-6087560be3ac.18</td>\n",
       "    </tr>\n",
       "    <tr>\n",
       "      <th>3</th>\n",
       "      <td>38c10b03-3356-404e-a321-d8301cd0ec4c</td>\n",
       "      <td>6</td>\n",
       "      <td>text_referencing_dataset_1</td>\n",
       "      <td>none</td>\n",
       "      <td>38c10b03-3356-404e-a321-d8301cd0ec4c.6</td>\n",
       "    </tr>\n",
       "    <tr>\n",
       "      <th>4</th>\n",
       "      <td>c36d60e3-05f3-4da5-8e85-1e31767d0cf5</td>\n",
       "      <td>28</td>\n",
       "      <td>text_referencing_dataset_1</td>\n",
       "      <td>none</td>\n",
       "      <td>c36d60e3-05f3-4da5-8e85-1e31767d0cf5.28</td>\n",
       "    </tr>\n",
       "    <tr>\n",
       "      <th>...</th>\n",
       "      <td>...</td>\n",
       "      <td>...</td>\n",
       "      <td>...</td>\n",
       "      <td>...</td>\n",
       "      <td>...</td>\n",
       "    </tr>\n",
       "    <tr>\n",
       "      <th>495</th>\n",
       "      <td>70f4c55e-347a-433a-a89b-335163191505</td>\n",
       "      <td>13</td>\n",
       "      <td>text_referencing_dataset_4</td>\n",
       "      <td>LEMAS-BWCS</td>\n",
       "      <td>70f4c55e-347a-433a-a89b-335163191505.13</td>\n",
       "    </tr>\n",
       "    <tr>\n",
       "      <th>496</th>\n",
       "      <td>cc9f13cb-1a5b-4b07-a097-fce2188c355b</td>\n",
       "      <td>5</td>\n",
       "      <td>text_referencing_dataset_4</td>\n",
       "      <td>ECLS-K</td>\n",
       "      <td>cc9f13cb-1a5b-4b07-a097-fce2188c355b.5</td>\n",
       "    </tr>\n",
       "    <tr>\n",
       "      <th>497</th>\n",
       "      <td>3f4495ac-1734-4610-9754-bab0d926a516</td>\n",
       "      <td>6</td>\n",
       "      <td>text_referencing_dataset_4</td>\n",
       "      <td>UCR</td>\n",
       "      <td>3f4495ac-1734-4610-9754-bab0d926a516.6</td>\n",
       "    </tr>\n",
       "    <tr>\n",
       "      <th>498</th>\n",
       "      <td>0a2b8819-7258-4b60-b999-ed73621380bb</td>\n",
       "      <td>2</td>\n",
       "      <td>text_referencing_dataset_4</td>\n",
       "      <td>UCR</td>\n",
       "      <td>0a2b8819-7258-4b60-b999-ed73621380bb.2</td>\n",
       "    </tr>\n",
       "    <tr>\n",
       "      <th>499</th>\n",
       "      <td>2d4dde0d-9630-4d3f-a391-cefa2bacc9c8</td>\n",
       "      <td>21</td>\n",
       "      <td>text_referencing_dataset_4</td>\n",
       "      <td>HSIS</td>\n",
       "      <td>2d4dde0d-9630-4d3f-a391-cefa2bacc9c8.21</td>\n",
       "    </tr>\n",
       "  </tbody>\n",
       "</table>\n",
       "<p>500 rows × 5 columns</p>\n",
       "</div>"
      ],
      "text/plain": [
       "                                 paper_id  sentence_id  \\\n",
       "0    22f04ef5-6bf1-4221-ae9c-b60ee9847590            9   \n",
       "1    c5991999-d7bf-4dba-a6b5-d961a2540db2           11   \n",
       "2    f1bcf379-29a5-41d5-bf08-6087560be3ac           18   \n",
       "3    38c10b03-3356-404e-a321-d8301cd0ec4c            6   \n",
       "4    c36d60e3-05f3-4da5-8e85-1e31767d0cf5           28   \n",
       "..                                    ...          ...   \n",
       "495  70f4c55e-347a-433a-a89b-335163191505           13   \n",
       "496  cc9f13cb-1a5b-4b07-a097-fce2188c355b            5   \n",
       "497  3f4495ac-1734-4610-9754-bab0d926a516            6   \n",
       "498  0a2b8819-7258-4b60-b999-ed73621380bb            2   \n",
       "499  2d4dde0d-9630-4d3f-a391-cefa2bacc9c8           21   \n",
       "\n",
       "                       variable       value  \\\n",
       "0    text_referencing_dataset_1        none   \n",
       "1    text_referencing_dataset_1        none   \n",
       "2    text_referencing_dataset_1        none   \n",
       "3    text_referencing_dataset_1        none   \n",
       "4    text_referencing_dataset_1        none   \n",
       "..                          ...         ...   \n",
       "495  text_referencing_dataset_4  LEMAS-BWCS   \n",
       "496  text_referencing_dataset_4      ECLS-K   \n",
       "497  text_referencing_dataset_4         UCR   \n",
       "498  text_referencing_dataset_4         UCR   \n",
       "499  text_referencing_dataset_4        HSIS   \n",
       "\n",
       "                                    combo_id  \n",
       "0     22f04ef5-6bf1-4221-ae9c-b60ee9847590.9  \n",
       "1    c5991999-d7bf-4dba-a6b5-d961a2540db2.11  \n",
       "2    f1bcf379-29a5-41d5-bf08-6087560be3ac.18  \n",
       "3     38c10b03-3356-404e-a321-d8301cd0ec4c.6  \n",
       "4    c36d60e3-05f3-4da5-8e85-1e31767d0cf5.28  \n",
       "..                                       ...  \n",
       "495  70f4c55e-347a-433a-a89b-335163191505.13  \n",
       "496   cc9f13cb-1a5b-4b07-a097-fce2188c355b.5  \n",
       "497   3f4495ac-1734-4610-9754-bab0d926a516.6  \n",
       "498   0a2b8819-7258-4b60-b999-ed73621380bb.2  \n",
       "499  2d4dde0d-9630-4d3f-a391-cefa2bacc9c8.21  \n",
       "\n",
       "[500 rows x 5 columns]"
      ]
     },
     "execution_count": 3,
     "metadata": {},
     "output_type": "execute_result"
    }
   ],
   "source": [
    "df = df.reset_index()\n",
    "df = pd.melt(df, id_vars=['paper_id', 'sentence_id'], value_vars=['text_referencing_dataset_1', \n",
    "                                            'text_referencing_dataset_2', \n",
    "                                            'text_referencing_dataset_3', \n",
    "                                            'text_referencing_dataset_4'])\n",
    "\n",
    "df['combo_id'] = df['paper_id'].astype(str) + '.' + df['sentence_id'].astype(str)\n",
    "df"
   ]
  },
  {
   "cell_type": "code",
   "execution_count": 4,
   "id": "0eef57de-3d92-409d-87ae-6606220c4f91",
   "metadata": {},
   "outputs": [
    {
     "data": {
      "text/plain": [
       "0.8655845030421212"
      ]
     },
     "execution_count": 4,
     "metadata": {},
     "output_type": "execute_result"
    }
   ],
   "source": [
    "simpledorff.calculate_krippendorffs_alpha_for_df(df, \n",
    "                                                 experiment_col='combo_id',\n",
    "                                                 annotator_col='variable',\n",
    "                                                 class_col='value')"
   ]
  },
  {
   "cell_type": "code",
   "execution_count": null,
   "id": "3c391abe-0f1e-41bd-9877-31fd6ba9a5fc",
   "metadata": {},
   "outputs": [],
   "source": []
  }
 ],
 "metadata": {
  "kernelspec": {
   "display_name": "Python 3",
   "language": "python",
   "name": "python3"
  },
  "language_info": {
   "codemirror_mode": {
    "name": "ipython",
    "version": 3
   },
   "file_extension": ".py",
   "mimetype": "text/x-python",
   "name": "python",
   "nbconvert_exporter": "python",
   "pygments_lexer": "ipython3",
   "version": "3.9.5"
  }
 },
 "nbformat": 4,
 "nbformat_minor": 5
}
