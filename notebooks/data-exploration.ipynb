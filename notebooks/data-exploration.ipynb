{
 "cells": [
  {
   "cell_type": "markdown",
   "metadata": {},
   "source": [
    "# Data exploration\n",
    "Understanding the structure of training data and publications provided by [Coleridge Kaggle](https://www.kaggle.com/c/coleridgeinitiative-show-us-the-data/data) competition (section titles, indicator terms). Adapted to also explore manually explore training data (sentences) for feature selection. \n",
    "\n",
    "Questions:\n",
    "1. Where in publications do data citations occur? (Introduction, Abstract, Discussion...)\n",
    "2. Are more data citations formal or informal? (mostly informal; no reference section given, evidence that title variants used)\n",
    "3. What indicator terms accompany a data citation? (\"com\", \"inc\", \"dataset\", \"obtained from\", \"database\")\n",
    "4. What named entities are mentioned in data citations? (ORG, CARDINAL, DATE...)\n",
    "5. What distinctive terms are found in data titles/labels/citations? (TF-IDF)\n",
    "\n",
    "Takeaways:\n",
    "- Section could be used as a weight but it's not very indicative\n",
    "- Flagging indicator terms might be a useful approach to find candidate phrases\n",
    "- NER merits its own pipeline (probably in spaCy)\n",
    "- TF-IDF of IDF may be used to weight terms\n",
    "\n",
    "Note: NER should be done prior to preprocessing as rules like capitalization and punctuation provide clues. \n",
    "\n",
    "To do: \n",
    "- [ ] What are the research fields of publications and datasets? (TBD: look up pub abstracts w/crossref API, apply to datasets)"
   ]
  },
  {
   "cell_type": "code",
   "execution_count": 4,
   "metadata": {},
   "outputs": [],
   "source": [
    "import glob\n",
    "import re\n",
    "from collections import defaultdict, Counter\n",
    "\n",
    "import pandas as pd\n",
    "\n",
    "import nltk\n",
    "from nltk.tokenize import sent_tokenize, word_tokenize\n",
    "from nltk.tag import pos_tag\n",
    "from nltk.chunk import conlltags2tree, tree2conlltags\n",
    "\n",
    "import spacy\n",
    "import en_core_web_sm\n",
    "from spacy.displacy.render import EntityRenderer\n",
    "from IPython.core.display import display, HTML\n",
    "\n",
    "import matplotlib.pyplot as plt\n",
    "%matplotlib inline\n",
    "\n",
    "from sklearn.feature_extraction.text import TfidfVectorizer"
   ]
  },
  {
   "cell_type": "code",
   "execution_count": 5,
   "metadata": {},
   "outputs": [],
   "source": [
    "nlp = en_core_web_sm.load()"
   ]
  },
  {
   "cell_type": "code",
   "execution_count": 6,
   "metadata": {},
   "outputs": [],
   "source": [
    "def clean_text(txt):\n",
    "    \"\"\"\n",
    "    Convert to lowercase, remove special characters, and punctuation.\n",
    "    \"\"\"\n",
    "    return re.sub('[^A-Za-z0-9]+', ' ', str(txt).lower())"
   ]
  },
  {
   "cell_type": "code",
   "execution_count": 2,
   "metadata": {},
   "outputs": [],
   "source": [
    "def jaccard(str1, str2): \n",
    "    a = set(str1.lower().split()) \n",
    "    b = set(str2.lower().split())\n",
    "    c = a.intersection(b)\n",
    "    return float(len(c)) / (len(a) + len(b) - len(c))"
   ]
  },
  {
   "cell_type": "code",
   "execution_count": 5,
   "metadata": {},
   "outputs": [],
   "source": [
    "path = '../data/'"
   ]
  },
  {
   "cell_type": "markdown",
   "metadata": {},
   "source": [
    "## Load data"
   ]
  },
  {
   "cell_type": "markdown",
   "metadata": {},
   "source": [
    "Datasets referenced in publications\n",
    "- Coleridge training data"
   ]
  },
  {
   "cell_type": "code",
   "execution_count": 6,
   "metadata": {},
   "outputs": [
    {
     "data": {
      "text/html": [
       "<div>\n",
       "<style scoped>\n",
       "    .dataframe tbody tr th:only-of-type {\n",
       "        vertical-align: middle;\n",
       "    }\n",
       "\n",
       "    .dataframe tbody tr th {\n",
       "        vertical-align: top;\n",
       "    }\n",
       "\n",
       "    .dataframe thead th {\n",
       "        text-align: right;\n",
       "    }\n",
       "</style>\n",
       "<table border=\"1\" class=\"dataframe\">\n",
       "  <thead>\n",
       "    <tr style=\"text-align: right;\">\n",
       "      <th></th>\n",
       "      <th>Id</th>\n",
       "      <th>pub_title</th>\n",
       "      <th>dataset_title</th>\n",
       "      <th>dataset_label</th>\n",
       "      <th>cleaned_label</th>\n",
       "    </tr>\n",
       "  </thead>\n",
       "  <tbody>\n",
       "    <tr>\n",
       "      <th>541</th>\n",
       "      <td>c5d27545-4a25-4adc-8dcf-7a2f8421fc77</td>\n",
       "      <td>Effects of age and aerobic capacity on arteria...</td>\n",
       "      <td>Baltimore Longitudinal Study of Aging (BLSA)</td>\n",
       "      <td>Baltimore Longitudinal Study of Aging (BLSA)</td>\n",
       "      <td>baltimore longitudinal study of aging blsa</td>\n",
       "    </tr>\n",
       "    <tr>\n",
       "      <th>5012</th>\n",
       "      <td>75c5eff6-27c1-4fd3-9d35-68e48799e6cd</td>\n",
       "      <td>A Cochrane review on brain [18F]FDG PET in dem...</td>\n",
       "      <td>Alzheimer's Disease Neuroimaging Initiative (A...</td>\n",
       "      <td>ADNI</td>\n",
       "      <td>adni</td>\n",
       "    </tr>\n",
       "    <tr>\n",
       "      <th>10679</th>\n",
       "      <td>be9a48e7-0167-46c9-b482-74832f01e39a</td>\n",
       "      <td>Regression models on Riemannian symmetric spaces</td>\n",
       "      <td>Alzheimer's Disease Neuroimaging Initiative (A...</td>\n",
       "      <td>Alzheimer's Disease Neuroimaging Initiative (A...</td>\n",
       "      <td>alzheimer s disease neuroimaging initiative adni</td>\n",
       "    </tr>\n",
       "    <tr>\n",
       "      <th>14990</th>\n",
       "      <td>fea1537a-160c-437e-9849-1fda49f0d66e</td>\n",
       "      <td>Implications for practice and research from D...</td>\n",
       "      <td>Survey of Earned Doctorates</td>\n",
       "      <td>Survey of Earned Doctorates</td>\n",
       "      <td>survey of earned doctorates</td>\n",
       "    </tr>\n",
       "    <tr>\n",
       "      <th>10188</th>\n",
       "      <td>156abbf4-d75f-4457-949d-a60da16293f9</td>\n",
       "      <td>Quantitative magnetic resonance imaging traits...</td>\n",
       "      <td>Alzheimer's Disease Neuroimaging Initiative (A...</td>\n",
       "      <td>Alzheimer's Disease Neuroimaging Initiative (A...</td>\n",
       "      <td>alzheimer s disease neuroimaging initiative adni</td>\n",
       "    </tr>\n",
       "  </tbody>\n",
       "</table>\n",
       "</div>"
      ],
      "text/plain": [
       "                                         Id  \\\n",
       "541    c5d27545-4a25-4adc-8dcf-7a2f8421fc77   \n",
       "5012   75c5eff6-27c1-4fd3-9d35-68e48799e6cd   \n",
       "10679  be9a48e7-0167-46c9-b482-74832f01e39a   \n",
       "14990  fea1537a-160c-437e-9849-1fda49f0d66e   \n",
       "10188  156abbf4-d75f-4457-949d-a60da16293f9   \n",
       "\n",
       "                                               pub_title  \\\n",
       "541    Effects of age and aerobic capacity on arteria...   \n",
       "5012   A Cochrane review on brain [18F]FDG PET in dem...   \n",
       "10679   Regression models on Riemannian symmetric spaces   \n",
       "14990   Implications for practice and research from D...   \n",
       "10188  Quantitative magnetic resonance imaging traits...   \n",
       "\n",
       "                                           dataset_title  \\\n",
       "541         Baltimore Longitudinal Study of Aging (BLSA)   \n",
       "5012   Alzheimer's Disease Neuroimaging Initiative (A...   \n",
       "10679  Alzheimer's Disease Neuroimaging Initiative (A...   \n",
       "14990                        Survey of Earned Doctorates   \n",
       "10188  Alzheimer's Disease Neuroimaging Initiative (A...   \n",
       "\n",
       "                                           dataset_label  \\\n",
       "541         Baltimore Longitudinal Study of Aging (BLSA)   \n",
       "5012                                                ADNI   \n",
       "10679  Alzheimer's Disease Neuroimaging Initiative (A...   \n",
       "14990                        Survey of Earned Doctorates   \n",
       "10188  Alzheimer's Disease Neuroimaging Initiative (A...   \n",
       "\n",
       "                                           cleaned_label  \n",
       "541          baltimore longitudinal study of aging blsa   \n",
       "5012                                                adni  \n",
       "10679  alzheimer s disease neuroimaging initiative adni   \n",
       "14990                        survey of earned doctorates  \n",
       "10188  alzheimer s disease neuroimaging initiative adni   "
      ]
     },
     "execution_count": 6,
     "metadata": {},
     "output_type": "execute_result"
    }
   ],
   "source": [
    "df_train = pd.read_csv(path+'train.csv',low_memory=False)\n",
    "df_train.sample(n=5)"
   ]
  },
  {
   "cell_type": "markdown",
   "metadata": {},
   "source": [
    "How similar are `dataset_label` and `dataset_title`? This will help us understand if the goal of the competition is to predict `dataset_label`"
   ]
  },
  {
   "cell_type": "code",
   "execution_count": 7,
   "metadata": {},
   "outputs": [
    {
     "data": {
      "text/plain": [
       "<matplotlib.axes._subplots.AxesSubplot at 0x2ae1c66d2bb0>"
      ]
     },
     "execution_count": 7,
     "metadata": {},
     "output_type": "execute_result"
    },
    {
     "data": {
      "image/png": "[encoded data removed]",
      "text/plain": [
       "<Figure size 864x720 with 1 Axes>"
      ]
     },
     "metadata": {
      "needs_background": "light"
     },
     "output_type": "display_data"
    }
   ],
   "source": [
    "data_jaccard = []\n",
    "for index, row in df_train.iterrows():\n",
    "    data_jaccard.append(jaccard(row['dataset_title'], row['dataset_label']))\n",
    "    \n",
    "df_train['data_jaccard'] = data_jaccard\n",
    "df_train['data_jaccard'].plot.hist(bins=12, alpha=0.5, figsize=(12,10))"
   ]
  },
  {
   "cell_type": "markdown",
   "metadata": {},
   "source": [
    "Wow! Most of the training data labels and titles have a similarity score of 0.8 or higher. This means a solution where we just search for massive list of dataset titles would perform very well. Let's see instances with imperfect overlap. These may be solved by changing the order of the terms and/or partial matching"
   ]
  },
  {
   "cell_type": "code",
   "execution_count": 8,
   "metadata": {},
   "outputs": [
    {
     "data": {
      "text/html": [
       "<div>\n",
       "<style scoped>\n",
       "    .dataframe tbody tr th:only-of-type {\n",
       "        vertical-align: middle;\n",
       "    }\n",
       "\n",
       "    .dataframe tbody tr th {\n",
       "        vertical-align: top;\n",
       "    }\n",
       "\n",
       "    .dataframe thead th {\n",
       "        text-align: right;\n",
       "    }\n",
       "</style>\n",
       "<table border=\"1\" class=\"dataframe\">\n",
       "  <thead>\n",
       "    <tr style=\"text-align: right;\">\n",
       "      <th></th>\n",
       "      <th>Id</th>\n",
       "      <th>pub_title</th>\n",
       "      <th>dataset_title</th>\n",
       "      <th>dataset_label</th>\n",
       "      <th>cleaned_label</th>\n",
       "      <th>data_jaccard</th>\n",
       "    </tr>\n",
       "  </thead>\n",
       "  <tbody>\n",
       "    <tr>\n",
       "      <th>311</th>\n",
       "      <td>f4a8e3b6-17b7-41d6-9b29-d347a2459317</td>\n",
       "      <td>The Effect of the Surface Wind Field Represent...</td>\n",
       "      <td>Sea, Lake, and Overland Surges from Hurricanes</td>\n",
       "      <td>SLOSH model</td>\n",
       "      <td>slosh model</td>\n",
       "      <td>0.000000</td>\n",
       "    </tr>\n",
       "    <tr>\n",
       "      <th>312</th>\n",
       "      <td>66a010dd-7dd4-4f64-a45c-7f412f786762</td>\n",
       "      <td>Risk assessment of hurricane storm surge for N...</td>\n",
       "      <td>Sea, Lake, and Overland Surges from Hurricanes</td>\n",
       "      <td>SLOSH model</td>\n",
       "      <td>slosh model</td>\n",
       "      <td>0.000000</td>\n",
       "    </tr>\n",
       "    <tr>\n",
       "      <th>313</th>\n",
       "      <td>78acf162-36f4-47bb-8b8f-645d3195361f</td>\n",
       "      <td>Visualization for Hurricane Storm Surge Risk A...</td>\n",
       "      <td>Sea, Lake, and Overland Surges from Hurricanes</td>\n",
       "      <td>SLOSH model</td>\n",
       "      <td>slosh model</td>\n",
       "      <td>0.000000</td>\n",
       "    </tr>\n",
       "    <tr>\n",
       "      <th>314</th>\n",
       "      <td>2e9afd1e-3538-4615-92a5-f18a550378f8</td>\n",
       "      <td>Predicting the Storm Surge Threat of Hurricane...</td>\n",
       "      <td>Sea, Lake, and Overland Surges from Hurricanes</td>\n",
       "      <td>SLOSH model</td>\n",
       "      <td>slosh model</td>\n",
       "      <td>0.000000</td>\n",
       "    </tr>\n",
       "    <tr>\n",
       "      <th>315</th>\n",
       "      <td>2c2e7822-a9e5-42aa-9307-2456e9d18ad8</td>\n",
       "      <td>Internet-based Modeling, Mapping, and Analysis...</td>\n",
       "      <td>Sea, Lake, and Overland Surges from Hurricanes</td>\n",
       "      <td>SLOSH model</td>\n",
       "      <td>slosh model</td>\n",
       "      <td>0.000000</td>\n",
       "    </tr>\n",
       "    <tr>\n",
       "      <th>...</th>\n",
       "      <td>...</td>\n",
       "      <td>...</td>\n",
       "      <td>...</td>\n",
       "      <td>...</td>\n",
       "      <td>...</td>\n",
       "      <td>...</td>\n",
       "    </tr>\n",
       "    <tr>\n",
       "      <th>19610</th>\n",
       "      <td>7145e494-588c-48b4-9a6f-77c0bfdb082a</td>\n",
       "      <td>Novel Dynamic Structures of 2019-nCoV with Non...</td>\n",
       "      <td>SARS-CoV-2 genome sequence</td>\n",
       "      <td>genome sequences of 2019-nCoV</td>\n",
       "      <td>genome sequences of 2019 ncov</td>\n",
       "      <td>0.166667</td>\n",
       "    </tr>\n",
       "    <tr>\n",
       "      <th>19611</th>\n",
       "      <td>bb5c15aa-ad9d-4441-a5f3-39e85382637c</td>\n",
       "      <td>Prevalence and impact of cardiovascular metabo...</td>\n",
       "      <td>SARS-CoV-2 genome sequence</td>\n",
       "      <td>genome sequences of 2019-nCoV</td>\n",
       "      <td>genome sequences of 2019 ncov</td>\n",
       "      <td>0.166667</td>\n",
       "    </tr>\n",
       "    <tr>\n",
       "      <th>19612</th>\n",
       "      <td>43baf587-ff28-4f1f-b92f-6e61aad8b682</td>\n",
       "      <td>Emerging novel coronavirus (2019-nCoV)—current...</td>\n",
       "      <td>SARS-CoV-2 genome sequence</td>\n",
       "      <td>genome sequences of 2019-nCoV</td>\n",
       "      <td>genome sequences of 2019 ncov</td>\n",
       "      <td>0.166667</td>\n",
       "    </tr>\n",
       "    <tr>\n",
       "      <th>19613</th>\n",
       "      <td>d90a010d-8dba-4ffa-a2f1-473a45ddb8c7</td>\n",
       "      <td>Identification of potential inhibitors of SARS...</td>\n",
       "      <td>SARS-CoV-2 genome sequence</td>\n",
       "      <td>genome sequences of 2019-nCoV</td>\n",
       "      <td>genome sequences of 2019 ncov</td>\n",
       "      <td>0.166667</td>\n",
       "    </tr>\n",
       "    <tr>\n",
       "      <th>19614</th>\n",
       "      <td>9eb497e4-a143-4f4f-b000-a9d4ff94e425</td>\n",
       "      <td>Update of the current knowledge on genetics, e...</td>\n",
       "      <td>SARS-CoV-2 genome sequence</td>\n",
       "      <td>genome sequences of 2019-nCoV</td>\n",
       "      <td>genome sequences of 2019 ncov</td>\n",
       "      <td>0.166667</td>\n",
       "    </tr>\n",
       "  </tbody>\n",
       "</table>\n",
       "<p>4444 rows × 6 columns</p>\n",
       "</div>"
      ],
      "text/plain": [
       "                                         Id  \\\n",
       "311    f4a8e3b6-17b7-41d6-9b29-d347a2459317   \n",
       "312    66a010dd-7dd4-4f64-a45c-7f412f786762   \n",
       "313    78acf162-36f4-47bb-8b8f-645d3195361f   \n",
       "314    2e9afd1e-3538-4615-92a5-f18a550378f8   \n",
       "315    2c2e7822-a9e5-42aa-9307-2456e9d18ad8   \n",
       "...                                     ...   \n",
       "19610  7145e494-588c-48b4-9a6f-77c0bfdb082a   \n",
       "19611  bb5c15aa-ad9d-4441-a5f3-39e85382637c   \n",
       "19612  43baf587-ff28-4f1f-b92f-6e61aad8b682   \n",
       "19613  d90a010d-8dba-4ffa-a2f1-473a45ddb8c7   \n",
       "19614  9eb497e4-a143-4f4f-b000-a9d4ff94e425   \n",
       "\n",
       "                                               pub_title  \\\n",
       "311    The Effect of the Surface Wind Field Represent...   \n",
       "312    Risk assessment of hurricane storm surge for N...   \n",
       "313    Visualization for Hurricane Storm Surge Risk A...   \n",
       "314    Predicting the Storm Surge Threat of Hurricane...   \n",
       "315    Internet-based Modeling, Mapping, and Analysis...   \n",
       "...                                                  ...   \n",
       "19610  Novel Dynamic Structures of 2019-nCoV with Non...   \n",
       "19611  Prevalence and impact of cardiovascular metabo...   \n",
       "19612  Emerging novel coronavirus (2019-nCoV)—current...   \n",
       "19613  Identification of potential inhibitors of SARS...   \n",
       "19614  Update of the current knowledge on genetics, e...   \n",
       "\n",
       "                                        dataset_title  \\\n",
       "311    Sea, Lake, and Overland Surges from Hurricanes   \n",
       "312    Sea, Lake, and Overland Surges from Hurricanes   \n",
       "313    Sea, Lake, and Overland Surges from Hurricanes   \n",
       "314    Sea, Lake, and Overland Surges from Hurricanes   \n",
       "315    Sea, Lake, and Overland Surges from Hurricanes   \n",
       "...                                               ...   \n",
       "19610                      SARS-CoV-2 genome sequence   \n",
       "19611                      SARS-CoV-2 genome sequence   \n",
       "19612                      SARS-CoV-2 genome sequence   \n",
       "19613                      SARS-CoV-2 genome sequence   \n",
       "19614                      SARS-CoV-2 genome sequence   \n",
       "\n",
       "                       dataset_label                  cleaned_label  \\\n",
       "311                      SLOSH model                    slosh model   \n",
       "312                      SLOSH model                    slosh model   \n",
       "313                      SLOSH model                    slosh model   \n",
       "314                      SLOSH model                    slosh model   \n",
       "315                      SLOSH model                    slosh model   \n",
       "...                              ...                            ...   \n",
       "19610  genome sequences of 2019-nCoV  genome sequences of 2019 ncov   \n",
       "19611  genome sequences of 2019-nCoV  genome sequences of 2019 ncov   \n",
       "19612  genome sequences of 2019-nCoV  genome sequences of 2019 ncov   \n",
       "19613  genome sequences of 2019-nCoV  genome sequences of 2019 ncov   \n",
       "19614  genome sequences of 2019-nCoV  genome sequences of 2019 ncov   \n",
       "\n",
       "       data_jaccard  \n",
       "311        0.000000  \n",
       "312        0.000000  \n",
       "313        0.000000  \n",
       "314        0.000000  \n",
       "315        0.000000  \n",
       "...             ...  \n",
       "19610      0.166667  \n",
       "19611      0.166667  \n",
       "19612      0.166667  \n",
       "19613      0.166667  \n",
       "19614      0.166667  \n",
       "\n",
       "[4444 rows x 6 columns]"
      ]
     },
     "execution_count": 8,
     "metadata": {},
     "output_type": "execute_result"
    }
   ],
   "source": [
    "low_match = df_train[df_train['data_jaccard'] < .2] \n",
    "low_match"
   ]
  },
  {
   "cell_type": "markdown",
   "metadata": {},
   "source": [
    "Publication sections\n",
    "- Coleridge data"
   ]
  },
  {
   "cell_type": "code",
   "execution_count": 6,
   "metadata": {},
   "outputs": [
    {
     "data": {
      "text/html": [
       "<div>\n",
       "<style scoped>\n",
       "    .dataframe tbody tr th:only-of-type {\n",
       "        vertical-align: middle;\n",
       "    }\n",
       "\n",
       "    .dataframe tbody tr th {\n",
       "        vertical-align: top;\n",
       "    }\n",
       "\n",
       "    .dataframe thead th {\n",
       "        text-align: right;\n",
       "    }\n",
       "</style>\n",
       "<table border=\"1\" class=\"dataframe\">\n",
       "  <thead>\n",
       "    <tr style=\"text-align: right;\">\n",
       "      <th></th>\n",
       "      <th>Id</th>\n",
       "      <th>section_title</th>\n",
       "      <th>text</th>\n",
       "      <th>clean_text</th>\n",
       "      <th>clean_section</th>\n",
       "    </tr>\n",
       "  </thead>\n",
       "  <tbody>\n",
       "    <tr>\n",
       "      <th>131619</th>\n",
       "      <td>79ad4836-8353-49d4-9df3-5258d234f00f</td>\n",
       "      <td>Survival, Serious Illness, and Hospitalization</td>\n",
       "      <td>Because of the disease's rapid increasing case...</td>\n",
       "      <td>because of the disease s rapid increasing case...</td>\n",
       "      <td>survival serious illness and hospitalization</td>\n",
       "    </tr>\n",
       "    <tr>\n",
       "      <th>137350</th>\n",
       "      <td>4e63a762-190f-413c-b5c4-5ec729cb6e67</td>\n",
       "      <td>STUDENT LEARNING AND SCHOOL SECTOR: VARIABLE E...</td>\n",
       "      <td>Data sets analyzed in prior studies of school ...</td>\n",
       "      <td>data sets analyzed in prior studies of school ...</td>\n",
       "      <td>student learning and school sector variable ef...</td>\n",
       "    </tr>\n",
       "    <tr>\n",
       "      <th>53433</th>\n",
       "      <td>40751544-944a-4baa-946f-967a0d693856</td>\n",
       "      <td>INTRODUCTION</td>\n",
       "      <td>It has become very urgent whether it was for t...</td>\n",
       "      <td>it has become very urgent whether it was for t...</td>\n",
       "      <td>introduction</td>\n",
       "    </tr>\n",
       "    <tr>\n",
       "      <th>215560</th>\n",
       "      <td>a3862f1c-6331-45d9-b764-309b770d584e</td>\n",
       "      <td>The Complex Relationship Between English Profi...</td>\n",
       "      <td>Finally, it is important to note that, althoug...</td>\n",
       "      <td>finally it is important to note that although ...</td>\n",
       "      <td>the complex relationship between english profi...</td>\n",
       "    </tr>\n",
       "    <tr>\n",
       "      <th>29039</th>\n",
       "      <td>e0565e86-97e1-4b84-9c92-e3c33d5a2173</td>\n",
       "      <td>Acknowledgments</td>\n",
       "      <td>This work was supported by the EU FP7/2007-201...</td>\n",
       "      <td>this work was supported by the eu fp7 2007 201...</td>\n",
       "      <td>acknowledgments</td>\n",
       "    </tr>\n",
       "  </tbody>\n",
       "</table>\n",
       "</div>"
      ],
      "text/plain": [
       "                                          Id  \\\n",
       "131619  79ad4836-8353-49d4-9df3-5258d234f00f   \n",
       "137350  4e63a762-190f-413c-b5c4-5ec729cb6e67   \n",
       "53433   40751544-944a-4baa-946f-967a0d693856   \n",
       "215560  a3862f1c-6331-45d9-b764-309b770d584e   \n",
       "29039   e0565e86-97e1-4b84-9c92-e3c33d5a2173   \n",
       "\n",
       "                                            section_title  \\\n",
       "131619     Survival, Serious Illness, and Hospitalization   \n",
       "137350  STUDENT LEARNING AND SCHOOL SECTOR: VARIABLE E...   \n",
       "53433                                        INTRODUCTION   \n",
       "215560  The Complex Relationship Between English Profi...   \n",
       "29039                                     Acknowledgments   \n",
       "\n",
       "                                                     text  \\\n",
       "131619  Because of the disease's rapid increasing case...   \n",
       "137350  Data sets analyzed in prior studies of school ...   \n",
       "53433   It has become very urgent whether it was for t...   \n",
       "215560  Finally, it is important to note that, althoug...   \n",
       "29039   This work was supported by the EU FP7/2007-201...   \n",
       "\n",
       "                                               clean_text  \\\n",
       "131619  because of the disease s rapid increasing case...   \n",
       "137350  data sets analyzed in prior studies of school ...   \n",
       "53433   it has become very urgent whether it was for t...   \n",
       "215560  finally it is important to note that although ...   \n",
       "29039   this work was supported by the eu fp7 2007 201...   \n",
       "\n",
       "                                            clean_section  \n",
       "131619       survival serious illness and hospitalization  \n",
       "137350  student learning and school sector variable ef...  \n",
       "53433                                        introduction  \n",
       "215560  the complex relationship between english profi...  \n",
       "29039                                     acknowledgments  "
      ]
     },
     "execution_count": 6,
     "metadata": {},
     "output_type": "execute_result"
    }
   ],
   "source": [
    "df_pubs = pd.read_csv(path+'test_publications.csv',low_memory=False)\n",
    "df_pubs['clean_section'] = df_pubs['section_title'].apply(clean_text)\n",
    "df_pubs.sample(n=5)"
   ]
  },
  {
   "cell_type": "code",
   "execution_count": null,
   "metadata": {},
   "outputs": [],
   "source": []
  },
  {
   "cell_type": "markdown",
   "metadata": {},
   "source": [
    "Publication abstracts (for lookup in an external service to gather more metadata)"
   ]
  },
  {
   "cell_type": "code",
   "execution_count": 9,
   "metadata": {},
   "outputs": [
    {
     "data": {
      "text/html": [
       "<div>\n",
       "<style scoped>\n",
       "    .dataframe tbody tr th:only-of-type {\n",
       "        vertical-align: middle;\n",
       "    }\n",
       "\n",
       "    .dataframe tbody tr th {\n",
       "        vertical-align: top;\n",
       "    }\n",
       "\n",
       "    .dataframe thead th {\n",
       "        text-align: right;\n",
       "    }\n",
       "</style>\n",
       "<table border=\"1\" class=\"dataframe\">\n",
       "  <thead>\n",
       "    <tr style=\"text-align: right;\">\n",
       "      <th></th>\n",
       "      <th>Id</th>\n",
       "      <th>text</th>\n",
       "    </tr>\n",
       "  </thead>\n",
       "  <tbody>\n",
       "    <tr>\n",
       "      <th>46</th>\n",
       "      <td>a33580fc-3e2b-4b6c-80f3-04f8613f48c0</td>\n",
       "      <td>Abstract: Quantitative measurement of b-amyloi...</td>\n",
       "    </tr>\n",
       "    <tr>\n",
       "      <th>92</th>\n",
       "      <td>a7db5716-d532-409a-abc7-79845726b3ba</td>\n",
       "      <td>Abstract This paper discusses the differences ...</td>\n",
       "    </tr>\n",
       "    <tr>\n",
       "      <th>230</th>\n",
       "      <td>2c92ec97-80b4-4c5a-82eb-ffa2a32941b2</td>\n",
       "      <td>Abstract: Agricultural Centers are a coalition...</td>\n",
       "    </tr>\n",
       "    <tr>\n",
       "      <th>316</th>\n",
       "      <td>ebc5c768-6f07-4cc8-97f9-c42d11f0a2ac</td>\n",
       "      <td>Abstract The United States is the largest prod...</td>\n",
       "    </tr>\n",
       "    <tr>\n",
       "      <th>781</th>\n",
       "      <td>e2c9b03b-5222-4bfe-bc85-4ff16ba1996e</td>\n",
       "      <td>Abstract. Hippocampus volumetry based on magne...</td>\n",
       "    </tr>\n",
       "    <tr>\n",
       "      <th>...</th>\n",
       "      <td>...</td>\n",
       "      <td>...</td>\n",
       "    </tr>\n",
       "    <tr>\n",
       "      <th>258278</th>\n",
       "      <td>c4ece408-ffbb-4c75-855c-1af2f013c395</td>\n",
       "      <td>Abstract This study examined the longitudinal ...</td>\n",
       "    </tr>\n",
       "    <tr>\n",
       "      <th>258336</th>\n",
       "      <td>d5fefd68-12c9-41e8-aac1-d2495dd62da1</td>\n",
       "      <td>Abstract -As animal agriculture has evolved to...</td>\n",
       "    </tr>\n",
       "    <tr>\n",
       "      <th>258396</th>\n",
       "      <td>3ae9d767-e18d-4c4c-bb52-55321031b65a</td>\n",
       "      <td>Abstract This study examined differences betwe...</td>\n",
       "    </tr>\n",
       "    <tr>\n",
       "      <th>258583</th>\n",
       "      <td>722c17b4-f696-446f-8bef-49413df06cb3</td>\n",
       "      <td>Kanae, S. (2017). Compound simulation of fluvi...</td>\n",
       "    </tr>\n",
       "    <tr>\n",
       "      <th>258684</th>\n",
       "      <td>09aa6ece-a380-4519-88f2-d9d441a94e1d</td>\n",
       "      <td>Abstract: Stormwater runoff in the USA is a ma...</td>\n",
       "    </tr>\n",
       "  </tbody>\n",
       "</table>\n",
       "<p>1628 rows × 2 columns</p>\n",
       "</div>"
      ],
      "text/plain": [
       "                                          Id  \\\n",
       "46      a33580fc-3e2b-4b6c-80f3-04f8613f48c0   \n",
       "92      a7db5716-d532-409a-abc7-79845726b3ba   \n",
       "230     2c92ec97-80b4-4c5a-82eb-ffa2a32941b2   \n",
       "316     ebc5c768-6f07-4cc8-97f9-c42d11f0a2ac   \n",
       "781     e2c9b03b-5222-4bfe-bc85-4ff16ba1996e   \n",
       "...                                      ...   \n",
       "258278  c4ece408-ffbb-4c75-855c-1af2f013c395   \n",
       "258336  d5fefd68-12c9-41e8-aac1-d2495dd62da1   \n",
       "258396  3ae9d767-e18d-4c4c-bb52-55321031b65a   \n",
       "258583  722c17b4-f696-446f-8bef-49413df06cb3   \n",
       "258684  09aa6ece-a380-4519-88f2-d9d441a94e1d   \n",
       "\n",
       "                                                     text  \n",
       "46      Abstract: Quantitative measurement of b-amyloi...  \n",
       "92      Abstract This paper discusses the differences ...  \n",
       "230     Abstract: Agricultural Centers are a coalition...  \n",
       "316     Abstract The United States is the largest prod...  \n",
       "781     Abstract. Hippocampus volumetry based on magne...  \n",
       "...                                                   ...  \n",
       "258278  Abstract This study examined the longitudinal ...  \n",
       "258336  Abstract -As animal agriculture has evolved to...  \n",
       "258396  Abstract This study examined differences betwe...  \n",
       "258583  Kanae, S. (2017). Compound simulation of fluvi...  \n",
       "258684  Abstract: Stormwater runoff in the USA is a ma...  \n",
       "\n",
       "[1628 rows x 2 columns]"
      ]
     },
     "execution_count": 9,
     "metadata": {},
     "output_type": "execute_result"
    }
   ],
   "source": [
    "df_pubs['text'] = df_pubs['text'].astype(str)\n",
    "abstracts = df_pubs[df_pubs['text'].str.contains(\"Abstract\")]\n",
    "abstracts = abstracts.drop(columns=['section_title', \n",
    "                      'clean_text', \n",
    "                      'clean_section'])\n",
    "abstracts"
   ]
  },
  {
   "cell_type": "markdown",
   "metadata": {},
   "source": [
    "Publication full text"
   ]
  },
  {
   "cell_type": "code",
   "execution_count": 26,
   "metadata": {},
   "outputs": [
    {
     "data": {
      "text/html": [
       "<div>\n",
       "<style scoped>\n",
       "    .dataframe tbody tr th:only-of-type {\n",
       "        vertical-align: middle;\n",
       "    }\n",
       "\n",
       "    .dataframe tbody tr th {\n",
       "        vertical-align: top;\n",
       "    }\n",
       "\n",
       "    .dataframe thead th {\n",
       "        text-align: right;\n",
       "    }\n",
       "</style>\n",
       "<table border=\"1\" class=\"dataframe\">\n",
       "  <thead>\n",
       "    <tr style=\"text-align: right;\">\n",
       "      <th></th>\n",
       "      <th>Id</th>\n",
       "      <th>text</th>\n",
       "    </tr>\n",
       "  </thead>\n",
       "  <tbody>\n",
       "    <tr>\n",
       "      <th>0</th>\n",
       "      <td>0007f880-0a9b-492d-9a58-76eb0b0e0bd7</td>\n",
       "      <td>The aim of this study was to identify if acqui...</td>\n",
       "    </tr>\n",
       "    <tr>\n",
       "      <th>1</th>\n",
       "      <td>0008656f-0ba2-4632-8602-3017b44c2e90</td>\n",
       "      <td>In this study, Finnish ninth graders' and thei...</td>\n",
       "    </tr>\n",
       "    <tr>\n",
       "      <th>2</th>\n",
       "      <td>000e04d6-d6ef-442f-b070-4309493221ba</td>\n",
       "      <td>Through the U.S. Department of Agriculture's E...</td>\n",
       "    </tr>\n",
       "    <tr>\n",
       "      <th>3</th>\n",
       "      <td>000efc17-13d8-433d-8f62-a3932fe4f3b8</td>\n",
       "      <td>Risk factors and cognitive sequelae of brain a...</td>\n",
       "    </tr>\n",
       "    <tr>\n",
       "      <th>4</th>\n",
       "      <td>0010357a-6365-4e5f-b982-582e6d32c3ee</td>\n",
       "      <td>Potential Conflicts of Interest: The author ha...</td>\n",
       "    </tr>\n",
       "    <tr>\n",
       "      <th>...</th>\n",
       "      <td>...</td>\n",
       "      <td>...</td>\n",
       "    </tr>\n",
       "    <tr>\n",
       "      <th>14311</th>\n",
       "      <td>ffd19b3c-f941-45e5-9382-934b5041ec96</td>\n",
       "      <td>Water-quality data for nitrate, fecalindicator...</td>\n",
       "    </tr>\n",
       "    <tr>\n",
       "      <th>14312</th>\n",
       "      <td>ffd4d86a-0f26-44cc-baed-f0e209cc22af</td>\n",
       "      <td>Magnetic Resonance Imaging (MRI) is of fundame...</td>\n",
       "    </tr>\n",
       "    <tr>\n",
       "      <th>14313</th>\n",
       "      <td>ffe7f334-245a-4de7-b600-d7ff4e28bfca</td>\n",
       "      <td>The COVID-19 pandemic and the fear that it has...</td>\n",
       "    </tr>\n",
       "    <tr>\n",
       "      <th>14314</th>\n",
       "      <td>ffeb3568-7aed-4dbe-b177-cbd7f46f34af</td>\n",
       "      <td>Mathematics, as no other school subject, evoke...</td>\n",
       "    </tr>\n",
       "    <tr>\n",
       "      <th>14315</th>\n",
       "      <td>ffee2676-a778-4521-b947-e1e420b126c5</td>\n",
       "      <td>predicts that tuition and fees at four-year pu...</td>\n",
       "    </tr>\n",
       "  </tbody>\n",
       "</table>\n",
       "<p>14316 rows × 2 columns</p>\n",
       "</div>"
      ],
      "text/plain": [
       "                                         Id  \\\n",
       "0      0007f880-0a9b-492d-9a58-76eb0b0e0bd7   \n",
       "1      0008656f-0ba2-4632-8602-3017b44c2e90   \n",
       "2      000e04d6-d6ef-442f-b070-4309493221ba   \n",
       "3      000efc17-13d8-433d-8f62-a3932fe4f3b8   \n",
       "4      0010357a-6365-4e5f-b982-582e6d32c3ee   \n",
       "...                                     ...   \n",
       "14311  ffd19b3c-f941-45e5-9382-934b5041ec96   \n",
       "14312  ffd4d86a-0f26-44cc-baed-f0e209cc22af   \n",
       "14313  ffe7f334-245a-4de7-b600-d7ff4e28bfca   \n",
       "14314  ffeb3568-7aed-4dbe-b177-cbd7f46f34af   \n",
       "14315  ffee2676-a778-4521-b947-e1e420b126c5   \n",
       "\n",
       "                                                    text  \n",
       "0      The aim of this study was to identify if acqui...  \n",
       "1      In this study, Finnish ninth graders' and thei...  \n",
       "2      Through the U.S. Department of Agriculture's E...  \n",
       "3      Risk factors and cognitive sequelae of brain a...  \n",
       "4      Potential Conflicts of Interest: The author ha...  \n",
       "...                                                  ...  \n",
       "14311  Water-quality data for nitrate, fecalindicator...  \n",
       "14312  Magnetic Resonance Imaging (MRI) is of fundame...  \n",
       "14313  The COVID-19 pandemic and the fear that it has...  \n",
       "14314  Mathematics, as no other school subject, evoke...  \n",
       "14315  predicts that tuition and fees at four-year pu...  \n",
       "\n",
       "[14316 rows x 2 columns]"
      ]
     },
     "execution_count": 26,
     "metadata": {},
     "output_type": "execute_result"
    }
   ],
   "source": [
    "grouped_pubs = df_pubs.groupby(['Id'], as_index = False).agg({'text': ' '.join})\n",
    "grouped_pubs"
   ]
  },
  {
   "cell_type": "markdown",
   "metadata": {},
   "source": [
    "Flag sections of publications with a data citation"
   ]
  },
  {
   "cell_type": "code",
   "execution_count": 24,
   "metadata": {},
   "outputs": [
    {
     "data": {
      "text/plain": [
       "False    350661\n",
       "True      33496\n",
       "Name: match, dtype: int64"
      ]
     },
     "execution_count": 24,
     "metadata": {},
     "output_type": "execute_result"
    }
   ],
   "source": [
    "df_full = df_train.merge(df_pubs, on='Id')\n",
    "df_full['dataset_label'] = df_full['dataset_label'].astype(str)\n",
    "df_full['text'] = df_full['text'].astype(str)\n",
    "df_full['match'] = df_full.apply(lambda x: x.dataset_label in x.text, axis=1)\n",
    "df_full['match'].value_counts()"
   ]
  },
  {
   "cell_type": "markdown",
   "metadata": {},
   "source": [
    "## Describe data"
   ]
  },
  {
   "cell_type": "markdown",
   "metadata": {},
   "source": [
    "Unique titles and labels of datasets (45) and publications (14,271) in training data"
   ]
  },
  {
   "cell_type": "code",
   "execution_count": 27,
   "metadata": {},
   "outputs": [
    {
     "name": "stdout",
     "output_type": "stream",
     "text": [
      "Id: 14316\n",
      "pub_title: 14271\n",
      "dataset_title: 45\n",
      "dataset_label: 130\n",
      "cleaned_label: 130\n"
     ]
    }
   ],
   "source": [
    "for col in df_train.columns:\n",
    "    print(f\"{col}: {len(df_train[col].unique())}\")"
   ]
  },
  {
   "cell_type": "code",
   "execution_count": 28,
   "metadata": {},
   "outputs": [
    {
     "name": "stdout",
     "output_type": "stream",
     "text": [
      "There are 31 datasets with name variants across publications, e.g.,\n",
      "['NOAA tidal station' 'NOAA National Water Level Observation Network'\n",
      " 'NOAA water level station' 'National Water Level Observation Network'\n",
      " 'NOAA Tide Gauge' 'NOAA tide station']\n"
     ]
    }
   ],
   "source": [
    "dataset_titles_unique = df_train['dataset_title'].unique()\n",
    "\n",
    "variants = []\n",
    "for dataset_title in dataset_titles_unique:\n",
    "    if len(df_train[df_train[\"dataset_title\"] == dataset_title][\"dataset_label\"].unique()) > 1:\n",
    "        variants.append(df_train[df_train[\"dataset_title\"] == dataset_title][\"dataset_label\"].unique())\n",
    "\n",
    "print(\"There are\", f\"{len(variants)}\", \"datasets with name variants across publications, e.g.,\")\n",
    "print(variants[0])"
   ]
  },
  {
   "cell_type": "code",
   "execution_count": 30,
   "metadata": {},
   "outputs": [
    {
     "name": "stdout",
     "output_type": "stream",
     "text": [
      "There are 45 unique datasets in the training data\n"
     ]
    }
   ],
   "source": [
    "print(\"There are\", f\"{df_train['dataset_title'].nunique()}\", \"unique datasets in the training data\")"
   ]
  },
  {
   "cell_type": "code",
   "execution_count": 31,
   "metadata": {},
   "outputs": [
    {
     "data": {
      "text/plain": [
       "<matplotlib.axes._subplots.AxesSubplot at 0x2b4ea06e5b50>"
      ]
     },
     "execution_count": 31,
     "metadata": {},
     "output_type": "execute_result"
    },
    {
     "data": {
      "image/png": "[encoded data removed]",
      "text/plain": [
       "<Figure size 864x720 with 1 Axes>"
      ]
     },
     "metadata": {
      "needs_background": "light"
     },
     "output_type": "display_data"
    }
   ],
   "source": [
    "dataset_titles_counts = df_train['dataset_title'].value_counts().sort_values()\n",
    "dataset_titles_counts.plot(kind='barh',figsize=(12,10))"
   ]
  },
  {
   "cell_type": "code",
   "execution_count": 29,
   "metadata": {},
   "outputs": [
    {
     "name": "stdout",
     "output_type": "stream",
     "text": [
      "There are 965 publications that mention more than one dataset, e.g.,\n",
      "[('2f26f645-3dec-485d-b68d-f013c9e05e60', 2), ('c5d5cd2c-59de-4f29-bbb1-6a88c7b52f29', 2), ('5c9a3bc9-41ba-4574-ad71-e25c1442c8af', 2), ('c754dec7-c5a3-4337-9892-c02158475064', 2)]\n"
     ]
    }
   ],
   "source": [
    "multi_mentions = []\n",
    "\n",
    "for Id in df_train['Id'].unique():\n",
    "    num_unique_mentions = len(df_train[df_train['Id'] == Id]['dataset_title'].unique())\n",
    "    if num_unique_mentions > 1:\n",
    "        multi_mentions.append((Id, num_unique_mentions))\n",
    "\n",
    "print(\"There are\", f\"{len(multi_mentions)}\", \"publications that mention more than one dataset, e.g.,\")\n",
    "print(multi_mentions[1:5])"
   ]
  },
  {
   "cell_type": "code",
   "execution_count": 32,
   "metadata": {},
   "outputs": [
    {
     "name": "stdout",
     "output_type": "stream",
     "text": [
      "There are 113 datasets that co-occur in publications, e.g.,\n",
      "(\"'Education Longitudinal Study', 'National Education Longitudinal Study'): 411\", 0)\n"
     ]
    }
   ],
   "source": [
    "co_mentions = defaultdict(int)\n",
    "\n",
    "for Id, num_mentions in multi_mentions:\n",
    "    co_mentions[tuple(sorted(df_train[df_train['Id'] == Id][\"dataset_title\"].unique()))] += 1\n",
    "\n",
    "print(\"There are\", f\"{len(co_mentions)}\", \"datasets that co-occur in publications, e.g.,\")\n",
    "print((\"'Education Longitudinal Study', 'National Education Longitudinal Study'): 411\", co_mentions[\"'Education Longitudinal Study', 'National Education Longitudinal Study')\"]))"
   ]
  },
  {
   "cell_type": "markdown",
   "metadata": {},
   "source": [
    "## Which **publication sections** have data citations?"
   ]
  },
  {
   "cell_type": "markdown",
   "metadata": {},
   "source": [
    "For now, let's only keep sections of publications that have a data citation"
   ]
  },
  {
   "cell_type": "code",
   "execution_count": 33,
   "metadata": {},
   "outputs": [
    {
     "data": {
      "text/html": [
       "<div>\n",
       "<style scoped>\n",
       "    .dataframe tbody tr th:only-of-type {\n",
       "        vertical-align: middle;\n",
       "    }\n",
       "\n",
       "    .dataframe tbody tr th {\n",
       "        vertical-align: top;\n",
       "    }\n",
       "\n",
       "    .dataframe thead th {\n",
       "        text-align: right;\n",
       "    }\n",
       "</style>\n",
       "<table border=\"1\" class=\"dataframe\">\n",
       "  <thead>\n",
       "    <tr style=\"text-align: right;\">\n",
       "      <th></th>\n",
       "      <th>Id</th>\n",
       "      <th>pub_title</th>\n",
       "      <th>dataset_title</th>\n",
       "      <th>dataset_label</th>\n",
       "      <th>cleaned_label</th>\n",
       "      <th>section_title</th>\n",
       "      <th>text</th>\n",
       "      <th>clean_text</th>\n",
       "      <th>clean_section</th>\n",
       "      <th>match</th>\n",
       "    </tr>\n",
       "  </thead>\n",
       "  <tbody>\n",
       "    <tr>\n",
       "      <th>0</th>\n",
       "      <td>d0fa7568-7d8e-4db9-870f-f9c6f668c17b</td>\n",
       "      <td>The Impact of Dual Enrollment on College Degre...</td>\n",
       "      <td>National Education Longitudinal Study</td>\n",
       "      <td>National Education Longitudinal Study</td>\n",
       "      <td>national education longitudinal study</td>\n",
       "      <td>What is this study about?</td>\n",
       "      <td>This study used data from the National Educati...</td>\n",
       "      <td>this study used data from the national educati...</td>\n",
       "      <td>what is this study about</td>\n",
       "      <td>True</td>\n",
       "    </tr>\n",
       "    <tr>\n",
       "      <th>9</th>\n",
       "      <td>d0fa7568-7d8e-4db9-870f-f9c6f668c17b</td>\n",
       "      <td>The Impact of Dual Enrollment on College Degre...</td>\n",
       "      <td>National Education Longitudinal Study</td>\n",
       "      <td>National Education Longitudinal Study</td>\n",
       "      <td>national education longitudinal study</td>\n",
       "      <td>Degree attainment</td>\n",
       "      <td>Any college degree attainment The study author...</td>\n",
       "      <td>any college degree attainment the study author...</td>\n",
       "      <td>degree attainment</td>\n",
       "      <td>True</td>\n",
       "    </tr>\n",
       "    <tr>\n",
       "      <th>10</th>\n",
       "      <td>d0fa7568-7d8e-4db9-870f-f9c6f668c17b</td>\n",
       "      <td>The Impact of Dual Enrollment on College Degre...</td>\n",
       "      <td>National Education Longitudinal Study</td>\n",
       "      <td>National Education Longitudinal Study</td>\n",
       "      <td>national education longitudinal study</td>\n",
       "      <td>Bachelor's degree attainment</td>\n",
       "      <td>The study author collected information on bach...</td>\n",
       "      <td>the study author collected information on bach...</td>\n",
       "      <td>bachelor s degree attainment</td>\n",
       "      <td>True</td>\n",
       "    </tr>\n",
       "    <tr>\n",
       "      <th>18</th>\n",
       "      <td>d0fa7568-7d8e-4db9-870f-f9c6f668c17b</td>\n",
       "      <td>The Impact of Dual Enrollment on College Degre...</td>\n",
       "      <td>Education Longitudinal Study</td>\n",
       "      <td>Education Longitudinal Study</td>\n",
       "      <td>education longitudinal study</td>\n",
       "      <td>What is this study about?</td>\n",
       "      <td>This study used data from the National Educati...</td>\n",
       "      <td>this study used data from the national educati...</td>\n",
       "      <td>what is this study about</td>\n",
       "      <td>True</td>\n",
       "    </tr>\n",
       "    <tr>\n",
       "      <th>27</th>\n",
       "      <td>d0fa7568-7d8e-4db9-870f-f9c6f668c17b</td>\n",
       "      <td>The Impact of Dual Enrollment on College Degre...</td>\n",
       "      <td>Education Longitudinal Study</td>\n",
       "      <td>Education Longitudinal Study</td>\n",
       "      <td>education longitudinal study</td>\n",
       "      <td>Degree attainment</td>\n",
       "      <td>Any college degree attainment The study author...</td>\n",
       "      <td>any college degree attainment the study author...</td>\n",
       "      <td>degree attainment</td>\n",
       "      <td>True</td>\n",
       "    </tr>\n",
       "    <tr>\n",
       "      <th>...</th>\n",
       "      <td>...</td>\n",
       "      <td>...</td>\n",
       "      <td>...</td>\n",
       "      <td>...</td>\n",
       "      <td>...</td>\n",
       "      <td>...</td>\n",
       "      <td>...</td>\n",
       "      <td>...</td>\n",
       "      <td>...</td>\n",
       "      <td>...</td>\n",
       "    </tr>\n",
       "    <tr>\n",
       "      <th>384105</th>\n",
       "      <td>f77eb51f-c3ac-420b-9586-cb187849c321</td>\n",
       "      <td>MCCS: a novel recognition pattern-based method...</td>\n",
       "      <td>CAS COVID-19 antiviral candidate compounds dat...</td>\n",
       "      <td>CAS COVID-19 antiviral candidate compounds dat...</td>\n",
       "      <td>cas covid 19 antiviral candidate compounds dat...</td>\n",
       "      <td>Introduction</td>\n",
       "      <td>The outbreak of the coronavirus disease 2019 ,...</td>\n",
       "      <td>the outbreak of the coronavirus disease 2019 c...</td>\n",
       "      <td>introduction</td>\n",
       "      <td>True</td>\n",
       "    </tr>\n",
       "    <tr>\n",
       "      <th>384108</th>\n",
       "      <td>f77eb51f-c3ac-420b-9586-cb187849c321</td>\n",
       "      <td>MCCS: a novel recognition pattern-based method...</td>\n",
       "      <td>CAS COVID-19 antiviral candidate compounds dat...</td>\n",
       "      <td>CAS COVID-19 antiviral candidate compounds dat...</td>\n",
       "      <td>cas covid 19 antiviral candidate compounds dat...</td>\n",
       "      <td>Virtual screening by MCCS</td>\n",
       "      <td>Starting with the code base of the current sta...</td>\n",
       "      <td>starting with the code base of the current sta...</td>\n",
       "      <td>virtual screening by mccs</td>\n",
       "      <td>True</td>\n",
       "    </tr>\n",
       "    <tr>\n",
       "      <th>384114</th>\n",
       "      <td>f77eb51f-c3ac-420b-9586-cb187849c321</td>\n",
       "      <td>MCCS: a novel recognition pattern-based method...</td>\n",
       "      <td>CAS COVID-19 antiviral candidate compounds dat...</td>\n",
       "      <td>CAS COVID-19 antiviral candidate compounds dat...</td>\n",
       "      <td>cas covid 19 antiviral candidate compounds dat...</td>\n",
       "      <td>Repurposing CAS COVID-19 antiviral candidate c...</td>\n",
       "      <td>MCCS was also used to predict the potential ca...</td>\n",
       "      <td>mccs was also used to predict the potential ca...</td>\n",
       "      <td>repurposing cas covid 19 antiviral candidate c...</td>\n",
       "      <td>True</td>\n",
       "    </tr>\n",
       "    <tr>\n",
       "      <th>384125</th>\n",
       "      <td>fd23e7e0-a5d2-4f98-992d-9209c85153bb</td>\n",
       "      <td>A ligand-based computational drug repurposing ...</td>\n",
       "      <td>CAS COVID-19 antiviral candidate compounds dat...</td>\n",
       "      <td>CAS COVID-19 antiviral candidate compounds dat...</td>\n",
       "      <td>cas covid 19 antiviral candidate compounds dat...</td>\n",
       "      <td>NaN</td>\n",
       "      <td>deployment of approximative mathematical model...</td>\n",
       "      <td>deployment of approximative mathematical model...</td>\n",
       "      <td>nan</td>\n",
       "      <td>True</td>\n",
       "    </tr>\n",
       "    <tr>\n",
       "      <th>384141</th>\n",
       "      <td>fd23e7e0-a5d2-4f98-992d-9209c85153bb</td>\n",
       "      <td>A ligand-based computational drug repurposing ...</td>\n",
       "      <td>CAS COVID-19 antiviral candidate compounds dat...</td>\n",
       "      <td>CAS COVID-19 antiviral candidate compounds data</td>\n",
       "      <td>cas covid 19 antiviral candidate compounds data</td>\n",
       "      <td>NaN</td>\n",
       "      <td>deployment of approximative mathematical model...</td>\n",
       "      <td>deployment of approximative mathematical model...</td>\n",
       "      <td>nan</td>\n",
       "      <td>True</td>\n",
       "    </tr>\n",
       "  </tbody>\n",
       "</table>\n",
       "<p>33496 rows × 10 columns</p>\n",
       "</div>"
      ],
      "text/plain": [
       "                                          Id  \\\n",
       "0       d0fa7568-7d8e-4db9-870f-f9c6f668c17b   \n",
       "9       d0fa7568-7d8e-4db9-870f-f9c6f668c17b   \n",
       "10      d0fa7568-7d8e-4db9-870f-f9c6f668c17b   \n",
       "18      d0fa7568-7d8e-4db9-870f-f9c6f668c17b   \n",
       "27      d0fa7568-7d8e-4db9-870f-f9c6f668c17b   \n",
       "...                                      ...   \n",
       "384105  f77eb51f-c3ac-420b-9586-cb187849c321   \n",
       "384108  f77eb51f-c3ac-420b-9586-cb187849c321   \n",
       "384114  f77eb51f-c3ac-420b-9586-cb187849c321   \n",
       "384125  fd23e7e0-a5d2-4f98-992d-9209c85153bb   \n",
       "384141  fd23e7e0-a5d2-4f98-992d-9209c85153bb   \n",
       "\n",
       "                                                pub_title  \\\n",
       "0       The Impact of Dual Enrollment on College Degre...   \n",
       "9       The Impact of Dual Enrollment on College Degre...   \n",
       "10      The Impact of Dual Enrollment on College Degre...   \n",
       "18      The Impact of Dual Enrollment on College Degre...   \n",
       "27      The Impact of Dual Enrollment on College Degre...   \n",
       "...                                                   ...   \n",
       "384105  MCCS: a novel recognition pattern-based method...   \n",
       "384108  MCCS: a novel recognition pattern-based method...   \n",
       "384114  MCCS: a novel recognition pattern-based method...   \n",
       "384125  A ligand-based computational drug repurposing ...   \n",
       "384141  A ligand-based computational drug repurposing ...   \n",
       "\n",
       "                                            dataset_title  \\\n",
       "0                   National Education Longitudinal Study   \n",
       "9                   National Education Longitudinal Study   \n",
       "10                  National Education Longitudinal Study   \n",
       "18                           Education Longitudinal Study   \n",
       "27                           Education Longitudinal Study   \n",
       "...                                                   ...   \n",
       "384105  CAS COVID-19 antiviral candidate compounds dat...   \n",
       "384108  CAS COVID-19 antiviral candidate compounds dat...   \n",
       "384114  CAS COVID-19 antiviral candidate compounds dat...   \n",
       "384125  CAS COVID-19 antiviral candidate compounds dat...   \n",
       "384141  CAS COVID-19 antiviral candidate compounds dat...   \n",
       "\n",
       "                                            dataset_label  \\\n",
       "0                   National Education Longitudinal Study   \n",
       "9                   National Education Longitudinal Study   \n",
       "10                  National Education Longitudinal Study   \n",
       "18                           Education Longitudinal Study   \n",
       "27                           Education Longitudinal Study   \n",
       "...                                                   ...   \n",
       "384105  CAS COVID-19 antiviral candidate compounds dat...   \n",
       "384108  CAS COVID-19 antiviral candidate compounds dat...   \n",
       "384114  CAS COVID-19 antiviral candidate compounds dat...   \n",
       "384125  CAS COVID-19 antiviral candidate compounds dat...   \n",
       "384141    CAS COVID-19 antiviral candidate compounds data   \n",
       "\n",
       "                                            cleaned_label  \\\n",
       "0                   national education longitudinal study   \n",
       "9                   national education longitudinal study   \n",
       "10                  national education longitudinal study   \n",
       "18                           education longitudinal study   \n",
       "27                           education longitudinal study   \n",
       "...                                                   ...   \n",
       "384105  cas covid 19 antiviral candidate compounds dat...   \n",
       "384108  cas covid 19 antiviral candidate compounds dat...   \n",
       "384114  cas covid 19 antiviral candidate compounds dat...   \n",
       "384125  cas covid 19 antiviral candidate compounds dat...   \n",
       "384141    cas covid 19 antiviral candidate compounds data   \n",
       "\n",
       "                                            section_title  \\\n",
       "0                               What is this study about?   \n",
       "9                                       Degree attainment   \n",
       "10                           Bachelor's degree attainment   \n",
       "18                              What is this study about?   \n",
       "27                                      Degree attainment   \n",
       "...                                                   ...   \n",
       "384105                                       Introduction   \n",
       "384108                          Virtual screening by MCCS   \n",
       "384114  Repurposing CAS COVID-19 antiviral candidate c...   \n",
       "384125                                                NaN   \n",
       "384141                                                NaN   \n",
       "\n",
       "                                                     text  \\\n",
       "0       This study used data from the National Educati...   \n",
       "9       Any college degree attainment The study author...   \n",
       "10      The study author collected information on bach...   \n",
       "18      This study used data from the National Educati...   \n",
       "27      Any college degree attainment The study author...   \n",
       "...                                                   ...   \n",
       "384105  The outbreak of the coronavirus disease 2019 ,...   \n",
       "384108  Starting with the code base of the current sta...   \n",
       "384114  MCCS was also used to predict the potential ca...   \n",
       "384125  deployment of approximative mathematical model...   \n",
       "384141  deployment of approximative mathematical model...   \n",
       "\n",
       "                                               clean_text  \\\n",
       "0       this study used data from the national educati...   \n",
       "9       any college degree attainment the study author...   \n",
       "10      the study author collected information on bach...   \n",
       "18      this study used data from the national educati...   \n",
       "27      any college degree attainment the study author...   \n",
       "...                                                   ...   \n",
       "384105  the outbreak of the coronavirus disease 2019 c...   \n",
       "384108  starting with the code base of the current sta...   \n",
       "384114  mccs was also used to predict the potential ca...   \n",
       "384125  deployment of approximative mathematical model...   \n",
       "384141  deployment of approximative mathematical model...   \n",
       "\n",
       "                                            clean_section  match  \n",
       "0                               what is this study about    True  \n",
       "9                                       degree attainment   True  \n",
       "10                           bachelor s degree attainment   True  \n",
       "18                              what is this study about    True  \n",
       "27                                      degree attainment   True  \n",
       "...                                                   ...    ...  \n",
       "384105                                       introduction   True  \n",
       "384108                          virtual screening by mccs   True  \n",
       "384114  repurposing cas covid 19 antiviral candidate c...   True  \n",
       "384125                                                nan   True  \n",
       "384141                                                nan   True  \n",
       "\n",
       "[33496 rows x 10 columns]"
      ]
     },
     "execution_count": 33,
     "metadata": {},
     "output_type": "execute_result"
    }
   ],
   "source": [
    "df_full = df_full[df_full['match']==True]\n",
    "df_full"
   ]
  },
  {
   "cell_type": "markdown",
   "metadata": {},
   "source": [
    "Here are the most common terms that show up in research publication sections. Since sections are called different things, we need to normalize and create a new column of normalized section names (ex. 'method', 'methods', 'methodology' all become 'method')"
   ]
  },
  {
   "cell_type": "code",
   "execution_count": 34,
   "metadata": {},
   "outputs": [
    {
     "data": {
      "text/plain": [
       "[('and', 5195),\n",
       " ('introduction', 3792),\n",
       " ('data', 3588),\n",
       " ('of', 3193),\n",
       " ('abstract', 2129),\n",
       " ('the', 2078),\n",
       " ('discussion', 1785),\n",
       " ('nan', 1676),\n",
       " ('in', 1282),\n",
       " ('methods', 1215),\n",
       " ('study', 934),\n",
       " ('a', 870),\n",
       " ('analysis', 846),\n",
       " ('results', 782),\n",
       " ('for', 733),\n",
       " ('s', 709),\n",
       " ('adni', 644),\n",
       " ('participants', 637),\n",
       " ('to', 604),\n",
       " ('subjects', 543),\n",
       " ('on', 536),\n",
       " ('2', 530),\n",
       " ('acquisition', 443),\n",
       " ('mri', 437),\n",
       " ('sample', 428),\n",
       " ('conclusion', 418),\n",
       " ('materials', 393),\n",
       " ('1', 392),\n",
       " ('disease', 391),\n",
       " ('with', 363),\n",
       " ('conclusions', 359),\n",
       " ('i', 356),\n",
       " ('ad', 346),\n",
       " ('alzheimer', 340),\n",
       " ('research', 339),\n",
       " ('education', 337),\n",
       " ('dataset', 328),\n",
       " ('background', 316),\n",
       " ('neuroimaging', 309),\n",
       " ('imaging', 304),\n",
       " ('longitudinal', 294),\n",
       " ('b', 290),\n",
       " ('model', 289),\n",
       " ('image', 286),\n",
       " ('c', 277),\n",
       " ('summary', 275),\n",
       " ('design', 272),\n",
       " ('studies', 251),\n",
       " ('e', 251),\n",
       " ('school', 247),\n",
       " ('pet', 245),\n",
       " ('from', 243),\n",
       " ('measures', 235),\n",
       " ('sources', 229),\n",
       " ('csf', 228),\n",
       " ('clinical', 226),\n",
       " ('statistical', 224),\n",
       " ('brain', 223),\n",
       " ('method', 220),\n",
       " ('processing', 218),\n",
       " ('by', 216),\n",
       " ('d', 211),\n",
       " ('datasets', 208),\n",
       " ('collection', 205),\n",
       " ('national', 201),\n",
       " ('3', 199),\n",
       " ('preprocessing', 199),\n",
       " ('t', 197),\n",
       " ('biomarkers', 196),\n",
       " ('limitations', 194),\n",
       " ('experimental', 194),\n",
       " ('cognitive', 192),\n",
       " ('methodology', 190),\n",
       " ('4', 190),\n",
       " ('characteristics', 189),\n",
       " ('experiments', 184),\n",
       " ('survey', 183),\n",
       " ('analyses', 176),\n",
       " ('initiative', 176),\n",
       " ('description', 173),\n",
       " ('source', 171),\n",
       " ('overview', 171),\n",
       " ('5', 168),\n",
       " ('future', 167),\n",
       " ('assessment', 166),\n",
       " ('cov', 162),\n",
       " ('variables', 161),\n",
       " ('student', 161),\n",
       " ('p', 160),\n",
       " ('sars', 160),\n",
       " ('students', 159),\n",
       " ('r', 156),\n",
       " ('based', 155),\n",
       " ('comparison', 152),\n",
       " ('u', 151),\n",
       " ('population', 148),\n",
       " ('literature', 144),\n",
       " ('classification', 144),\n",
       " ('validation', 143),\n",
       " ('between', 142)]"
      ]
     },
     "execution_count": 34,
     "metadata": {},
     "output_type": "execute_result"
    }
   ],
   "source": [
    "Counter(\" \".join(df_full['clean_section']).split()).most_common(100)"
   ]
  },
  {
   "cell_type": "markdown",
   "metadata": {},
   "source": [
    "check for syntax (difference between `Intro` and `Methods` refs)"
   ]
  },
  {
   "cell_type": "code",
   "execution_count": 35,
   "metadata": {},
   "outputs": [
    {
     "name": "stderr",
     "output_type": "stream",
     "text": [
      "<ipython-input-35-bf450b19deee>:65: SettingWithCopyWarning: \n",
      "A value is trying to be set on a copy of a slice from a DataFrame.\n",
      "Try using .loc[row_indexer,col_indexer] = value instead\n",
      "\n",
      "See the caveats in the documentation: https://pandas.pydata.org/pandas-docs/stable/user_guide/indexing.html#returning-a-view-versus-a-copy\n",
      "  df_normal['clean_section'] = df_normal['clean_section'].apply(lambda x: func(x))\n"
     ]
    },
    {
     "data": {
      "text/html": [
       "<div>\n",
       "<style scoped>\n",
       "    .dataframe tbody tr th:only-of-type {\n",
       "        vertical-align: middle;\n",
       "    }\n",
       "\n",
       "    .dataframe tbody tr th {\n",
       "        vertical-align: top;\n",
       "    }\n",
       "\n",
       "    .dataframe thead th {\n",
       "        text-align: right;\n",
       "    }\n",
       "</style>\n",
       "<table border=\"1\" class=\"dataframe\">\n",
       "  <thead>\n",
       "    <tr style=\"text-align: right;\">\n",
       "      <th></th>\n",
       "      <th>Id</th>\n",
       "      <th>pub_title</th>\n",
       "      <th>dataset_title</th>\n",
       "      <th>dataset_label</th>\n",
       "      <th>cleaned_label</th>\n",
       "      <th>section_title</th>\n",
       "      <th>text</th>\n",
       "      <th>clean_text</th>\n",
       "      <th>clean_section</th>\n",
       "      <th>match</th>\n",
       "    </tr>\n",
       "  </thead>\n",
       "  <tbody>\n",
       "    <tr>\n",
       "      <th>374794</th>\n",
       "      <td>8c4d5b3b-0c0b-452b-aaa6-ed4500017450</td>\n",
       "      <td>Evolutionary and structural analysis of SARS-C...</td>\n",
       "      <td>SARS-CoV-2 genome sequence</td>\n",
       "      <td>SARS-CoV-2 genome sequence</td>\n",
       "      <td>sars cov 2 genome sequence</td>\n",
       "      <td>Introduction</td>\n",
       "      <td>Since the first reports of patients with atypi...</td>\n",
       "      <td>since the first reports of patients with atypi...</td>\n",
       "      <td>introduction</td>\n",
       "      <td>True</td>\n",
       "    </tr>\n",
       "    <tr>\n",
       "      <th>70526</th>\n",
       "      <td>a8f76f92-e05a-4d30-b50c-61cc08b44952</td>\n",
       "      <td>Inference from Structured and Unstructured Ele...</td>\n",
       "      <td>Alzheimer's Disease Neuroimaging Initiative (A...</td>\n",
       "      <td>ADNI</td>\n",
       "      <td>adni</td>\n",
       "      <td>Abstract</td>\n",
       "      <td>Abstract The prevalence of Alzheimer's disease...</td>\n",
       "      <td>abstract the prevalence of alzheimer s disease...</td>\n",
       "      <td>abstract</td>\n",
       "      <td>True</td>\n",
       "    </tr>\n",
       "    <tr>\n",
       "      <th>160006</th>\n",
       "      <td>d22accc2-27be-4fd9-884a-4fd11ee16922</td>\n",
       "      <td>Estimation of the Proportion of Underachieving...</td>\n",
       "      <td>Trends in International Mathematics and Scienc...</td>\n",
       "      <td>Trends in International Mathematics and Scienc...</td>\n",
       "      <td>trends in international mathematics and scienc...</td>\n",
       "      <td>INTRODUCTION</td>\n",
       "      <td>The concept of underachievement has been widel...</td>\n",
       "      <td>the concept of underachievement has been widel...</td>\n",
       "      <td>introduction</td>\n",
       "      <td>True</td>\n",
       "    </tr>\n",
       "    <tr>\n",
       "      <th>79523</th>\n",
       "      <td>e63af169-0f82-44f1-83d0-0ecc57538f4f</td>\n",
       "      <td>Cerebral Blood Flow and Amyloid-β Interact to ...</td>\n",
       "      <td>Alzheimer's Disease Neuroimaging Initiative (A...</td>\n",
       "      <td>Alzheimer's Disease Neuroimaging Initiative (A...</td>\n",
       "      <td>alzheimer s disease neuroimaging initiative adni</td>\n",
       "      <td>Abstract</td>\n",
       "      <td>Cerebral blood flow (CBF) alterations and amyl...</td>\n",
       "      <td>cerebral blood flow cbf alterations and amyloi...</td>\n",
       "      <td>abstract</td>\n",
       "      <td>True</td>\n",
       "    </tr>\n",
       "    <tr>\n",
       "      <th>76263</th>\n",
       "      <td>68ede797-86a8-4153-b958-5eae494f65bd</td>\n",
       "      <td>Bayesian longitudinal segmentation of hippocam...</td>\n",
       "      <td>Alzheimer's Disease Neuroimaging Initiative (A...</td>\n",
       "      <td>ADNI</td>\n",
       "      <td>adni</td>\n",
       "      <td>Background</td>\n",
       "      <td>The study of the human hippocampus has traditi...</td>\n",
       "      <td>the study of the human hippocampus has traditi...</td>\n",
       "      <td>background</td>\n",
       "      <td>True</td>\n",
       "    </tr>\n",
       "    <tr>\n",
       "      <th>107892</th>\n",
       "      <td>9a74ff45-e3e5-4145-b20f-ab7377d6ec07</td>\n",
       "      <td>Non-linear registration improves statistical p...</td>\n",
       "      <td>Alzheimer's Disease Neuroimaging Initiative (A...</td>\n",
       "      <td>ADNI</td>\n",
       "      <td>adni</td>\n",
       "      <td>Abstract</td>\n",
       "      <td>Please cite this article as: F. Bartel, M. Vis...</td>\n",
       "      <td>please cite this article as f bartel m visser ...</td>\n",
       "      <td>abstract</td>\n",
       "      <td>True</td>\n",
       "    </tr>\n",
       "    <tr>\n",
       "      <th>54880</th>\n",
       "      <td>a551e590-419d-4564-8da0-0de4655dffa5</td>\n",
       "      <td>Entrenched obesity in childhood: findings from...</td>\n",
       "      <td>Early Childhood Longitudinal Study</td>\n",
       "      <td>Early Childhood Longitudinal Study</td>\n",
       "      <td>early childhood longitudinal study</td>\n",
       "      <td>Data</td>\n",
       "      <td>We analyzed data from the Early Childhood Long...</td>\n",
       "      <td>we analyzed data from the early childhood long...</td>\n",
       "      <td>data</td>\n",
       "      <td>True</td>\n",
       "    </tr>\n",
       "    <tr>\n",
       "      <th>95903</th>\n",
       "      <td>a0ec03e0-cd63-4684-b3d7-b1cf6f74948f</td>\n",
       "      <td>r Human Brain Mapping 00:000–000 (2012) r Pred...</td>\n",
       "      <td>Alzheimer's Disease Neuroimaging Initiative (A...</td>\n",
       "      <td>ADNI</td>\n",
       "      <td>adni</td>\n",
       "      <td>INTRODUCTION</td>\n",
       "      <td>Alzheimer's disease (AD) is a progressive, irr...</td>\n",
       "      <td>alzheimer s disease ad is a progressive irreve...</td>\n",
       "      <td>introduction</td>\n",
       "      <td>True</td>\n",
       "    </tr>\n",
       "    <tr>\n",
       "      <th>73472</th>\n",
       "      <td>5348ef43-9646-4fec-8a8d-c3e59c2eac15</td>\n",
       "      <td>Association between mitochondrial DNA variatio...</td>\n",
       "      <td>Alzheimer's Disease Neuroimaging Initiative (A...</td>\n",
       "      <td>ADNI</td>\n",
       "      <td>adni</td>\n",
       "      <td>Abstract</td>\n",
       "      <td>Despite the central role of amyloid deposition...</td>\n",
       "      <td>despite the central role of amyloid deposition...</td>\n",
       "      <td>abstract</td>\n",
       "      <td>True</td>\n",
       "    </tr>\n",
       "    <tr>\n",
       "      <th>258230</th>\n",
       "      <td>76b99367-371f-4b59-9ec9-35d16f2f4033</td>\n",
       "      <td>A Profile of Schools Attended by Eighth Grader...</td>\n",
       "      <td>National Education Longitudinal Study</td>\n",
       "      <td>National Education Longitudinal Study</td>\n",
       "      <td>national education longitudinal study</td>\n",
       "      <td>Conclusion</td>\n",
       "      <td>The data from NELS:88 underscore an apparent f...</td>\n",
       "      <td>the data from nels 88 underscore an apparent f...</td>\n",
       "      <td>conclusions</td>\n",
       "      <td>True</td>\n",
       "    </tr>\n",
       "  </tbody>\n",
       "</table>\n",
       "</div>"
      ],
      "text/plain": [
       "                                          Id  \\\n",
       "374794  8c4d5b3b-0c0b-452b-aaa6-ed4500017450   \n",
       "70526   a8f76f92-e05a-4d30-b50c-61cc08b44952   \n",
       "160006  d22accc2-27be-4fd9-884a-4fd11ee16922   \n",
       "79523   e63af169-0f82-44f1-83d0-0ecc57538f4f   \n",
       "76263   68ede797-86a8-4153-b958-5eae494f65bd   \n",
       "107892  9a74ff45-e3e5-4145-b20f-ab7377d6ec07   \n",
       "54880   a551e590-419d-4564-8da0-0de4655dffa5   \n",
       "95903   a0ec03e0-cd63-4684-b3d7-b1cf6f74948f   \n",
       "73472   5348ef43-9646-4fec-8a8d-c3e59c2eac15   \n",
       "258230  76b99367-371f-4b59-9ec9-35d16f2f4033   \n",
       "\n",
       "                                                pub_title  \\\n",
       "374794  Evolutionary and structural analysis of SARS-C...   \n",
       "70526   Inference from Structured and Unstructured Ele...   \n",
       "160006  Estimation of the Proportion of Underachieving...   \n",
       "79523   Cerebral Blood Flow and Amyloid-β Interact to ...   \n",
       "76263   Bayesian longitudinal segmentation of hippocam...   \n",
       "107892  Non-linear registration improves statistical p...   \n",
       "54880   Entrenched obesity in childhood: findings from...   \n",
       "95903   r Human Brain Mapping 00:000–000 (2012) r Pred...   \n",
       "73472   Association between mitochondrial DNA variatio...   \n",
       "258230  A Profile of Schools Attended by Eighth Grader...   \n",
       "\n",
       "                                            dataset_title  \\\n",
       "374794                         SARS-CoV-2 genome sequence   \n",
       "70526   Alzheimer's Disease Neuroimaging Initiative (A...   \n",
       "160006  Trends in International Mathematics and Scienc...   \n",
       "79523   Alzheimer's Disease Neuroimaging Initiative (A...   \n",
       "76263   Alzheimer's Disease Neuroimaging Initiative (A...   \n",
       "107892  Alzheimer's Disease Neuroimaging Initiative (A...   \n",
       "54880                  Early Childhood Longitudinal Study   \n",
       "95903   Alzheimer's Disease Neuroimaging Initiative (A...   \n",
       "73472   Alzheimer's Disease Neuroimaging Initiative (A...   \n",
       "258230              National Education Longitudinal Study   \n",
       "\n",
       "                                            dataset_label  \\\n",
       "374794                         SARS-CoV-2 genome sequence   \n",
       "70526                                                ADNI   \n",
       "160006  Trends in International Mathematics and Scienc...   \n",
       "79523   Alzheimer's Disease Neuroimaging Initiative (A...   \n",
       "76263                                                ADNI   \n",
       "107892                                               ADNI   \n",
       "54880                  Early Childhood Longitudinal Study   \n",
       "95903                                                ADNI   \n",
       "73472                                                ADNI   \n",
       "258230              National Education Longitudinal Study   \n",
       "\n",
       "                                            cleaned_label section_title  \\\n",
       "374794                         sars cov 2 genome sequence  Introduction   \n",
       "70526                                                adni      Abstract   \n",
       "160006  trends in international mathematics and scienc...  INTRODUCTION   \n",
       "79523   alzheimer s disease neuroimaging initiative adni       Abstract   \n",
       "76263                                                adni    Background   \n",
       "107892                                               adni      Abstract   \n",
       "54880                  early childhood longitudinal study          Data   \n",
       "95903                                                adni  INTRODUCTION   \n",
       "73472                                                adni      Abstract   \n",
       "258230              national education longitudinal study    Conclusion   \n",
       "\n",
       "                                                     text  \\\n",
       "374794  Since the first reports of patients with atypi...   \n",
       "70526   Abstract The prevalence of Alzheimer's disease...   \n",
       "160006  The concept of underachievement has been widel...   \n",
       "79523   Cerebral blood flow (CBF) alterations and amyl...   \n",
       "76263   The study of the human hippocampus has traditi...   \n",
       "107892  Please cite this article as: F. Bartel, M. Vis...   \n",
       "54880   We analyzed data from the Early Childhood Long...   \n",
       "95903   Alzheimer's disease (AD) is a progressive, irr...   \n",
       "73472   Despite the central role of amyloid deposition...   \n",
       "258230  The data from NELS:88 underscore an apparent f...   \n",
       "\n",
       "                                               clean_text clean_section  match  \n",
       "374794  since the first reports of patients with atypi...  introduction   True  \n",
       "70526   abstract the prevalence of alzheimer s disease...      abstract   True  \n",
       "160006  the concept of underachievement has been widel...  introduction   True  \n",
       "79523   cerebral blood flow cbf alterations and amyloi...      abstract   True  \n",
       "76263   the study of the human hippocampus has traditi...    background   True  \n",
       "107892  please cite this article as f bartel m visser ...      abstract   True  \n",
       "54880   we analyzed data from the early childhood long...          data   True  \n",
       "95903   alzheimer s disease ad is a progressive irreve...  introduction   True  \n",
       "73472   despite the central role of amyloid deposition...      abstract   True  \n",
       "258230  the data from nels 88 underscore an apparent f...   conclusions   True  "
      ]
     },
     "execution_count": 35,
     "metadata": {},
     "output_type": "execute_result"
    }
   ],
   "source": [
    "pub_sections = [\"title\", \n",
    "                \"abstract\", \n",
    "                \"introduction\", \n",
    "                \"background\",\n",
    "                \"method\",\n",
    "                \"methods\", \n",
    "                \"methodology\",\n",
    "                \"preprocessing\",\n",
    "                \"design\",\n",
    "                \"analysis\",\n",
    "                \"sample\", \n",
    "                \"results\", \n",
    "                \"discussion\", \n",
    "                \"conclusion\", \n",
    "                \"conclusions\",\n",
    "                \"summary\",\n",
    "                \"references\", \n",
    "                \"data\", \n",
    "                \"material\",\n",
    "                \"materials\", \n",
    "                \"supplement\",\n",
    "                \"supplements\",\n",
    "                \"supplementary\",\n",
    "                \"table\",\n",
    "                \"tables\", \n",
    "                \"figure\",\n",
    "                \"figures\",\n",
    "                \"footnote\",\n",
    "                \"footnotes\",\n",
    "                \"acknowledgement\",\n",
    "                \"acknowledgements\",\n",
    "                \"appendix\",\n",
    "                \"appendices\"]\n",
    "\n",
    "df_normal = df_full.query('clean_section in @pub_sections')\n",
    "\n",
    "def func(a):\n",
    "    if \"method\" in a.lower():\n",
    "        return \"methods\"\n",
    "    elif \"methodology\" in a.lower():\n",
    "        return \"methods\"\n",
    "    elif \"conclusion\" in a.lower():\n",
    "        return \"conclusions\"\n",
    "    elif \"materials\" in a.lower():\n",
    "        return \"material\"\n",
    "    elif \"supplements\" in a.lower():\n",
    "        return \"supplement\"\n",
    "    elif \"supplementary\" in a.lower():\n",
    "        return \"supplement\"\n",
    "    elif \"figures\" in a.lower():\n",
    "        return \"figures\"\n",
    "    elif \"footnote\" in a.lower():\n",
    "        return \"footnotes\"\n",
    "    elif \"figures\" in a.lower():\n",
    "        return \"figure\"\n",
    "    elif \"tables\" in a.lower():\n",
    "        return \"table\"\n",
    "    elif \"acknowledgements\" in a.lower():\n",
    "        return \"acknowledgement\"\n",
    "    elif \"appendices\" in a.lower():\n",
    "        return \"appendix\"\n",
    "    else:\n",
    "        return a\n",
    "\n",
    "df_normal['clean_section'] = df_normal['clean_section'].apply(lambda x: func(x))\n",
    "df_normal.sample(n=10)"
   ]
  },
  {
   "cell_type": "code",
   "execution_count": 36,
   "metadata": {},
   "outputs": [
    {
     "data": {
      "text/plain": [
       "<matplotlib.axes._subplots.AxesSubplot at 0x2b4ea16762e0>"
      ]
     },
     "execution_count": 36,
     "metadata": {},
     "output_type": "execute_result"
    },
    {
     "data": {
      "image/png": "[encoded data removed]",
      "text/plain": [
       "<Figure size 864x720 with 1 Axes>"
      ]
     },
     "metadata": {
      "needs_background": "light"
     },
     "output_type": "display_data"
    }
   ],
   "source": [
    "section_counts = df_normal['clean_section'].value_counts().sort_values()\n",
    "section_counts.plot(kind='barh',figsize=(12,10))"
   ]
  },
  {
   "cell_type": "markdown",
   "metadata": {},
   "source": [
    "## What **distinctive terms** accompany data citations?\n",
    "Get scores for frequent and distinctive terms"
   ]
  },
  {
   "cell_type": "code",
   "execution_count": null,
   "metadata": {},
   "outputs": [],
   "source": [
    "v = TfidfVectorizer(max_df=.5, min_df=1, stop_words='english', use_idf=True, norm=None)\n",
    "x = v.fit_transform(df_normal['dataset_label']).toarray()\n",
    "\n",
    "for counter, doc in enumerate(x):\n",
    "    tf_idf_tuples = list(zip(vectorizer.get_feature_names(), doc))\n",
    "    one_doc_as_df = pd.DataFrame.from_records(tf_idf_tuples, columns=['term', 'score']).sort_values(by='score', ascending=False).reset_index(drop=True)\n",
    "\n",
    "one_doc_as_df"
   ]
  },
  {
   "cell_type": "markdown",
   "metadata": {},
   "source": [
    "## Are more data citations **formal or informal**?"
   ]
  },
  {
   "cell_type": "markdown",
   "metadata": {},
   "source": [
    "Split all sections in \"normal\" publication sections into sentences; keep only those sentences that contain a reference to a dataset label. Splitting with `nltk.sent_tokenize` gives better results than by delimiter (.) \n",
    "\n",
    "**Note**: We may want to return to this if we need examples of sentences without data citations. Not saving df now as it's too large and can be reproduced"
   ]
  },
  {
   "cell_type": "code",
   "execution_count": 48,
   "metadata": {},
   "outputs": [
    {
     "data": {
      "text/plain": [
       "False    652647\n",
       "True      43003\n",
       "Name: match, dtype: int64"
      ]
     },
     "execution_count": 48,
     "metadata": {},
     "output_type": "execute_result"
    }
   ],
   "source": [
    "# sent = pd.DataFrame(df_normal.text.str.split('.').tolist(), index=df_normal.Id).stack()\n",
    "sent = pd.DataFrame(df_normal['text'].apply(sent_tokenize).tolist(), index=df_normal.Id).stack()\n",
    "sent = sent.reset_index()[[0, 'Id']]\n",
    "sent.columns = ['sent', 'Id']\n",
    "\n",
    "df_sent = sent.merge(df_normal, on='Id')\n",
    "df_sent = df_sent.drop(columns=['clean_text', \n",
    "                      'clean_section', \n",
    "                      'match', \n",
    "                      'text', \n",
    "                      'cleaned_label'])\n",
    "\n",
    "df_sent['dataset_label'] = df_sent['dataset_label'].astype(str)\n",
    "df_sent['sent'] = df_sent['sent'].astype(str)\n",
    "df_sent['match'] = df_sent.apply(lambda x: x.dataset_label in x.sent, axis=1)\n",
    "df_sent['match'].value_counts()"
   ]
  },
  {
   "cell_type": "markdown",
   "metadata": {},
   "source": [
    "Save dataframe of labeled sentences containing dataset references for training"
   ]
  },
  {
   "cell_type": "code",
   "execution_count": 49,
   "metadata": {},
   "outputs": [
    {
     "data": {
      "text/html": [
       "<div>\n",
       "<style scoped>\n",
       "    .dataframe tbody tr th:only-of-type {\n",
       "        vertical-align: middle;\n",
       "    }\n",
       "\n",
       "    .dataframe tbody tr th {\n",
       "        vertical-align: top;\n",
       "    }\n",
       "\n",
       "    .dataframe thead th {\n",
       "        text-align: right;\n",
       "    }\n",
       "</style>\n",
       "<table border=\"1\" class=\"dataframe\">\n",
       "  <thead>\n",
       "    <tr style=\"text-align: right;\">\n",
       "      <th></th>\n",
       "      <th>Id</th>\n",
       "      <th>pub_title</th>\n",
       "      <th>section_title</th>\n",
       "      <th>sent</th>\n",
       "      <th>dataset_title</th>\n",
       "      <th>dataset_label</th>\n",
       "    </tr>\n",
       "  </thead>\n",
       "  <tbody>\n",
       "    <tr>\n",
       "      <th>662250</th>\n",
       "      <td>70533ed6-4e37-43cb-989e-33abac373fb1</td>\n",
       "      <td>Estimating breeding bird survey trends and ann...</td>\n",
       "      <td>Introduction</td>\n",
       "      <td>The North American Breeding Bird Survey (BBS) ...</td>\n",
       "      <td>North American Breeding Bird Survey (BBS)</td>\n",
       "      <td>North American Breeding Bird Survey</td>\n",
       "    </tr>\n",
       "    <tr>\n",
       "      <th>414639</th>\n",
       "      <td>445b14cf-2f37-4af3-9f92-bd653c37758e</td>\n",
       "      <td>Systematic comparison of different techniques ...</td>\n",
       "      <td>Discussion</td>\n",
       "      <td>The primary goal of ADNI has been to investiga...</td>\n",
       "      <td>Alzheimer's Disease Neuroimaging Initiative (A...</td>\n",
       "      <td>ADNI</td>\n",
       "    </tr>\n",
       "    <tr>\n",
       "      <th>441939</th>\n",
       "      <td>4847a4e1-7e35-4d9b-8165-57ca883c273c</td>\n",
       "      <td>Rate of Conversion from Prodromal Alzheimer's ...</td>\n",
       "      <td>Discussion</td>\n",
       "      <td>The studies of the ADNI cohort reported marked...</td>\n",
       "      <td>Alzheimer's Disease Neuroimaging Initiative (A...</td>\n",
       "      <td>ADNI</td>\n",
       "    </tr>\n",
       "    <tr>\n",
       "      <th>556499</th>\n",
       "      <td>ace6ee4a-051a-490f-9e5d-fd139a0fa8d6</td>\n",
       "      <td>The Relationship between Teachers’ Perceptions...</td>\n",
       "      <td>Introduction</td>\n",
       "      <td>This study used wave 1 data from the High Scho...</td>\n",
       "      <td>High School Longitudinal Study</td>\n",
       "      <td>High School Longitudinal Study</td>\n",
       "    </tr>\n",
       "    <tr>\n",
       "      <th>332514</th>\n",
       "      <td>1043c7c0-c4a9-4be8-99de-f6758fe5eadd</td>\n",
       "      <td>Surgery and Brain Atrophy in Cognitively Norma...</td>\n",
       "      <td>Discussion</td>\n",
       "      <td>‡ ‡ Data used in preparation of this article w...</td>\n",
       "      <td>Alzheimer's Disease Neuroimaging Initiative (A...</td>\n",
       "      <td>ADNI</td>\n",
       "    </tr>\n",
       "  </tbody>\n",
       "</table>\n",
       "</div>"
      ],
      "text/plain": [
       "                                          Id  \\\n",
       "662250  70533ed6-4e37-43cb-989e-33abac373fb1   \n",
       "414639  445b14cf-2f37-4af3-9f92-bd653c37758e   \n",
       "441939  4847a4e1-7e35-4d9b-8165-57ca883c273c   \n",
       "556499  ace6ee4a-051a-490f-9e5d-fd139a0fa8d6   \n",
       "332514  1043c7c0-c4a9-4be8-99de-f6758fe5eadd   \n",
       "\n",
       "                                                pub_title section_title  \\\n",
       "662250  Estimating breeding bird survey trends and ann...  Introduction   \n",
       "414639  Systematic comparison of different techniques ...    Discussion   \n",
       "441939  Rate of Conversion from Prodromal Alzheimer's ...    Discussion   \n",
       "556499  The Relationship between Teachers’ Perceptions...  Introduction   \n",
       "332514  Surgery and Brain Atrophy in Cognitively Norma...    Discussion   \n",
       "\n",
       "                                                     sent  \\\n",
       "662250  The North American Breeding Bird Survey (BBS) ...   \n",
       "414639  The primary goal of ADNI has been to investiga...   \n",
       "441939  The studies of the ADNI cohort reported marked...   \n",
       "556499  This study used wave 1 data from the High Scho...   \n",
       "332514  ‡ ‡ Data used in preparation of this article w...   \n",
       "\n",
       "                                            dataset_title  \\\n",
       "662250          North American Breeding Bird Survey (BBS)   \n",
       "414639  Alzheimer's Disease Neuroimaging Initiative (A...   \n",
       "441939  Alzheimer's Disease Neuroimaging Initiative (A...   \n",
       "556499                     High School Longitudinal Study   \n",
       "332514  Alzheimer's Disease Neuroimaging Initiative (A...   \n",
       "\n",
       "                              dataset_label  \n",
       "662250  North American Breeding Bird Survey  \n",
       "414639                                 ADNI  \n",
       "441939                                 ADNI  \n",
       "556499       High School Longitudinal Study  \n",
       "332514                                 ADNI  "
      ]
     },
     "execution_count": 49,
     "metadata": {},
     "output_type": "execute_result"
    }
   ],
   "source": [
    "df_sent = df_sent[df_sent['match']==True]\n",
    "df_sent = df_sent.drop(columns=['match'])\n",
    "df_sent = df_sent[['Id', 'pub_title', 'section_title', 'sent', 'dataset_title', 'dataset_label']]\n",
    "df_sent.sample(n=5)\n",
    "# df_sent.to_csv(path+'training_sentences.csv')"
   ]
  },
  {
   "cell_type": "markdown",
   "metadata": {},
   "source": [
    "Example of a **formal** data reference where dataset is cited like a publication using author names, year, url"
   ]
  },
  {
   "cell_type": "code",
   "execution_count": 58,
   "metadata": {},
   "outputs": [
    {
     "data": {
      "text/plain": [
       "'(2009) , the authors applied statistical techniques to both ADNI and BLSA subjects (Shock et al., 1984) .'"
      ]
     },
     "execution_count": 58,
     "metadata": {},
     "output_type": "execute_result"
    }
   ],
   "source": [
    "df_sent.iloc[3000,3]"
   ]
  },
  {
   "cell_type": "code",
   "execution_count": 60,
   "metadata": {},
   "outputs": [
    {
     "data": {
      "text/plain": [
       "'Discussion'"
      ]
     },
     "execution_count": 60,
     "metadata": {},
     "output_type": "execute_result"
    }
   ],
   "source": [
    "df_sent.iloc[3000,2]"
   ]
  },
  {
   "cell_type": "markdown",
   "metadata": {},
   "source": [
    "Example of an **informal** data reference: mentions datasets by name/variant, possibly as a comparison"
   ]
  },
  {
   "cell_type": "code",
   "execution_count": 62,
   "metadata": {},
   "outputs": [
    {
     "data": {
      "text/plain": [
       "'In the original, unmodified SLOSH model, the magnitude of the radially variable factor used in the background wind (1) has a maximum value of 0.5 at R max , and decreases toward the core and outer radius of the storm.'"
      ]
     },
     "execution_count": 62,
     "metadata": {},
     "output_type": "execute_result"
    }
   ],
   "source": [
    "df_sent.iloc[680,3]"
   ]
  },
  {
   "cell_type": "code",
   "execution_count": 63,
   "metadata": {},
   "outputs": [
    {
     "data": {
      "text/plain": [
       "'Abstract'"
      ]
     },
     "execution_count": 63,
     "metadata": {},
     "output_type": "execute_result"
    }
   ],
   "source": [
    "df_sent.iloc[680,2]"
   ]
  },
  {
   "cell_type": "markdown",
   "metadata": {},
   "source": [
    "## What **indicator terms** accompany a data citation?"
   ]
  },
  {
   "cell_type": "markdown",
   "metadata": {},
   "source": [
    "Let's see if the sentences with data references include terms and phrases indicating data sharing and reuse as predicted by Park et al. (2018). We add:\n",
    "\n",
    "[check for URL before cleaning]\n",
    "\n",
    "- \"nsf\", \"national science foundation\", \"grant\" (these may be given in an acknowledgements section)\n",
    "- \"doi\""
   ]
  },
  {
   "cell_type": "code",
   "execution_count": 64,
   "metadata": {},
   "outputs": [],
   "source": [
    "indicator_terms = [\"accession\", \n",
    "                   \"available at\", \n",
    "                   \"available from\", \n",
    "                   \"com\", \n",
    "                   \"commercial\", \n",
    "                   \"corp\", \n",
    "                   \"dataset\", \n",
    "                   \"datasets\", \n",
    "                   \"database\", \n",
    "                   \"deposited\",\n",
    "                   \"doi\",\n",
    "                   \"donated\",\n",
    "                   \"edu\",\n",
    "                   \"ftp\", \n",
    "                   \"gift\", \n",
    "                   \"gov\", \n",
    "                   \"inc\", \n",
    "                   \"national institutes of health\", \n",
    "                   \"national science foundation\",\n",
    "                   \"nih\", \n",
    "                   \"nsf\",\n",
    "                   \"grant\",\n",
    "                   \"obtained from\", \n",
    "                   \"publicly available\", \n",
    "                   \"purchased from\", \n",
    "                   \"repository\", \n",
    "                   \"sample sets stored\", \n",
    "                   \"suppl\", \n",
    "                   \"supplemental\",\n",
    "                   \"survey\"]\n",
    "\n",
    "ind_pattern = '|'.join(indicator_terms)\n",
    "\n",
    "def search_pat(search_str:str, search_list:str):\n",
    "    search_obj = re.search(search_list, search_str)\n",
    "    if search_obj:\n",
    "        return_str = search_str[search_obj.start(): search_obj.end()]\n",
    "    else:\n",
    "        return_str = 'NA'\n",
    "    return return_str\n",
    "\n",
    "df_sent['sent_clean'] = df_sent['sent'].apply(clean_text)\n",
    "df_sent['indicator'] = df_sent['sent_clean'].apply(lambda x: search_pat(search_str=x, search_list=ind_pattern))\n",
    "df_sent = df_sent[df_sent.indicator != 'NA']"
   ]
  },
  {
   "cell_type": "code",
   "execution_count": 65,
   "metadata": {},
   "outputs": [
    {
     "data": {
      "text/plain": [
       "<matplotlib.axes._subplots.AxesSubplot at 0x2b4ea1ad36a0>"
      ]
     },
     "execution_count": 65,
     "metadata": {},
     "output_type": "execute_result"
    },
    {
     "data": {
      "image/png": "[encoded data removed]",
      "text/plain": [
       "<Figure size 864x720 with 1 Axes>"
      ]
     },
     "metadata": {
      "needs_background": "light"
     },
     "output_type": "display_data"
    }
   ],
   "source": [
    "indicator_counts = df_sent['indicator'].value_counts().sort_values()\n",
    "indicator_counts.plot(kind='barh',figsize=(12,10))"
   ]
  },
  {
   "cell_type": "markdown",
   "metadata": {},
   "source": [
    "## What **named entities** are mentioned in data citations?"
   ]
  },
  {
   "cell_type": "markdown",
   "metadata": {},
   "source": [
    "Full dataframe of citances is too large, so create a random 1% sample for demonstration of spaCy NER"
   ]
  },
  {
   "cell_type": "code",
   "execution_count": 131,
   "metadata": {},
   "outputs": [
    {
     "name": "stdout",
     "output_type": "stream",
     "text": [
      "CO-Search displays content from over 128,000 coronavirus-related scientific papers made available through the COVID-19 Open Research Dataset Challenge (CORD-19) [23] -an initiative put forth by the US White House and other prominent institutions in early 2020.\n"
     ]
    }
   ],
   "source": [
    "sent_sample = df_sent.sample(1976)\n",
    "citances = [x for x in sent_sample.sent]\n",
    "print(citances[0])"
   ]
  },
  {
   "cell_type": "code",
   "execution_count": 132,
   "metadata": {},
   "outputs": [
    {
     "data": {
      "text/html": [
       "<span class=\"tex2jax_ignore\"><div class=\"entities\" style=\"line-height: 2.5; direction: ltr\">\n",
       "<mark class=\"entity\" style=\"background: #7aecec; padding: 0.45em 0.6em; margin: 0 0.25em; line-height: 1; border-radius: 0.35em;\">\n",
       "    CO-Search\n",
       "    <span style=\"font-size: 0.8em; font-weight: bold; line-height: 1; border-radius: 0.35em; vertical-align: middle; margin-left: 0.5rem\">ORG</span>\n",
       "</mark>\n",
       " displays content from \n",
       "<mark class=\"entity\" style=\"background: #e4e7d2; padding: 0.45em 0.6em; margin: 0 0.25em; line-height: 1; border-radius: 0.35em;\">\n",
       "    over 128,000\n",
       "    <span style=\"font-size: 0.8em; font-weight: bold; line-height: 1; border-radius: 0.35em; vertical-align: middle; margin-left: 0.5rem\">CARDINAL</span>\n",
       "</mark>\n",
       " coronavirus-related scientific papers made available through the COVID-19 Open Research Dataset Challenge (CORD-19) [\n",
       "<mark class=\"entity\" style=\"background: #e4e7d2; padding: 0.45em 0.6em; margin: 0 0.25em; line-height: 1; border-radius: 0.35em;\">\n",
       "    23\n",
       "    <span style=\"font-size: 0.8em; font-weight: bold; line-height: 1; border-radius: 0.35em; vertical-align: middle; margin-left: 0.5rem\">CARDINAL</span>\n",
       "</mark>\n",
       "] -an initiative put forth by the \n",
       "<mark class=\"entity\" style=\"background: #feca74; padding: 0.45em 0.6em; margin: 0 0.25em; line-height: 1; border-radius: 0.35em;\">\n",
       "    US\n",
       "    <span style=\"font-size: 0.8em; font-weight: bold; line-height: 1; border-radius: 0.35em; vertical-align: middle; margin-left: 0.5rem\">GPE</span>\n",
       "</mark>\n",
       " \n",
       "<mark class=\"entity\" style=\"background: #7aecec; padding: 0.45em 0.6em; margin: 0 0.25em; line-height: 1; border-radius: 0.35em;\">\n",
       "    White House\n",
       "    <span style=\"font-size: 0.8em; font-weight: bold; line-height: 1; border-radius: 0.35em; vertical-align: middle; margin-left: 0.5rem\">ORG</span>\n",
       "</mark>\n",
       " and other prominent institutions in \n",
       "<mark class=\"entity\" style=\"background: #bfe1d9; padding: 0.45em 0.6em; margin: 0 0.25em; line-height: 1; border-radius: 0.35em;\">\n",
       "    early 2020\n",
       "    <span style=\"font-size: 0.8em; font-weight: bold; line-height: 1; border-radius: 0.35em; vertical-align: middle; margin-left: 0.5rem\">DATE</span>\n",
       "</mark>\n",
       ".</div></span>"
      ],
      "text/plain": [
       "<IPython.core.display.HTML object>"
      ]
     },
     "metadata": {},
     "output_type": "display_data"
    }
   ],
   "source": [
    "spacy.displacy.render(nlp(str(citances[0])), jupyter=True, style='ent')"
   ]
  },
  {
   "cell_type": "code",
   "execution_count": 133,
   "metadata": {},
   "outputs": [
    {
     "name": "stdout",
     "output_type": "stream",
     "text": [
      "[('CO-Search', 'ORG'), ('over 128,000', 'CARDINAL'), ('23', 'CARDINAL'), ('US', 'GPE'), ('White House', 'ORG'), ('early 2020', 'DATE')]\n"
     ]
    }
   ],
   "source": [
    "doc = nlp(citances[0])\n",
    "print([(X.text, X.label_) for X in doc.ents])"
   ]
  },
  {
   "cell_type": "markdown",
   "metadata": {},
   "source": [
    "Parsing: \"B\" means the token begins an entity, \"I\" means it is inside an entity, \"O\" means it is outside an entity, and \"\" means no entity tag is set"
   ]
  },
  {
   "cell_type": "code",
   "execution_count": 134,
   "metadata": {},
   "outputs": [
    {
     "name": "stdout",
     "output_type": "stream",
     "text": [
      "[(CO, 'B', 'ORG'), (-, 'I', 'ORG'), (Search, 'I', 'ORG'), (displays, 'O', ''), (content, 'O', ''), (from, 'O', ''), (over, 'B', 'CARDINAL'), (128,000, 'I', 'CARDINAL'), (coronavirus, 'O', ''), (-, 'O', ''), (related, 'O', ''), (scientific, 'O', ''), (papers, 'O', ''), (made, 'O', ''), (available, 'O', ''), (through, 'O', ''), (the, 'O', ''), (COVID-19, 'O', ''), (Open, 'O', ''), (Research, 'O', ''), (Dataset, 'O', ''), (Challenge, 'O', ''), ((, 'O', ''), (CORD-19, 'O', ''), (), 'O', ''), ([, 'O', ''), (23, 'B', 'CARDINAL'), (], 'O', ''), (-an, 'O', ''), (initiative, 'O', ''), (put, 'O', ''), (forth, 'O', ''), (by, 'O', ''), (the, 'O', ''), (US, 'B', 'GPE'), (White, 'B', 'ORG'), (House, 'I', 'ORG'), (and, 'O', ''), (other, 'O', ''), (prominent, 'O', ''), (institutions, 'O', ''), (in, 'O', ''), (early, 'B', 'DATE'), (2020, 'I', 'DATE'), (., 'O', '')]\n"
     ]
    }
   ],
   "source": [
    "print([(X, X.ent_iob_, X.ent_type_) for X in doc])"
   ]
  },
  {
   "cell_type": "code",
   "execution_count": 135,
   "metadata": {},
   "outputs": [
    {
     "data": {
      "text/plain": [
       "Counter({'ORG': 2, 'CARDINAL': 2, 'GPE': 1, 'DATE': 1})"
      ]
     },
     "execution_count": 135,
     "metadata": {},
     "output_type": "execute_result"
    }
   ],
   "source": [
    "labels = [x.label_ for x in doc.ents]\n",
    "len(labels)\n",
    "Counter(labels)"
   ]
  },
  {
   "cell_type": "code",
   "execution_count": 136,
   "metadata": {},
   "outputs": [
    {
     "data": {
      "text/plain": [
       "[('CO-Search', 1), ('over 128,000', 1), ('23', 1)]"
      ]
     },
     "execution_count": 136,
     "metadata": {},
     "output_type": "execute_result"
    }
   ],
   "source": [
    "items = [x.text for x in doc.ents]\n",
    "Counter(items).most_common(3)"
   ]
  },
  {
   "cell_type": "code",
   "execution_count": 137,
   "metadata": {},
   "outputs": [
    {
     "data": {
      "text/plain": [
       "{'CO-Search': 'ORG',\n",
       " 'over 128,000': 'CARDINAL',\n",
       " '23': 'CARDINAL',\n",
       " 'US': 'GPE',\n",
       " 'White House': 'ORG',\n",
       " 'early 2020': 'DATE'}"
      ]
     },
     "execution_count": 137,
     "metadata": {},
     "output_type": "execute_result"
    }
   ],
   "source": [
    "dict([(str(x), x.label_) for x in nlp(str(doc)).ents])"
   ]
  },
  {
   "cell_type": "markdown",
   "metadata": {},
   "source": [
    "Define functions for extracting named entities in dataframe"
   ]
  },
  {
   "cell_type": "code",
   "execution_count": 138,
   "metadata": {},
   "outputs": [],
   "source": [
    "def extract_named_ents(text):\n",
    "    \"\"\"Extract named entities, and beginning, middle and end idx using spaCy's out-of-the-box model. \n",
    "    \n",
    "    Keyword arguments:\n",
    "    text -- the actual text source from which to extract entities\n",
    "    \n",
    "    \"\"\"\n",
    "#     return [(ent.text, ent.start_char, ent.end_char, ent.label_) for ent in nlp(text).ents]\n",
    "    return [(ent.text, ent.label_) for ent in nlp(text).ents]\n",
    "\n",
    "def add_named_ents(df):\n",
    "    \"\"\"Create new column in data frame with named entity tuple extracted.\n",
    "    \n",
    "    Keyword arguments:\n",
    "    df -- a dataframe object\n",
    "    \n",
    "    \"\"\"\n",
    "    sent_sample['named_ents'] = sent_sample['sent'].apply(extract_named_ents)    "
   ]
  },
  {
   "cell_type": "code",
   "execution_count": 139,
   "metadata": {},
   "outputs": [
    {
     "data": {
      "text/html": [
       "<div>\n",
       "<style scoped>\n",
       "    .dataframe tbody tr th:only-of-type {\n",
       "        vertical-align: middle;\n",
       "    }\n",
       "\n",
       "    .dataframe tbody tr th {\n",
       "        vertical-align: top;\n",
       "    }\n",
       "\n",
       "    .dataframe thead th {\n",
       "        text-align: right;\n",
       "    }\n",
       "</style>\n",
       "<table border=\"1\" class=\"dataframe\">\n",
       "  <thead>\n",
       "    <tr style=\"text-align: right;\">\n",
       "      <th></th>\n",
       "      <th>Id</th>\n",
       "      <th>pub_title</th>\n",
       "      <th>section_title</th>\n",
       "      <th>sent</th>\n",
       "      <th>dataset_title</th>\n",
       "      <th>dataset_label</th>\n",
       "      <th>sent_clean</th>\n",
       "      <th>indicator</th>\n",
       "      <th>named_ents</th>\n",
       "    </tr>\n",
       "  </thead>\n",
       "  <tbody>\n",
       "    <tr>\n",
       "      <th>681747</th>\n",
       "      <td>dfe9b4c7-dd54-487b-b062-7bfae3af3891</td>\n",
       "      <td>CO-Search: COVID-19 Information Retrieval with...</td>\n",
       "      <td>Discussion</td>\n",
       "      <td>CO-Search displays content from over 128,000 c...</td>\n",
       "      <td>COVID-19 Open Research Dataset (CORD-19)</td>\n",
       "      <td>COVID-19 Open Research Dataset</td>\n",
       "      <td>co search displays content from over 128 000 c...</td>\n",
       "      <td>dataset</td>\n",
       "      <td>[(CO-Search, ORG), (over 128,000, CARDINAL), (...</td>\n",
       "    </tr>\n",
       "    <tr>\n",
       "      <th>86842</th>\n",
       "      <td>d9cbcde9-b080-42c7-833d-2cad7fc1dc22</td>\n",
       "      <td>Educational Barriers of Rural Youth: Relation ...</td>\n",
       "      <td>Abstract</td>\n",
       "      <td>Information on additional characteristics of p...</td>\n",
       "      <td>Common Core of Data</td>\n",
       "      <td>NCES Common Core of Data</td>\n",
       "      <td>information on additional characteristics of p...</td>\n",
       "      <td>obtained from</td>\n",
       "      <td>[]</td>\n",
       "    </tr>\n",
       "    <tr>\n",
       "      <th>638944</th>\n",
       "      <td>7eb34da0-11f5-4e07-8b9c-9ffa4d11f2f1</td>\n",
       "      <td>Farm household income volatility: An analysis...</td>\n",
       "      <td>Conclusion</td>\n",
       "      <td>This study used a newly created panel dataset ...</td>\n",
       "      <td>Agricultural Resource Management Survey</td>\n",
       "      <td>Agricultural Resource Management Survey</td>\n",
       "      <td>this study used a newly created panel dataset ...</td>\n",
       "      <td>dataset</td>\n",
       "      <td>[(the 1996 to, DATE), (Agricultural Resource M...</td>\n",
       "    </tr>\n",
       "    <tr>\n",
       "      <th>342185</th>\n",
       "      <td>c8250c34-7e33-4330-bd1c-777c722be196</td>\n",
       "      <td>Enhancing Learnability of classification algor...</td>\n",
       "      <td>Abstract</td>\n",
       "      <td>Here, Table 1 contains the major issues covere...</td>\n",
       "      <td>Alzheimer's Disease Neuroimaging Initiative (A...</td>\n",
       "      <td>ADNI</td>\n",
       "      <td>here table 1 contains the major issues covered...</td>\n",
       "      <td>dataset</td>\n",
       "      <td>[]</td>\n",
       "    </tr>\n",
       "    <tr>\n",
       "      <th>126939</th>\n",
       "      <td>aaa61ab2-240c-4736-ad8b-cadc985033b1</td>\n",
       "      <td>Reproducible evaluation of classification meth...</td>\n",
       "      <td>Introduction</td>\n",
       "      <td>A large number of published works uses the pub...</td>\n",
       "      <td>Alzheimer's Disease Neuroimaging Initiative (A...</td>\n",
       "      <td>ADNI</td>\n",
       "      <td>a large number of published works uses the pub...</td>\n",
       "      <td>publicly available</td>\n",
       "      <td>[]</td>\n",
       "    </tr>\n",
       "    <tr>\n",
       "      <th>...</th>\n",
       "      <td>...</td>\n",
       "      <td>...</td>\n",
       "      <td>...</td>\n",
       "      <td>...</td>\n",
       "      <td>...</td>\n",
       "      <td>...</td>\n",
       "      <td>...</td>\n",
       "      <td>...</td>\n",
       "      <td>...</td>\n",
       "    </tr>\n",
       "    <tr>\n",
       "      <th>142597</th>\n",
       "      <td>d3b80754-bf06-4f97-a590-5ec04f3965d2</td>\n",
       "      <td>Heterogeneity of neuroanatomical patterns in p...</td>\n",
       "      <td>Abstract</td>\n",
       "      <td>Also, previous findings (Nettiksimmons et al.,...</td>\n",
       "      <td>Alzheimer's Disease Neuroimaging Initiative (A...</td>\n",
       "      <td>ADNI</td>\n",
       "      <td>also previous findings nettiksimmons et al 201...</td>\n",
       "      <td>inc</td>\n",
       "      <td>[(2014, DATE), (11, CARDINAL)]</td>\n",
       "    </tr>\n",
       "    <tr>\n",
       "      <th>508748</th>\n",
       "      <td>1312e8fa-f7f0-485b-89e3-933919e6194d</td>\n",
       "      <td>Volumetric comparison of hippocampal subfields...</td>\n",
       "      <td>Abstract</td>\n",
       "      <td>A recent study compared the accelerated and no...</td>\n",
       "      <td>Alzheimer's Disease Neuroimaging Initiative (A...</td>\n",
       "      <td>ADNI</td>\n",
       "      <td>a recent study compared the accelerated and no...</td>\n",
       "      <td>com</td>\n",
       "      <td>[]</td>\n",
       "    </tr>\n",
       "    <tr>\n",
       "      <th>380690</th>\n",
       "      <td>a0ec03e0-cd63-4684-b3d7-b1cf6f74948f</td>\n",
       "      <td>r Human Brain Mapping 00:000–000 (2012) r Pred...</td>\n",
       "      <td>Abstract</td>\n",
       "      <td>V C 2012 Wiley Periodicals, Inc.\\nKey words: A...</td>\n",
       "      <td>Alzheimer's Disease Neuroimaging Initiative (A...</td>\n",
       "      <td>Alzheimer's Disease Neuroimaging Initiative (A...</td>\n",
       "      <td>v c 2012 wiley periodicals inc key words alzhe...</td>\n",
       "      <td>inc</td>\n",
       "      <td>[(MCI, ORG), (SVM, ORG)]</td>\n",
       "    </tr>\n",
       "    <tr>\n",
       "      <th>210914</th>\n",
       "      <td>d95df0c0-456c-479f-9a64-e32e1c9f1a26</td>\n",
       "      <td>Linking Genetics of Brain Changes to Alzheimer...</td>\n",
       "      <td>Data</td>\n",
       "      <td>A complete listing of ADNI investigators can b...</td>\n",
       "      <td>Alzheimer's Disease Neuroimaging Initiative (A...</td>\n",
       "      <td>ADNI</td>\n",
       "      <td>a complete listing of adni investigators can b...</td>\n",
       "      <td>com</td>\n",
       "      <td>[]</td>\n",
       "    </tr>\n",
       "    <tr>\n",
       "      <th>220395</th>\n",
       "      <td>cf0c9bca-650a-474d-97d6-036aa495f064</td>\n",
       "      <td>Atlas selection for hippocampus segmentation: ...</td>\n",
       "      <td>Introduction</td>\n",
       "      <td>In this context, the presented paper evaluates...</td>\n",
       "      <td>Alzheimer's Disease Neuroimaging Initiative (A...</td>\n",
       "      <td>ADNI</td>\n",
       "      <td>in this context the presented paper evaluates ...</td>\n",
       "      <td>dataset</td>\n",
       "      <td>[(three, CARDINAL), (hippocampus, CARDINAL)]</td>\n",
       "    </tr>\n",
       "  </tbody>\n",
       "</table>\n",
       "<p>1976 rows × 9 columns</p>\n",
       "</div>"
      ],
      "text/plain": [
       "                                          Id  \\\n",
       "681747  dfe9b4c7-dd54-487b-b062-7bfae3af3891   \n",
       "86842   d9cbcde9-b080-42c7-833d-2cad7fc1dc22   \n",
       "638944  7eb34da0-11f5-4e07-8b9c-9ffa4d11f2f1   \n",
       "342185  c8250c34-7e33-4330-bd1c-777c722be196   \n",
       "126939  aaa61ab2-240c-4736-ad8b-cadc985033b1   \n",
       "...                                      ...   \n",
       "142597  d3b80754-bf06-4f97-a590-5ec04f3965d2   \n",
       "508748  1312e8fa-f7f0-485b-89e3-933919e6194d   \n",
       "380690  a0ec03e0-cd63-4684-b3d7-b1cf6f74948f   \n",
       "210914  d95df0c0-456c-479f-9a64-e32e1c9f1a26   \n",
       "220395  cf0c9bca-650a-474d-97d6-036aa495f064   \n",
       "\n",
       "                                                pub_title section_title  \\\n",
       "681747  CO-Search: COVID-19 Information Retrieval with...    Discussion   \n",
       "86842   Educational Barriers of Rural Youth: Relation ...      Abstract   \n",
       "638944   Farm household income volatility: An analysis...    Conclusion   \n",
       "342185  Enhancing Learnability of classification algor...      Abstract   \n",
       "126939  Reproducible evaluation of classification meth...  Introduction   \n",
       "...                                                   ...           ...   \n",
       "142597  Heterogeneity of neuroanatomical patterns in p...      Abstract   \n",
       "508748  Volumetric comparison of hippocampal subfields...      Abstract   \n",
       "380690  r Human Brain Mapping 00:000–000 (2012) r Pred...      Abstract   \n",
       "210914  Linking Genetics of Brain Changes to Alzheimer...          Data   \n",
       "220395  Atlas selection for hippocampus segmentation: ...  Introduction   \n",
       "\n",
       "                                                     sent  \\\n",
       "681747  CO-Search displays content from over 128,000 c...   \n",
       "86842   Information on additional characteristics of p...   \n",
       "638944  This study used a newly created panel dataset ...   \n",
       "342185  Here, Table 1 contains the major issues covere...   \n",
       "126939  A large number of published works uses the pub...   \n",
       "...                                                   ...   \n",
       "142597  Also, previous findings (Nettiksimmons et al.,...   \n",
       "508748  A recent study compared the accelerated and no...   \n",
       "380690  V C 2012 Wiley Periodicals, Inc.\\nKey words: A...   \n",
       "210914  A complete listing of ADNI investigators can b...   \n",
       "220395  In this context, the presented paper evaluates...   \n",
       "\n",
       "                                            dataset_title  \\\n",
       "681747           COVID-19 Open Research Dataset (CORD-19)   \n",
       "86842                                 Common Core of Data   \n",
       "638944            Agricultural Resource Management Survey   \n",
       "342185  Alzheimer's Disease Neuroimaging Initiative (A...   \n",
       "126939  Alzheimer's Disease Neuroimaging Initiative (A...   \n",
       "...                                                   ...   \n",
       "142597  Alzheimer's Disease Neuroimaging Initiative (A...   \n",
       "508748  Alzheimer's Disease Neuroimaging Initiative (A...   \n",
       "380690  Alzheimer's Disease Neuroimaging Initiative (A...   \n",
       "210914  Alzheimer's Disease Neuroimaging Initiative (A...   \n",
       "220395  Alzheimer's Disease Neuroimaging Initiative (A...   \n",
       "\n",
       "                                            dataset_label  \\\n",
       "681747                     COVID-19 Open Research Dataset   \n",
       "86842                            NCES Common Core of Data   \n",
       "638944            Agricultural Resource Management Survey   \n",
       "342185                                               ADNI   \n",
       "126939                                               ADNI   \n",
       "...                                                   ...   \n",
       "142597                                               ADNI   \n",
       "508748                                               ADNI   \n",
       "380690  Alzheimer's Disease Neuroimaging Initiative (A...   \n",
       "210914                                               ADNI   \n",
       "220395                                               ADNI   \n",
       "\n",
       "                                               sent_clean           indicator  \\\n",
       "681747  co search displays content from over 128 000 c...             dataset   \n",
       "86842   information on additional characteristics of p...       obtained from   \n",
       "638944  this study used a newly created panel dataset ...             dataset   \n",
       "342185  here table 1 contains the major issues covered...             dataset   \n",
       "126939  a large number of published works uses the pub...  publicly available   \n",
       "...                                                   ...                 ...   \n",
       "142597  also previous findings nettiksimmons et al 201...                 inc   \n",
       "508748  a recent study compared the accelerated and no...                 com   \n",
       "380690  v c 2012 wiley periodicals inc key words alzhe...                 inc   \n",
       "210914  a complete listing of adni investigators can b...                 com   \n",
       "220395  in this context the presented paper evaluates ...             dataset   \n",
       "\n",
       "                                               named_ents  \n",
       "681747  [(CO-Search, ORG), (over 128,000, CARDINAL), (...  \n",
       "86842                                                  []  \n",
       "638944  [(the 1996 to, DATE), (Agricultural Resource M...  \n",
       "342185                                                 []  \n",
       "126939                                                 []  \n",
       "...                                                   ...  \n",
       "142597                     [(2014, DATE), (11, CARDINAL)]  \n",
       "508748                                                 []  \n",
       "380690                           [(MCI, ORG), (SVM, ORG)]  \n",
       "210914                                                 []  \n",
       "220395       [(three, CARDINAL), (hippocampus, CARDINAL)]  \n",
       "\n",
       "[1976 rows x 9 columns]"
      ]
     },
     "execution_count": 139,
     "metadata": {},
     "output_type": "execute_result"
    }
   ],
   "source": [
    "add_named_ents(sent_sample)\n",
    "sent_sample"
   ]
  },
  {
   "cell_type": "markdown",
   "metadata": {},
   "source": [
    "Most common tokens appearing across randomly sampled citances"
   ]
  },
  {
   "cell_type": "code",
   "execution_count": 140,
   "metadata": {},
   "outputs": [
    {
     "data": {
      "text/plain": [
       "[('ORG', 2412),\n",
       " ('CARDINAL', 1494),\n",
       " ('DATE', 750),\n",
       " ('PERSON', 320),\n",
       " ('GPE', 291),\n",
       " ('ORDINAL', 130),\n",
       " ('NORP', 100),\n",
       " ('WORK_OF_ART', 66),\n",
       " ('PERCENT', 66),\n",
       " ('PRODUCT', 48),\n",
       " ('LOC', 45),\n",
       " ('EVENT', 29),\n",
       " ('LAW', 28),\n",
       " ('MONEY', 16),\n",
       " ('FAC', 13),\n",
       " ('TIME', 13),\n",
       " ('QUANTITY', 11)]"
      ]
     },
     "execution_count": 140,
     "metadata": {},
     "output_type": "execute_result"
    }
   ],
   "source": [
    "tokens = nlp(''.join(str(sent_sample.sent.tolist())))\n",
    "items = [x.label_  for x in tokens.ents]\n",
    "Counter(items).most_common(20)"
   ]
  },
  {
   "cell_type": "markdown",
   "metadata": {},
   "source": [
    "## What are the **research fields** of publications and datasets?\n",
    "TBD: Use \"Field of Research (FoR) Codes categorize research activity according to the field in which research is undertaken and based on the processes and techniques used in the R&D\" [(Source)](https://www.newcastle.edu.au/research/support/services/grants-and-funding/forms-and-codes/for-codes)"
   ]
  },
  {
   "cell_type": "code",
   "execution_count": null,
   "metadata": {},
   "outputs": [],
   "source": [
    "fields = [\"Mathematical Sciences\", \"Physical Sciences\", \"Chemical Sciences\", \"Earth Sciences\", \"Environmental Sciences\", \n",
    "          \"Biological Sciences\", \"Agricultural and Veterinary Sciences\", \"Information and Computing Sciences\", \"Engineering\", \n",
    "          \"Technology\", \"Medical and Health Sciences\", \"Built Environment and Design\", \"Education\", \"Economics\", \n",
    "          \"Commerce, Management, Tourism and Services\", \"Studies in Human Society\", \"Psychology and Cognitive Sciences\",\n",
    "          \"Law and Legal Studies\", \"Studies in Creative Arts and Writing\", \"Language, Communication and Culture\",\n",
    "          \"History and Archaeology\", \"Philosophy and Religious Studies\"]"
   ]
  },
  {
   "cell_type": "code",
   "execution_count": null,
   "metadata": {},
   "outputs": [],
   "source": []
  }
 ],
 "metadata": {
  "kernelspec": {
   "display_name": "Python 3",
   "language": "python",
   "name": "python3"
  },
  "language_info": {
   "codemirror_mode": {
    "name": "ipython",
    "version": 3
   },
   "file_extension": ".py",
   "mimetype": "text/x-python",
   "name": "python",
   "nbconvert_exporter": "python",
   "pygments_lexer": "ipython3",
   "version": "3.9.5"
  }
 },
 "nbformat": 4,
 "nbformat_minor": 4
}
