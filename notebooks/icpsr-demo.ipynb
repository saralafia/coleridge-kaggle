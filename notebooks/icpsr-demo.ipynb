{
 "cells": [
  {
   "cell_type": "markdown",
   "metadata": {},
   "source": [
    "# ICPSR Biennial Meeting: Bibliography Demo\n",
    "We apply computational models to predict sentences from journal articles that indicate research data reuse."
   ]
  },
  {
   "cell_type": "code",
   "execution_count": 1,
   "metadata": {},
   "outputs": [],
   "source": [
    "import glob\n",
    "import json\n",
    "import re\n",
    "import numpy as np\n",
    "import pandas as pd\n",
    "import pickle\n",
    "\n",
    "import nltk\n",
    "from nltk.tokenize import sent_tokenize\n",
    "\n",
    "import spacy\n",
    "from spacy import displacy"
   ]
  },
  {
   "cell_type": "code",
   "execution_count": 2,
   "metadata": {},
   "outputs": [],
   "source": [
    "def clean_text(txt):\n",
    "    \"\"\"\n",
    "    Converts text to lowercase, removes special characters and punctuation\n",
    "    \"\"\"\n",
    "    return re.sub('[^A-Za-z0-9]+', ' ', str(txt).lower())\n",
    "\n",
    "def find_acronyms(txt):\n",
    "    \"\"\"\n",
    "    Finds and returns a sequence of capital letters\n",
    "    \"\"\"\n",
    "    matches = re.findall(r\"\\b[A-Z\\.]{2,}s?\\b\", txt)\n",
    "    if matches:\n",
    "        return 1\n",
    "    else:\n",
    "        return 0"
   ]
  },
  {
   "cell_type": "markdown",
   "metadata": {},
   "source": [
    "## Journal articles\n",
    "We select two journal articles from the [ICPSR Bibliography of Data-Related Literature](https://www.icpsr.umich.edu/web/pages/ICPSR/citations/) that reuse ICPSR data. We parse these articles and look for references to research datasets. We know that the following studies are related to each publication:\n",
    "\n",
    "* **Alsan, M., & Wanamaker, M. (2018). [Tuskegee and the health of black men](https://app-dimensions-ai.proxy.lib.umich.edu/details/publication/pub.1091026367?search_mode=content&search_text=TUSKEGEE%20AND%20THE%20HEALTH%20OF%20BLACK%20MEN&search_type=kws&search_field=full_search). The quarterly journal of economics, 133(1), 407-455.**\n",
    "\n",
    "    * Mortality Detail Files, 1968-1991 (ICPSR 7632)\n",
    "    * Electoral Data for Counties in the United States: Presidential and Congressional Races, 1840-1972 (ICPSR 8611)\n",
    "    * Bureau of Health Professions Area Resource File, 1940-1990: [United States] (ICPSR 9075)\n",
    "    * General Social Survey, 1972-2014 [Cumulative File] (ICPSR 36319)\n",
    "    * Historical, Demographic, Economic, and Social Data: The United States, 1790-2002 (ICPSR 2896)\n",
    "\n",
    "\n",
    "* **Acharya, A., Blackwell, M., & Sen, M. (2016). [The political legacy of American slavery](https://app-dimensions-ai.proxy.lib.umich.edu/details/publication/pub.1058867878?search_mode=content&search_text=%22The%20Political%20Legacy%20of%20American%20Slavery%22&search_type=kws&search_field=text_search). The Journal of Politics, 78(3), 621-641.**\n",
    "\n",
    "    * Three Generations Combined, 1965-1997 (ICPSR 4532)\n",
    "    * Youth-Parent Socialization Panel Study, 1965-1997: Four Waves Combined (ICPSR 4037)\n",
    "    * Historical, Demographic, Economic, and Social Data: The United States, 1790-2002 (ICPSR 2896)\n",
    "    * ANES 1984 Time Series Study (ICPSR 8298)\n",
    "    * ANES 1986 Time Series Study (ICPSR 8678)\n",
    "    * ANES 1988 Time Series Study (ICPSR 9196)\n",
    "    * ANES 1990 Time Series Study (ICPSR 9548)\n",
    "    * ANES 1992 Time Series Study (ICPSR 6067)\n",
    "    * ANES 1994 Time Series Study (ICPSR 6507)\n",
    "    * ANES 1996 Time Series Study (ICPSR 6896)\n",
    "    * ANES 1998 Time Series Study (ICPSR 2684)"
   ]
  },
  {
   "cell_type": "markdown",
   "metadata": {},
   "source": [
    "We split each article into sentences and check if each:\n",
    "* has indicator terms, adapted from [Park et al., 2018](https://asistdl.onlinelibrary.wiley.com/doi/abs/10.1002/asi.24049)\n",
    "    * \"data\", \"edu\", \"sample\", \"national\", \"survey\", \"public\", \"avail\", \"nsf\", \"gov\", \"access\"\n",
    "* is in a standard section\n",
    "    * \"Abstract\", \"Introduction\", \"Background\", \"Data\", \"Method\", \"Result\", \"Discussion\", \"Summary\", \"Conclusion\", \"Acknowlegdement\"\n",
    "* has at least one acronym"
   ]
  },
  {
   "cell_type": "code",
   "execution_count": 3,
   "metadata": {},
   "outputs": [
    {
     "name": "stdout",
     "output_type": "stream",
     "text": [
      "CPU times: user 131 ms, sys: 4.51 ms, total: 135 ms\n",
      "Wall time: 434 ms\n"
     ]
    },
    {
     "data": {
      "text/html": [
       "<div>\n",
       "<style scoped>\n",
       "    .dataframe tbody tr th:only-of-type {\n",
       "        vertical-align: middle;\n",
       "    }\n",
       "\n",
       "    .dataframe tbody tr th {\n",
       "        vertical-align: top;\n",
       "    }\n",
       "\n",
       "    .dataframe thead th {\n",
       "        text-align: right;\n",
       "    }\n",
       "</style>\n",
       "<table border=\"1\" class=\"dataframe\">\n",
       "  <thead>\n",
       "    <tr style=\"text-align: right;\">\n",
       "      <th></th>\n",
       "      <th>paper_title</th>\n",
       "      <th>paper_section</th>\n",
       "      <th>sentence_text</th>\n",
       "      <th>sentence_text_clean</th>\n",
       "      <th>paper_section_clean</th>\n",
       "      <th>hasData</th>\n",
       "      <th>hasEdu</th>\n",
       "      <th>hasSample</th>\n",
       "      <th>hasNational</th>\n",
       "      <th>hasSurvey</th>\n",
       "      <th>...</th>\n",
       "      <th>inDisc</th>\n",
       "      <th>inAbst</th>\n",
       "      <th>inResult</th>\n",
       "      <th>inConcl</th>\n",
       "      <th>inMethod</th>\n",
       "      <th>inBack</th>\n",
       "      <th>inData</th>\n",
       "      <th>inSumm</th>\n",
       "      <th>inAckno</th>\n",
       "      <th>hasAcronym</th>\n",
       "    </tr>\n",
       "  </thead>\n",
       "  <tbody>\n",
       "    <tr>\n",
       "      <th>0</th>\n",
       "      <td>NBER WORKING PAPER SERIES TUSKEGEE AND THE HEA...</td>\n",
       "      <td>I. Introduction</td>\n",
       "      <td>The Tuskegee Study became a symbol of their mi...</td>\n",
       "      <td>the tuskegee study became a symbol of their mi...</td>\n",
       "      <td>i introduction</td>\n",
       "      <td>0</td>\n",
       "      <td>0</td>\n",
       "      <td>0</td>\n",
       "      <td>0</td>\n",
       "      <td>0</td>\n",
       "      <td>...</td>\n",
       "      <td>0</td>\n",
       "      <td>0</td>\n",
       "      <td>0</td>\n",
       "      <td>0</td>\n",
       "      <td>0</td>\n",
       "      <td>0</td>\n",
       "      <td>0</td>\n",
       "      <td>0</td>\n",
       "      <td>0</td>\n",
       "      <td>0</td>\n",
       "    </tr>\n",
       "    <tr>\n",
       "      <th>1</th>\n",
       "      <td>NBER WORKING PAPER SERIES TUSKEGEE AND THE HEA...</td>\n",
       "      <td>I. Introduction</td>\n",
       "      <td>Corbie -Smith et al.</td>\n",
       "      <td>corbie smith et al</td>\n",
       "      <td>i introduction</td>\n",
       "      <td>0</td>\n",
       "      <td>0</td>\n",
       "      <td>0</td>\n",
       "      <td>0</td>\n",
       "      <td>0</td>\n",
       "      <td>...</td>\n",
       "      <td>0</td>\n",
       "      <td>0</td>\n",
       "      <td>0</td>\n",
       "      <td>0</td>\n",
       "      <td>0</td>\n",
       "      <td>0</td>\n",
       "      <td>0</td>\n",
       "      <td>0</td>\n",
       "      <td>0</td>\n",
       "      <td>0</td>\n",
       "    </tr>\n",
       "    <tr>\n",
       "      <th>2</th>\n",
       "      <td>NBER WORKING PAPER SERIES TUSKEGEE AND THE HEA...</td>\n",
       "      <td>I. Introduction</td>\n",
       "      <td>(1999) African-American men have the worst hea...</td>\n",
       "      <td>1999 african american men have the worst heal...</td>\n",
       "      <td>i introduction</td>\n",
       "      <td>0</td>\n",
       "      <td>0</td>\n",
       "      <td>0</td>\n",
       "      <td>0</td>\n",
       "      <td>0</td>\n",
       "      <td>...</td>\n",
       "      <td>0</td>\n",
       "      <td>0</td>\n",
       "      <td>0</td>\n",
       "      <td>0</td>\n",
       "      <td>0</td>\n",
       "      <td>0</td>\n",
       "      <td>0</td>\n",
       "      <td>0</td>\n",
       "      <td>0</td>\n",
       "      <td>0</td>\n",
       "    </tr>\n",
       "    <tr>\n",
       "      <th>3</th>\n",
       "      <td>NBER WORKING PAPER SERIES TUSKEGEE AND THE HEA...</td>\n",
       "      <td>I. Introduction</td>\n",
       "      <td>1 Although recent trends have shown signs of i...</td>\n",
       "      <td>1 although recent trends have shown signs of i...</td>\n",
       "      <td>i introduction</td>\n",
       "      <td>0</td>\n",
       "      <td>0</td>\n",
       "      <td>0</td>\n",
       "      <td>0</td>\n",
       "      <td>0</td>\n",
       "      <td>...</td>\n",
       "      <td>0</td>\n",
       "      <td>0</td>\n",
       "      <td>0</td>\n",
       "      <td>0</td>\n",
       "      <td>0</td>\n",
       "      <td>0</td>\n",
       "      <td>0</td>\n",
       "      <td>0</td>\n",
       "      <td>0</td>\n",
       "      <td>0</td>\n",
       "    </tr>\n",
       "    <tr>\n",
       "      <th>4</th>\n",
       "      <td>NBER WORKING PAPER SERIES TUSKEGEE AND THE HEA...</td>\n",
       "      <td>I. Introduction</td>\n",
       "      <td>Compared to other demographic groups, black me...</td>\n",
       "      <td>compared to other demographic groups black men...</td>\n",
       "      <td>i introduction</td>\n",
       "      <td>0</td>\n",
       "      <td>0</td>\n",
       "      <td>0</td>\n",
       "      <td>0</td>\n",
       "      <td>0</td>\n",
       "      <td>...</td>\n",
       "      <td>0</td>\n",
       "      <td>0</td>\n",
       "      <td>0</td>\n",
       "      <td>0</td>\n",
       "      <td>0</td>\n",
       "      <td>0</td>\n",
       "      <td>0</td>\n",
       "      <td>0</td>\n",
       "      <td>0</td>\n",
       "      <td>1</td>\n",
       "    </tr>\n",
       "    <tr>\n",
       "      <th>...</th>\n",
       "      <td>...</td>\n",
       "      <td>...</td>\n",
       "      <td>...</td>\n",
       "      <td>...</td>\n",
       "      <td>...</td>\n",
       "      <td>...</td>\n",
       "      <td>...</td>\n",
       "      <td>...</td>\n",
       "      <td>...</td>\n",
       "      <td>...</td>\n",
       "      <td>...</td>\n",
       "      <td>...</td>\n",
       "      <td>...</td>\n",
       "      <td>...</td>\n",
       "      <td>...</td>\n",
       "      <td>...</td>\n",
       "      <td>...</td>\n",
       "      <td>...</td>\n",
       "      <td>...</td>\n",
       "      <td>...</td>\n",
       "      <td>...</td>\n",
       "    </tr>\n",
       "    <tr>\n",
       "      <th>1081</th>\n",
       "      <td>The Political Legacy of American Slavery *</td>\n",
       "      <td></td>\n",
       "      <td>Data was also collected on the enslaved status...</td>\n",
       "      <td>data was also collected on the enslaved status...</td>\n",
       "      <td></td>\n",
       "      <td>1</td>\n",
       "      <td>0</td>\n",
       "      <td>0</td>\n",
       "      <td>0</td>\n",
       "      <td>0</td>\n",
       "      <td>...</td>\n",
       "      <td>0</td>\n",
       "      <td>0</td>\n",
       "      <td>0</td>\n",
       "      <td>0</td>\n",
       "      <td>0</td>\n",
       "      <td>0</td>\n",
       "      <td>0</td>\n",
       "      <td>0</td>\n",
       "      <td>0</td>\n",
       "      <td>0</td>\n",
       "    </tr>\n",
       "    <tr>\n",
       "      <th>1082</th>\n",
       "      <td>The Political Legacy of American Slavery *</td>\n",
       "      <td></td>\n",
       "      <td>Manuscripts were only available for Alabama, G...</td>\n",
       "      <td>manuscripts were only available for alabama ge...</td>\n",
       "      <td></td>\n",
       "      <td>0</td>\n",
       "      <td>0</td>\n",
       "      <td>0</td>\n",
       "      <td>0</td>\n",
       "      <td>0</td>\n",
       "      <td>...</td>\n",
       "      <td>0</td>\n",
       "      <td>0</td>\n",
       "      <td>0</td>\n",
       "      <td>0</td>\n",
       "      <td>0</td>\n",
       "      <td>0</td>\n",
       "      <td>0</td>\n",
       "      <td>0</td>\n",
       "      <td>0</td>\n",
       "      <td>0</td>\n",
       "    </tr>\n",
       "    <tr>\n",
       "      <th>1083</th>\n",
       "      <td>The Political Legacy of American Slavery *</td>\n",
       "      <td></td>\n",
       "      <td>† p &lt; .1; * p &lt; .05; * * p &lt; .01.</td>\n",
       "      <td>p 1 p 05 p 01</td>\n",
       "      <td></td>\n",
       "      <td>0</td>\n",
       "      <td>0</td>\n",
       "      <td>0</td>\n",
       "      <td>0</td>\n",
       "      <td>0</td>\n",
       "      <td>...</td>\n",
       "      <td>0</td>\n",
       "      <td>0</td>\n",
       "      <td>0</td>\n",
       "      <td>0</td>\n",
       "      <td>0</td>\n",
       "      <td>0</td>\n",
       "      <td>0</td>\n",
       "      <td>0</td>\n",
       "      <td>0</td>\n",
       "      <td>0</td>\n",
       "    </tr>\n",
       "    <tr>\n",
       "      <th>1084</th>\n",
       "      <td>The Political Legacy of American Slavery *</td>\n",
       "      <td></td>\n",
       "      <td>All analyses are at the individual level with ...</td>\n",
       "      <td>all analyses are at the individual level with ...</td>\n",
       "      <td></td>\n",
       "      <td>0</td>\n",
       "      <td>0</td>\n",
       "      <td>0</td>\n",
       "      <td>0</td>\n",
       "      <td>0</td>\n",
       "      <td>...</td>\n",
       "      <td>0</td>\n",
       "      <td>0</td>\n",
       "      <td>0</td>\n",
       "      <td>0</td>\n",
       "      <td>0</td>\n",
       "      <td>0</td>\n",
       "      <td>0</td>\n",
       "      <td>0</td>\n",
       "      <td>0</td>\n",
       "      <td>0</td>\n",
       "    </tr>\n",
       "    <tr>\n",
       "      <th>1085</th>\n",
       "      <td>The Political Legacy of American Slavery *</td>\n",
       "      <td></td>\n",
       "      <td>Data from theANES 1984ANES -1998</td>\n",
       "      <td>data from theanes 1984anes 1998</td>\n",
       "      <td></td>\n",
       "      <td>1</td>\n",
       "      <td>0</td>\n",
       "      <td>0</td>\n",
       "      <td>0</td>\n",
       "      <td>0</td>\n",
       "      <td>...</td>\n",
       "      <td>0</td>\n",
       "      <td>0</td>\n",
       "      <td>0</td>\n",
       "      <td>0</td>\n",
       "      <td>0</td>\n",
       "      <td>0</td>\n",
       "      <td>0</td>\n",
       "      <td>0</td>\n",
       "      <td>0</td>\n",
       "      <td>0</td>\n",
       "    </tr>\n",
       "  </tbody>\n",
       "</table>\n",
       "<p>1086 rows × 26 columns</p>\n",
       "</div>"
      ],
      "text/plain": [
       "                                            paper_title    paper_section  \\\n",
       "0     NBER WORKING PAPER SERIES TUSKEGEE AND THE HEA...  I. Introduction   \n",
       "1     NBER WORKING PAPER SERIES TUSKEGEE AND THE HEA...  I. Introduction   \n",
       "2     NBER WORKING PAPER SERIES TUSKEGEE AND THE HEA...  I. Introduction   \n",
       "3     NBER WORKING PAPER SERIES TUSKEGEE AND THE HEA...  I. Introduction   \n",
       "4     NBER WORKING PAPER SERIES TUSKEGEE AND THE HEA...  I. Introduction   \n",
       "...                                                 ...              ...   \n",
       "1081         The Political Legacy of American Slavery *                    \n",
       "1082         The Political Legacy of American Slavery *                    \n",
       "1083         The Political Legacy of American Slavery *                    \n",
       "1084         The Political Legacy of American Slavery *                    \n",
       "1085         The Political Legacy of American Slavery *                    \n",
       "\n",
       "                                          sentence_text  \\\n",
       "0     The Tuskegee Study became a symbol of their mi...   \n",
       "1                                  Corbie -Smith et al.   \n",
       "2     (1999) African-American men have the worst hea...   \n",
       "3     1 Although recent trends have shown signs of i...   \n",
       "4     Compared to other demographic groups, black me...   \n",
       "...                                                 ...   \n",
       "1081  Data was also collected on the enslaved status...   \n",
       "1082  Manuscripts were only available for Alabama, G...   \n",
       "1083                  † p < .1; * p < .05; * * p < .01.   \n",
       "1084  All analyses are at the individual level with ...   \n",
       "1085                   Data from theANES 1984ANES -1998   \n",
       "\n",
       "                                    sentence_text_clean paper_section_clean  \\\n",
       "0     the tuskegee study became a symbol of their mi...      i introduction   \n",
       "1                                   corbie smith et al       i introduction   \n",
       "2      1999 african american men have the worst heal...      i introduction   \n",
       "3     1 although recent trends have shown signs of i...      i introduction   \n",
       "4     compared to other demographic groups black men...      i introduction   \n",
       "...                                                 ...                 ...   \n",
       "1081  data was also collected on the enslaved status...                       \n",
       "1082  manuscripts were only available for alabama ge...                       \n",
       "1083                                     p 1 p 05 p 01                        \n",
       "1084  all analyses are at the individual level with ...                       \n",
       "1085                    data from theanes 1984anes 1998                       \n",
       "\n",
       "      hasData  hasEdu  hasSample  hasNational  hasSurvey  ...  inDisc  inAbst  \\\n",
       "0           0       0          0            0          0  ...       0       0   \n",
       "1           0       0          0            0          0  ...       0       0   \n",
       "2           0       0          0            0          0  ...       0       0   \n",
       "3           0       0          0            0          0  ...       0       0   \n",
       "4           0       0          0            0          0  ...       0       0   \n",
       "...       ...     ...        ...          ...        ...  ...     ...     ...   \n",
       "1081        1       0          0            0          0  ...       0       0   \n",
       "1082        0       0          0            0          0  ...       0       0   \n",
       "1083        0       0          0            0          0  ...       0       0   \n",
       "1084        0       0          0            0          0  ...       0       0   \n",
       "1085        1       0          0            0          0  ...       0       0   \n",
       "\n",
       "      inResult  inConcl  inMethod  inBack  inData  inSumm  inAckno  hasAcronym  \n",
       "0            0        0         0       0       0       0        0           0  \n",
       "1            0        0         0       0       0       0        0           0  \n",
       "2            0        0         0       0       0       0        0           0  \n",
       "3            0        0         0       0       0       0        0           0  \n",
       "4            0        0         0       0       0       0        0           1  \n",
       "...        ...      ...       ...     ...     ...     ...      ...         ...  \n",
       "1081         0        0         0       0       0       0        0           0  \n",
       "1082         0        0         0       0       0       0        0           0  \n",
       "1083         0        0         0       0       0       0        0           0  \n",
       "1084         0        0         0       0       0       0        0           0  \n",
       "1085         0        0         0       0       0       0        0           0  \n",
       "\n",
       "[1086 rows x 26 columns]"
      ]
     },
     "execution_count": 3,
     "metadata": {},
     "output_type": "execute_result"
    }
   ],
   "source": [
    "%%time\n",
    "\n",
    "files = glob.glob('/nfs/turbo/hrg/bib/ICPSR-bibliography-demo/*.json')\n",
    "\n",
    "pubs = pd.DataFrame()\n",
    "for file in files: \n",
    "    with open(file, 'r') as f:\n",
    "        data = json.loads(f.read())\n",
    "        file_data = pd.json_normalize(data[\"pdf_parse\"][\"body_text\"])\n",
    "        file_data[\"paper_id\"] = data[\"title\"]\n",
    "    pubs = pd.concat([pubs, file_data])\n",
    "\n",
    "sentences = []\n",
    "\n",
    "for row in pubs.itertuples():\n",
    "    for sent in sent_tokenize(row[1]):\n",
    "        sentences.append((row[7], row[5], sent))\n",
    "\n",
    "df = pd.DataFrame(sentences, columns=['paper_title', 'paper_section', 'sentence_text'])\n",
    "\n",
    "df['sentence_text_clean'] = df['sentence_text'].apply(clean_text)\n",
    "df['paper_section_clean']= df['paper_section'].apply(clean_text)\n",
    "\n",
    "df['hasData'] = np.where(df['sentence_text_clean'].str.contains('data'), 1, 0)\n",
    "df['hasEdu'] = np.where(df['sentence_text_clean'].str.contains('edu'), 1, 0)\n",
    "df['hasSample'] = np.where(df['sentence_text_clean'].str.contains('sample'), 1, 0)\n",
    "df['hasNational'] = np.where(df['sentence_text_clean'].str.contains('national'), 1, 0)\n",
    "df['hasSurvey'] = np.where(df['sentence_text_clean'].str.contains('survey'), 1, 0)\n",
    "df['hasPublic'] = np.where(df['sentence_text_clean'].str.contains('public'), 1, 0)\n",
    "df['hasAvail'] = np.where(df['sentence_text_clean'].str.contains('survey'), 1, 0)\n",
    "df['hasNSF'] = np.where(df['sentence_text_clean'].str.contains('nsf'), 1, 0)\n",
    "df['hasGov'] = np.where(df['sentence_text_clean'].str.contains('gov'), 1, 0)\n",
    "df['hasAccess'] = np.where(df['sentence_text_clean'].str.contains('access'), 1, 0)\n",
    "\n",
    "df['inIntro'] = np.where(df['paper_section_clean'].str.contains('intro'), 1, 0)\n",
    "df['inDisc'] = np.where(df['paper_section_clean'].str.contains('discus'), 1, 0)\n",
    "df['inAbst'] = np.where(df['paper_section_clean'].str.contains('abstr'), 1, 0)\n",
    "df['inResult'] = np.where(df['paper_section_clean'].str.contains('resul'), 1, 0)\n",
    "df['inConcl'] = np.where(df['paper_section_clean'].str.contains('conclu'), 1, 0)\n",
    "df['inMethod'] = np.where(df['paper_section_clean'].str.contains('meth'), 1, 0)\n",
    "df['inBack'] = np.where(df['paper_section_clean'].str.contains('back'), 1, 0)\n",
    "df['inData'] = np.where(df['paper_section_clean'].str.contains('data'), 1, 0)\n",
    "df['inSumm'] = np.where(df['paper_section_clean'].str.contains('summ'), 1, 0)\n",
    "df['inAckno'] = np.where(df['paper_section_clean'].str.contains('acknowl'), 1, 0)\n",
    "\n",
    "df['hasAcronym'] = df['sentence_text'].apply(find_acronyms)\n",
    "\n",
    "X_predict = df.iloc[:, 5:]\n",
    "\n",
    "df"
   ]
  },
  {
   "cell_type": "markdown",
   "metadata": {},
   "source": [
    "## Models"
   ]
  },
  {
   "cell_type": "markdown",
   "metadata": {},
   "source": [
    "The **Random Forest classifier** is used to predict if a sentence contains a reference to a dataset. This model uses the predictive features of sentences from the previous step to predict whether or not to focus on the sentence. This step helps us reduce the total amount of text to review. We get a probability score for each sentence and set a minimum probability threshold of 10% to filter unlikely sentences (i.e. those that do not contain an acronym, indicative words, or are in standard sections of articles that are unlikely to reference data)."
   ]
  },
  {
   "cell_type": "code",
   "execution_count": 4,
   "metadata": {},
   "outputs": [
    {
     "name": "stdout",
     "output_type": "stream",
     "text": [
      "Predicted citances (Alsan and Wanamaker, 2017): 160\n",
      "Predicted citances (Acharya et al., 2016): 112\n"
     ]
    }
   ],
   "source": [
    "np.random.seed(1)\n",
    "\n",
    "pkl_filename = \"./output/model-RF.pkl\"\n",
    "\n",
    "with open(pkl_filename, 'rb') as file:\n",
    "    rf_model = pickle.load(file)\n",
    "\n",
    "predict = rf_model.predict(X_predict)\n",
    "\n",
    "prob = rf_model.predict_proba(X_predict)\n",
    "df['prob_0'] = prob[:,0] \n",
    "df['prob_1'] = prob[:,1]\n",
    "\n",
    "df_candidates = df.query('prob_1 >= 0.1')\n",
    "\n",
    "df_candidates_health = df_candidates[((df_candidates['paper_title']==\"NBER WORKING PAPER SERIES TUSKEGEE AND THE HEALTH OF BLACK MEN\"))]\n",
    "df_candidates_legacy = df_candidates[((df_candidates['paper_title']==\"The Political Legacy of American Slavery *\"))]\n",
    "\n",
    "print(\"Predicted citances (Alsan and Wanamaker, 2017):\", len(df_candidates_health))\n",
    "print(\"Predicted citances (Acharya et al., 2016):\", len(df_candidates_legacy))"
   ]
  },
  {
   "cell_type": "markdown",
   "metadata": {},
   "source": [
    "The **Named Entity Recognition** model is used to predict a span of text that contains a `Dataset` entity. We compare this prediction to the names of the studies we know were used in each paper."
   ]
  },
  {
   "cell_type": "code",
   "execution_count": 5,
   "metadata": {},
   "outputs": [],
   "source": [
    "# from thinc.api import set_gpu_allocator, require_gpu\n",
    "# set_gpu_allocator(\"pytorch\")\n",
    "# require_gpu(0)"
   ]
  },
  {
   "cell_type": "code",
   "execution_count": 6,
   "metadata": {},
   "outputs": [],
   "source": [
    "# spacy.prefer_gpu()\n",
    "custom_ner_model = spacy.load('./output/model-best')"
   ]
  },
  {
   "cell_type": "markdown",
   "metadata": {},
   "source": [
    "## Predictions"
   ]
  },
  {
   "cell_type": "markdown",
   "metadata": {},
   "source": [
    "**Alsan, M., & Wanamaker, M. (2018). [Tuskegee and the health of black men](https://app-dimensions-ai.proxy.lib.umich.edu/details/publication/pub.1091026367?search_mode=content&search_text=TUSKEGEE%20AND%20THE%20HEALTH%20OF%20BLACK%20MEN&search_type=kws&search_field=full_search). The quarterly journal of economics, 133(1), 407-455.**\n",
    "\n",
    "Our approach finds 1/5 known ICPSR Studies:\n",
    "\n",
    "* Mortality Detail Files, 1968-1991 (ICPSR 7632)\n",
    "    - No proper name is mentioned explicitly in the text (Table and Figure notes: \"mortality files from the CDC\")\n",
    "* Electoral Data for Counties in the United States: Presidential and Congressional Races, 1840-1972 (ICPSR 8611)\n",
    "* Bureau of Health Professions Area Resource File, 1940-1990: [United States] (ICPSR 9075)\n",
    "* **General Social Survey, 1972-2014 [Cumulative File] (ICPSR 36319)**\n",
    "    - Referenced by its alias (Introduction: \"General Social Survey (GSS)\")\n",
    "* Historical, Demographic, Economic, and Social Data: The United States, 1790-2002 (ICPSR 2896)\n",
    "    - Referenced by its PI name (Footnote: \"(Haines 2010)\")\n",
    "\n",
    "Other data found include:\n",
    "* National Health Interview Survey (NHIS)\n",
    "* IPUMS Health Surveys\n",
    "* IHIS\n",
    "* NCHS\n",
    "* 1979 Survey of Black Americans\n",
    "* 1940 U.S. Census\n",
    "* 1960 U.S. Census of Population\n",
    "* 1970 U.S. Census of Population\n",
    "* Medicare data"
   ]
  },
  {
   "cell_type": "code",
   "execution_count": 7,
   "metadata": {},
   "outputs": [
    {
     "data": {
      "text/html": [
       "<span class=\"tex2jax_ignore\"><div class=\"entities\" style=\"line-height: 2.5; direction: ltr\">Compared to other demographic groups, black men have higher death rates from chronic conditions such as HIV/AIDS, heart disease, and cancer, including lung, prostate, and colon (\n",
       "<mark class=\"entity\" style=\"background: #ddd; padding: 0.45em 0.6em; margin: 0 0.25em; line-height: 1; border-radius: 0.35em;\">\n",
       "    Kaiser Family Foundation 2007\n",
       "    <span style=\"font-size: 0.8em; font-weight: bold; line-height: 1; border-radius: 0.35em; vertical-align: middle; margin-left: 0.5rem\">DATASET</span>\n",
       "</mark>\n",
       ") .</div></span>"
      ],
      "text/plain": [
       "<IPython.core.display.HTML object>"
      ]
     },
     "metadata": {},
     "output_type": "display_data"
    },
    {
     "data": {
      "text/html": [
       "<span class=\"tex2jax_ignore\"><div class=\"entities\" style=\"line-height: 2.5; direction: ltr\">2015) , health seeking behavior reported in the \n",
       "<mark class=\"entity\" style=\"background: #ddd; padding: 0.45em 0.6em; margin: 0 0.25em; line-height: 1; border-radius: 0.35em;\">\n",
       "    National Health Interview Survey (NHIS) (Minnesota Population Center 2012\n",
       "    <span style=\"font-size: 0.8em; font-weight: bold; line-height: 1; border-radius: 0.35em; vertical-align: middle; margin-left: 0.5rem\">DATASET</span>\n",
       "</mark>\n",
       "), and mortality data available by race, age group, gender, and cause from the Centers for Disease Control and Prevention (CDC 2014) .</div></span>"
      ],
      "text/plain": [
       "<IPython.core.display.HTML object>"
      ]
     },
     "metadata": {},
     "output_type": "display_data"
    },
    {
     "data": {
      "text/html": [
       "<span class=\"tex2jax_ignore\"><div class=\"entities\" style=\"line-height: 2.5; direction: ltr\">In doing so, we test whether black men living in closer proximity to the study's victims were more heavily in ‡uenced by the \n",
       "<mark class=\"entity\" style=\"background: #ddd; padding: 0.45em 0.6em; margin: 0 0.25em; line-height: 1; border-radius: 0.35em;\">\n",
       "    TSUS\n",
       "    <span style=\"font-size: 0.8em; font-weight: bold; line-height: 1; border-radius: 0.35em; vertical-align: middle; margin-left: 0.5rem\">DATASET</span>\n",
       "</mark>\n",
       " revelation.</div></span>"
      ],
      "text/plain": [
       "<IPython.core.display.HTML object>"
      ]
     },
     "metadata": {},
     "output_type": "display_data"
    },
    {
     "data": {
      "text/html": [
       "<span class=\"tex2jax_ignore\"><div class=\"entities\" style=\"line-height: 2.5; direction: ltr\">Finally, to evaluate whether the behavioral responses we observe are driven by medical mistrust, we use survey data from the 1998 wave of the \n",
       "<mark class=\"entity\" style=\"background: #ddd; padding: 0.45em 0.6em; margin: 0 0.25em; line-height: 1; border-radius: 0.35em;\">\n",
       "    GSS\n",
       "    <span style=\"font-size: 0.8em; font-weight: bold; line-height: 1; border-radius: 0.35em; vertical-align: middle; margin-left: 0.5rem\">DATASET</span>\n",
       "</mark>\n",
       " on whether individuals trust a doctor's judgment and whether they suspect that the medical establishment will deny them necessary treatment or services.</div></span>"
      ],
      "text/plain": [
       "<IPython.core.display.HTML object>"
      ]
     },
     "metadata": {},
     "output_type": "display_data"
    },
    {
     "data": {
      "text/html": [
       "<span class=\"tex2jax_ignore\"><div class=\"entities\" style=\"line-height: 2.5; direction: ltr\">The following section places the study in historical and medical context by providing background on the pathology of syphilis and the \n",
       "<mark class=\"entity\" style=\"background: #ddd; padding: 0.45em 0.6em; margin: 0 0.25em; line-height: 1; border-radius: 0.35em;\">\n",
       "    TSUS\n",
       "    <span style=\"font-size: 0.8em; font-weight: bold; line-height: 1; border-radius: 0.35em; vertical-align: middle; margin-left: 0.5rem\">DATASET</span>\n",
       "</mark>\n",
       " experiment, prior literature on the legacy of Tuskegee, and health patterns across demographic groups in the years surrounding the disclosure.</div></span>"
      ],
      "text/plain": [
       "<IPython.core.display.HTML object>"
      ]
     },
     "metadata": {},
     "output_type": "display_data"
    },
    {
     "data": {
      "text/html": [
       "<span class=\"tex2jax_ignore\"><div class=\"entities\" style=\"line-height: 2.5; direction: ltr\">also reported that blacks with knowledge of the study were 50% more likely to believe the \n",
       "<mark class=\"entity\" style=\"background: #ddd; padding: 0.45em 0.6em; margin: 0 0.25em; line-height: 1; border-radius: 0.35em;\">\n",
       "    PHS\n",
       "    <span style=\"font-size: 0.8em; font-weight: bold; line-height: 1; border-radius: 0.35em; vertical-align: middle; margin-left: 0.5rem\">DATASET</span>\n",
       "</mark>\n",
       " researchers injected the men with syphilis (75.3% vs. 52.8%) and to believe Tuskegee could &quot;occur today&quot; (76.6% vs.</div></span>"
      ],
      "text/plain": [
       "<IPython.core.display.HTML object>"
      ]
     },
     "metadata": {},
     "output_type": "display_data"
    },
    {
     "data": {
      "text/html": [
       "<span class=\"tex2jax_ignore\"><div class=\"entities\" style=\"line-height: 2.5; direction: ltr\">&quot;Public health professionals must recognize that Blacks'belief in AIDS as a form of genocide is a legitimate attitudinal barrier rooted in the history of the \n",
       "<mark class=\"entity\" style=\"background: #ddd; padding: 0.45em 0.6em; margin: 0 0.25em; line-height: 1; border-radius: 0.35em;\">\n",
       "    Tuskegee Syphilis Study&quot; (Thomas and Quinn 1991\n",
       "    <span style=\"font-size: 0.8em; font-weight: bold; line-height: 1; border-radius: 0.35em; vertical-align: middle; margin-left: 0.5rem\">DATASET</span>\n",
       "</mark>\n",
       ") .</div></span>"
      ],
      "text/plain": [
       "<IPython.core.display.HTML object>"
      ]
     },
     "metadata": {},
     "output_type": "display_data"
    },
    {
     "data": {
      "text/html": [
       "<span class=\"tex2jax_ignore\"><div class=\"entities\" style=\"line-height: 2.5; direction: ltr\">Similar Tuskegeeattributed mistrust related to the origins of the HIV virus emerged in a \n",
       "<mark class=\"entity\" style=\"background: #ddd; padding: 0.45em 0.6em; margin: 0 0.25em; line-height: 1; border-radius: 0.35em;\">\n",
       "    1996 ABC News 20/20 forum\n",
       "    <span style=\"font-size: 0.8em; font-weight: bold; line-height: 1; border-radius: 0.35em; vertical-align: middle; margin-left: 0.5rem\">DATASET</span>\n",
       "</mark>\n",
       " and in a 1997 Atlanta-based forum audience.</div></span>"
      ],
      "text/plain": [
       "<IPython.core.display.HTML object>"
      ]
     },
     "metadata": {},
     "output_type": "display_data"
    },
    {
     "data": {
      "text/html": [
       "<span class=\"tex2jax_ignore\"><div class=\"entities\" style=\"line-height: 2.5; direction: ltr\">We measure health-seeking behavior using data on healthcare utilization from the \n",
       "<mark class=\"entity\" style=\"background: #ddd; padding: 0.45em 0.6em; margin: 0 0.25em; line-height: 1; border-radius: 0.35em;\">\n",
       "    NHIS\n",
       "    <span style=\"font-size: 0.8em; font-weight: bold; line-height: 1; border-radius: 0.35em; vertical-align: middle; margin-left: 0.5rem\">DATASET</span>\n",
       "</mark>\n",
       ".</div></span>"
      ],
      "text/plain": [
       "<IPython.core.display.HTML object>"
      ]
     },
     "metadata": {},
     "output_type": "display_data"
    },
    {
     "data": {
      "text/html": [
       "<span class=\"tex2jax_ignore\"><div class=\"entities\" style=\"line-height: 2.5; direction: ltr\">Interview Series (IHIS), provided by the University of Minnesota, which is based on the \n",
       "<mark class=\"entity\" style=\"background: #ddd; padding: 0.45em 0.6em; margin: 0 0.25em; line-height: 1; border-radius: 0.35em;\">\n",
       "    NHIS\n",
       "    <span style=\"font-size: 0.8em; font-weight: bold; line-height: 1; border-radius: 0.35em; vertical-align: middle; margin-left: 0.5rem\">DATASET</span>\n",
       "</mark>\n",
       " public-use data (Minnesota Population Center 2012).</div></span>"
      ],
      "text/plain": [
       "<IPython.core.display.HTML object>"
      ]
     },
     "metadata": {},
     "output_type": "display_data"
    },
    {
     "data": {
      "text/html": [
       "<span class=\"tex2jax_ignore\"><div class=\"entities\" style=\"line-height: 2.5; direction: ltr\">13 The public-use samples are stripped of geographic identi…ers necessitating the use of restricted access for these data from the \n",
       "<mark class=\"entity\" style=\"background: #ddd; padding: 0.45em 0.6em; margin: 0 0.25em; line-height: 1; border-radius: 0.35em;\">\n",
       "    National Center for Health Statistics (NCHS\n",
       "    <span style=\"font-size: 0.8em; font-weight: bold; line-height: 1; border-radius: 0.35em; vertical-align: middle; margin-left: 0.5rem\">DATASET</span>\n",
       "</mark>\n",
       ").</div></span>"
      ],
      "text/plain": [
       "<IPython.core.display.HTML object>"
      ]
     },
     "metadata": {},
     "output_type": "display_data"
    },
    {
     "data": {
      "text/html": [
       "<span class=\"tex2jax_ignore\"><div class=\"entities\" style=\"line-height: 2.5; direction: ltr\">In a simple di¤erence-in-di¤erencein-di¤erences (DDD) speci…cation where we regress the \n",
       "<mark class=\"entity\" style=\"background: #ddd; padding: 0.45em 0.6em; margin: 0 0.25em; line-height: 1; border-radius: 0.35em;\">\n",
       "    NHIS\n",
       "    <span style=\"font-size: 0.8em; font-weight: bold; line-height: 1; border-radius: 0.35em; vertical-align: middle; margin-left: 0.5rem\">DATASET</span>\n",
       "</mark>\n",
       " sample weight for each individual on year …xed e¤ects, an indicator for black, an indicator for male, an indicator for black-male, and an indicator for post-1972 interacted with each of the demographic indicators, we …nd that the survey weights for black men in the sample after 1972 rose by a statistically insigni…cant 0.3%.</div></span>"
      ],
      "text/plain": [
       "<IPython.core.display.HTML object>"
      ]
     },
     "metadata": {},
     "output_type": "display_data"
    },
    {
     "data": {
      "text/html": [
       "<span class=\"tex2jax_ignore\"><div class=\"entities\" style=\"line-height: 2.5; direction: ltr\">IHIS is now known as \n",
       "<mark class=\"entity\" style=\"background: #ddd; padding: 0.45em 0.6em; margin: 0 0.25em; line-height: 1; border-radius: 0.35em;\">\n",
       "    IPUMS Health Surveys: NHIS.\n",
       "    <span style=\"font-size: 0.8em; font-weight: bold; line-height: 1; border-radius: 0.35em; vertical-align: middle; margin-left: 0.5rem\">DATASET</span>\n",
       "</mark>\n",
       "</div></span>"
      ],
      "text/plain": [
       "<IPython.core.display.HTML object>"
      ]
     },
     "metadata": {},
     "output_type": "display_data"
    },
    {
     "data": {
      "text/html": [
       "<span class=\"tex2jax_ignore\"><div class=\"entities\" style=\"line-height: 2.5; direction: ltr\">We accessed the \n",
       "<mark class=\"entity\" style=\"background: #ddd; padding: 0.45em 0.6em; margin: 0 0.25em; line-height: 1; border-radius: 0.35em;\">\n",
       "    IHIS\n",
       "    <span style=\"font-size: 0.8em; font-weight: bold; line-height: 1; border-radius: 0.35em; vertical-align: middle; margin-left: 0.5rem\">DATASET</span>\n",
       "</mark>\n",
       " harmonized data, with location-based treatment variables (geographic proximity and migration shares) attached, inside Census Research Data Centers (RDCs) at Atlanta and Stanford.</div></span>"
      ],
      "text/plain": [
       "<IPython.core.display.HTML object>"
      ]
     },
     "metadata": {},
     "output_type": "display_data"
    },
    {
     "data": {
      "text/html": [
       "<span class=\"tex2jax_ignore\"><div class=\"entities\" style=\"line-height: 2.5; direction: ltr\">In later years, the \n",
       "<mark class=\"entity\" style=\"background: #ddd; padding: 0.45em 0.6em; margin: 0 0.25em; line-height: 1; border-radius: 0.35em;\">\n",
       "    NHIS\n",
       "    <span style=\"font-size: 0.8em; font-weight: bold; line-height: 1; border-radius: 0.35em; vertical-align: middle; margin-left: 0.5rem\">DATASET</span>\n",
       "</mark>\n",
       " data have been linked to mortality …les, but these linked data are not available for our study period.</div></span>"
      ],
      "text/plain": [
       "<IPython.core.display.HTML object>"
      ]
     },
     "metadata": {},
     "output_type": "display_data"
    },
    {
     "data": {
      "text/html": [
       "<span class=\"tex2jax_ignore\"><div class=\"entities\" style=\"line-height: 2.5; direction: ltr\">The \n",
       "<mark class=\"entity\" style=\"background: #ddd; padding: 0.45em 0.6em; margin: 0 0.25em; line-height: 1; border-radius: 0.35em;\">\n",
       "    NHIS\n",
       "    <span style=\"font-size: 0.8em; font-weight: bold; line-height: 1; border-radius: 0.35em; vertical-align: middle; margin-left: 0.5rem\">DATASET</span>\n",
       "</mark>\n",
       " data do not contain consistent measures of individual health insurance coverage over our time period; however, in all mortality regressions we control for local, time-varying Medicare and Medicaid expenditures, interacted with race and gender.</div></span>"
      ],
      "text/plain": [
       "<IPython.core.display.HTML object>"
      ]
     },
     "metadata": {},
     "output_type": "display_data"
    },
    {
     "data": {
      "text/html": [
       "<span class=\"tex2jax_ignore\"><div class=\"entities\" style=\"line-height: 2.5; direction: ltr\">Because phone calls to medical providers were counted as physician interactions, all \n",
       "<mark class=\"entity\" style=\"background: #ddd; padding: 0.45em 0.6em; margin: 0 0.25em; line-height: 1; border-radius: 0.35em;\">\n",
       "    NHIS\n",
       "    <span style=\"font-size: 0.8em; font-weight: bold; line-height: 1; border-radius: 0.35em; vertical-align: middle; margin-left: 0.5rem\">DATASET</span>\n",
       "</mark>\n",
       " regressions control for whether the household has a telephone.</div></span>"
      ],
      "text/plain": [
       "<IPython.core.display.HTML object>"
      ]
     },
     "metadata": {},
     "output_type": "display_data"
    },
    {
     "data": {
      "text/html": [
       "<span class=\"tex2jax_ignore\"><div class=\"entities\" style=\"line-height: 2.5; direction: ltr\">Mortality rates based on a sparse number of events exhibit a large amount of random variation (Curtin and Klein 1995) , thus we follow advice from \n",
       "<mark class=\"entity\" style=\"background: #ddd; padding: 0.45em 0.6em; margin: 0 0.25em; line-height: 1; border-radius: 0.35em;\">\n",
       "    NCHS\n",
       "    <span style=\"font-size: 0.8em; font-weight: bold; line-height: 1; border-radius: 0.35em; vertical-align: middle; margin-left: 0.5rem\">DATASET</span>\n",
       "</mark>\n",
       " and aggregate over space and time, combining annual county-level mortality counts to the state economic area (SEA) level and measuring biennial mortality rates.</div></span>"
      ],
      "text/plain": [
       "<IPython.core.display.HTML object>"
      ]
     },
     "metadata": {},
     "output_type": "display_data"
    },
    {
     "data": {
      "text/html": [
       "<span class=\"tex2jax_ignore\"><div class=\"entities\" style=\"line-height: 2.5; direction: ltr\">Data from the \n",
       "<mark class=\"entity\" style=\"background: #ddd; padding: 0.45em 0.6em; margin: 0 0.25em; line-height: 1; border-radius: 0.35em;\">\n",
       "    1979 Survey of Black Americans support the\n",
       "    <span style=\"font-size: 0.8em; font-weight: bold; line-height: 1; border-radius: 0.35em; vertical-align: middle; margin-left: 0.5rem\">DATASET</span>\n",
       "</mark>\n",
       " notion that black men from the South identi…ed more with the men from the study.</div></span>"
      ],
      "text/plain": [
       "<IPython.core.display.HTML object>"
      ]
     },
     "metadata": {},
     "output_type": "display_data"
    },
    {
     "data": {
      "text/html": [
       "<span class=\"tex2jax_ignore\"><div class=\"entities\" style=\"line-height: 2.5; direction: ltr\">We take advantage of the complete count version of the \n",
       "<mark class=\"entity\" style=\"background: #ddd; padding: 0.45em 0.6em; margin: 0 0.25em; line-height: 1; border-radius: 0.35em;\">\n",
       "    1940 U.S. Census\n",
       "    <span style=\"font-size: 0.8em; font-weight: bold; line-height: 1; border-radius: 0.35em; vertical-align: middle; margin-left: 0.5rem\">DATASET</span>\n",
       "</mark>\n",
       ", which contains a question about 5-year migration patterns with detailed geography measures, to calculate this statistic.</div></span>"
      ],
      "text/plain": [
       "<IPython.core.display.HTML object>"
      ]
     },
     "metadata": {},
     "output_type": "display_data"
    },
    {
     "data": {
      "text/html": [
       "<span class=\"tex2jax_ignore\"><div class=\"entities\" style=\"line-height: 2.5; direction: ltr\">We exclude the \n",
       "<mark class=\"entity\" style=\"background: #ddd; padding: 0.45em 0.6em; margin: 0 0.25em; line-height: 1; border-radius: 0.35em;\">\n",
       "    SEAs\n",
       "    <span style=\"font-size: 0.8em; font-weight: bold; line-height: 1; border-radius: 0.35em; vertical-align: middle; margin-left: 0.5rem\">DATASET</span>\n",
       "</mark>\n",
       " containing Los Angeles and San Francisco from the analytic sample.</div></span>"
      ],
      "text/plain": [
       "<IPython.core.display.HTML object>"
      ]
     },
     "metadata": {},
     "output_type": "display_data"
    },
    {
     "data": {
      "text/html": [
       "<span class=\"tex2jax_ignore\"><div class=\"entities\" style=\"line-height: 2.5; direction: ltr\">For the \n",
       "<mark class=\"entity\" style=\"background: #ddd; padding: 0.45em 0.6em; margin: 0 0.25em; line-height: 1; border-radius: 0.35em;\">\n",
       "    NHIS\n",
       "    <span style=\"font-size: 0.8em; font-weight: bold; line-height: 1; border-radius: 0.35em; vertical-align: middle; margin-left: 0.5rem\">DATASET</span>\n",
       "</mark>\n",
       " outcomes, which are available at the state level, we use county-level black adult population statistics and geographic county centroids to create black population-weighted state centroids which are used to construct proximity as above.</div></span>"
      ],
      "text/plain": [
       "<IPython.core.display.HTML object>"
      ]
     },
     "metadata": {},
     "output_type": "display_data"
    },
    {
     "data": {
      "text/html": [
       "<span class=\"tex2jax_ignore\"><div class=\"entities\" style=\"line-height: 2.5; direction: ltr\">\n",
       "<mark class=\"entity\" style=\"background: #ddd; padding: 0.45em 0.6em; margin: 0 0.25em; line-height: 1; border-radius: 0.35em;\">\n",
       "    NCHS\n",
       "    <span style=\"font-size: 0.8em; font-weight: bold; line-height: 1; border-radius: 0.35em; vertical-align: middle; margin-left: 0.5rem\">DATASET</span>\n",
       "</mark>\n",
       " mortality data are available for earlier years, but the \n",
       "<mark class=\"entity\" style=\"background: #ddd; padding: 0.45em 0.6em; margin: 0 0.25em; line-height: 1; border-radius: 0.35em;\">\n",
       "    1960 U.S. Census of Population, from which\n",
       "    <span style=\"font-size: 0.8em; font-weight: bold; line-height: 1; border-radius: 0.35em; vertical-align: middle; margin-left: 0.5rem\">DATASET</span>\n",
       "</mark>\n",
       " population counts would need to be derived for such an exercise, only reports local population counts by age and gender for the nonwhite population.</div></span>"
      ],
      "text/plain": [
       "<IPython.core.display.HTML object>"
      ]
     },
     "metadata": {},
     "output_type": "display_data"
    },
    {
     "data": {
      "text/html": [
       "<span class=\"tex2jax_ignore\"><div class=\"entities\" style=\"line-height: 2.5; direction: ltr\">We report four utilization outcomes of interest: how many outpatient physician interactions an \n",
       "<mark class=\"entity\" style=\"background: #ddd; padding: 0.45em 0.6em; margin: 0 0.25em; line-height: 1; border-radius: 0.35em;\">\n",
       "    NHIS\n",
       "    <span style=\"font-size: 0.8em; font-weight: bold; line-height: 1; border-radius: 0.35em; vertical-align: middle; margin-left: 0.5rem\">DATASET</span>\n",
       "</mark>\n",
       " respondent reported in the last 12 months (&quot;Number Outpatient Visits&quot;), whether an individual reported any outpatient visit with a physician in the last 12 months (&quot;Any Outpatient Visit&quot;), whether an individual reported having been admitted to a hospital in the past 12 months (&quot;Any Hospital Admission&quot;), and the number of nights spent in the hospital in the past 12 months (&quot;Number Nights in Hospital&quot;).</div></span>"
      ],
      "text/plain": [
       "<IPython.core.display.HTML object>"
      ]
     },
     "metadata": {},
     "output_type": "display_data"
    },
    {
     "data": {
      "text/html": [
       "<span class=\"tex2jax_ignore\"><div class=\"entities\" style=\"line-height: 2.5; direction: ltr\">For these results, we utilized data on the number of black and white physicians in each U.S. state from the \n",
       "<mark class=\"entity\" style=\"background: #ddd; padding: 0.45em 0.6em; margin: 0 0.25em; line-height: 1; border-radius: 0.35em;\">\n",
       "    1970 U.S. Census of Population (U.S. Census Bureau 1970\n",
       "    <span style=\"font-size: 0.8em; font-weight: bold; line-height: 1; border-radius: 0.35em; vertical-align: middle; margin-left: 0.5rem\">DATASET</span>\n",
       "</mark>\n",
       ") .</div></span>"
      ],
      "text/plain": [
       "<IPython.core.display.HTML object>"
      ]
     },
     "metadata": {},
     "output_type": "display_data"
    },
    {
     "data": {
      "text/html": [
       "<span class=\"tex2jax_ignore\"><div class=\"entities\" style=\"line-height: 2.5; direction: ltr\">In the absence of individual birth histories in the \n",
       "<mark class=\"entity\" style=\"background: #ddd; padding: 0.45em 0.6em; margin: 0 0.25em; line-height: 1; border-radius: 0.35em;\">\n",
       "    NHIS\n",
       "    <span style=\"font-size: 0.8em; font-weight: bold; line-height: 1; border-radius: 0.35em; vertical-align: middle; margin-left: 0.5rem\">DATASET</span>\n",
       "</mark>\n",
       ", we use marital status as a proxy for whether or not a woman had given birth.</div></span>"
      ],
      "text/plain": [
       "<IPython.core.display.HTML object>"
      ]
     },
     "metadata": {},
     "output_type": "display_data"
    },
    {
     "data": {
      "text/html": [
       "<span class=\"tex2jax_ignore\"><div class=\"entities\" style=\"line-height: 2.5; direction: ltr\">Our measure of how much trust one has in their doctor comes from the \n",
       "<mark class=\"entity\" style=\"background: #ddd; padding: 0.45em 0.6em; margin: 0 0.25em; line-height: 1; border-radius: 0.35em;\">\n",
       "    GSS\n",
       "    <span style=\"font-size: 0.8em; font-weight: bold; line-height: 1; border-radius: 0.35em; vertical-align: middle; margin-left: 0.5rem\">DATASET</span>\n",
       "</mark>\n",
       ", a repeated cross section extending from 1972 to the present.</div></span>"
      ],
      "text/plain": [
       "<IPython.core.display.HTML object>"
      ]
     },
     "metadata": {},
     "output_type": "display_data"
    },
    {
     "data": {
      "text/html": [
       "<span class=\"tex2jax_ignore\"><div class=\"entities\" style=\"line-height: 2.5; direction: ltr\">Because their most robust analysis is based on \n",
       "<mark class=\"entity\" style=\"background: #ddd; padding: 0.45em 0.6em; margin: 0 0.25em; line-height: 1; border-radius: 0.35em;\">\n",
       "    Medicare data\n",
       "    <span style=\"font-size: 0.8em; font-weight: bold; line-height: 1; border-radius: 0.35em; vertical-align: middle; margin-left: 0.5rem\">DATASET</span>\n",
       "</mark>\n",
       ", these authors do not provide a similar estimate for life expectancy at age 45.</div></span>"
      ],
      "text/plain": [
       "<IPython.core.display.HTML object>"
      ]
     },
     "metadata": {},
     "output_type": "display_data"
    },
    {
     "data": {
      "text/html": [
       "<span class=\"tex2jax_ignore\"><div class=\"entities\" style=\"line-height: 2.5; direction: ltr\">The e¤ects are particularly heightened among less-educated and lower income men, a socioeconomic pro…le shared by the men targeted by \n",
       "<mark class=\"entity\" style=\"background: #ddd; padding: 0.45em 0.6em; margin: 0 0.25em; line-height: 1; border-radius: 0.35em;\">\n",
       "    PHS\n",
       "    <span style=\"font-size: 0.8em; font-weight: bold; line-height: 1; border-radius: 0.35em; vertical-align: middle; margin-left: 0.5rem\">DATASET</span>\n",
       "</mark>\n",
       " investigators.</div></span>"
      ],
      "text/plain": [
       "<IPython.core.display.HTML object>"
      ]
     },
     "metadata": {},
     "output_type": "display_data"
    }
   ],
   "source": [
    "candidates = df_candidates_health['sentence_text'].to_list()\n",
    "\n",
    "for candidate in candidates:\n",
    "    label = set()\n",
    "    doc = custom_ner_model(candidate)\n",
    "    if len(doc.ents) > 0:\n",
    "        label.add(clean_text(doc.ents))\n",
    "        displacy.render(doc, style=\"ent\", jupyter=True)"
   ]
  },
  {
   "cell_type": "markdown",
   "metadata": {},
   "source": [
    "* **Acharya, A., Blackwell, M., & Sen, M. (2016). [The political legacy of American slavery](https://app-dimensions-ai.proxy.lib.umich.edu/details/publication/pub.1058867878?search_mode=content&search_text=%22The%20Political%20Legacy%20of%20American%20Slavery%22&search_type=kws&search_field=text_search). The Journal of Politics, 78(3), 621-641.**\n",
    "\n",
    "Our approach finds 1/4+ known ICPSR Studies:\n",
    "\n",
    "* Three Generations Combined, 1965-1997 (ICPSR 4532)\n",
    "* Youth-Parent Socialization Panel Study, 1965-1997: Four Waves Combined (ICPSR 4037)\n",
    "* Historical, Demographic, Economic, and Social Data: The United States, 1790-2002 (ICPSR 2896)\n",
    "* **ANES 1984 Time Series Study (ICPSR 8298)**\n",
    "* ANES 1986 Time Series Study (ICPSR 8678)\n",
    "* ANES 1988 Time Series Study (ICPSR 9196)\n",
    "* ANES 1990 Time Series Study (ICPSR 9548)\n",
    "* ANES 1992 Time Series Study (ICPSR 6067)\n",
    "* ANES 1994 Time Series Study (ICPSR 6507)\n",
    "* ANES 1996 Time Series Study (ICPSR 6896)\n",
    "* ANES 1998 Time Series Study (ICPSR 2684)\n",
    "\n",
    "Other data found include:\n",
    "* 1860 U.S. Census\n",
    "* 1940 U.S. Census\n",
    "* 1925 Agricultural Census\n",
    "* Cooperative Congressional Election Study (CCES)"
   ]
  },
  {
   "cell_type": "code",
   "execution_count": 8,
   "metadata": {},
   "outputs": [
    {
     "data": {
      "text/html": [
       "<span class=\"tex2jax_ignore\"><div class=\"entities\" style=\"line-height: 2.5; direction: ltr\">Our main explanatory variable and proxy for slavery's prevalence is the proportion of each county's 1860 population that was enslaved, as measured by the \n",
       "<mark class=\"entity\" style=\"background: #ddd; padding: 0.45em 0.6em; margin: 0 0.25em; line-height: 1; border-radius: 0.35em;\">\n",
       "    1860 U.S. Census.\n",
       "    <span style=\"font-size: 0.8em; font-weight: bold; line-height: 1; border-radius: 0.35em; vertical-align: middle; margin-left: 0.5rem\">DATASET</span>\n",
       "</mark>\n",
       "</div></span>"
      ],
      "text/plain": [
       "<IPython.core.display.HTML object>"
      ]
     },
     "metadata": {},
     "output_type": "display_data"
    },
    {
     "data": {
      "text/html": [
       "<span class=\"tex2jax_ignore\"><div class=\"entities\" style=\"line-height: 2.5; direction: ltr\">We analyze three county-level outcome measures, which come from the \n",
       "<mark class=\"entity\" style=\"background: #ddd; padding: 0.45em 0.6em; margin: 0 0.25em; line-height: 1; border-radius: 0.35em;\">\n",
       "    Cooperative Congressional Election Study (CCES)\n",
       "    <span style=\"font-size: 0.8em; font-weight: bold; line-height: 1; border-radius: 0.35em; vertical-align: middle; margin-left: 0.5rem\">DATASET</span>\n",
       "</mark>\n",
       ", a large survey of American adults (Ansolabehere, 2010) .</div></span>"
      ],
      "text/plain": [
       "<IPython.core.display.HTML object>"
      ]
     },
     "metadata": {},
     "output_type": "display_data"
    },
    {
     "data": {
      "text/html": [
       "<span class=\"tex2jax_ignore\"><div class=\"entities\" style=\"line-height: 2.5; direction: ltr\">We pool \n",
       "<mark class=\"entity\" style=\"background: #ddd; padding: 0.45em 0.6em; margin: 0 0.25em; line-height: 1; border-radius: 0.35em;\">\n",
       "    CCES data\n",
       "    <span style=\"font-size: 0.8em; font-weight: bold; line-height: 1; border-radius: 0.35em; vertical-align: middle; margin-left: 0.5rem\">DATASET</span>\n",
       "</mark>\n",
       " from the \n",
       "<mark class=\"entity\" style=\"background: #ddd; padding: 0.45em 0.6em; margin: 0 0.25em; line-height: 1; border-radius: 0.35em;\">\n",
       "    2006, 2008\n",
       "    <span style=\"font-size: 0.8em; font-weight: bold; line-height: 1; border-radius: 0.35em; vertical-align: middle; margin-left: 0.5rem\">DATASET</span>\n",
       "</mark>\n",
       ", 2009, 2010 , and 2011 surveys to create a combined data set of over 157,000 respondents.</div></span>"
      ],
      "text/plain": [
       "<IPython.core.display.HTML object>"
      ]
     },
     "metadata": {},
     "output_type": "display_data"
    },
    {
     "data": {
      "text/html": [
       "<span class=\"tex2jax_ignore\"><div class=\"entities\" style=\"line-height: 2.5; direction: ltr\">In addition, we also investigate individual-level black-white thermometer scores from waves of the \n",
       "<mark class=\"entity\" style=\"background: #ddd; padding: 0.45em 0.6em; margin: 0 0.25em; line-height: 1; border-radius: 0.35em;\">\n",
       "    American National Election Survey (ANES) from 1984 until 1998, a time period where the ANES\n",
       "    <span style=\"font-size: 0.8em; font-weight: bold; line-height: 1; border-radius: 0.35em; vertical-align: middle; margin-left: 0.5rem\">DATASET</span>\n",
       "</mark>\n",
       " both used a consistent sampling frame and included county-level identifiers for respondents.</div></span>"
      ],
      "text/plain": [
       "<IPython.core.display.HTML object>"
      ]
     },
     "metadata": {},
     "output_type": "display_data"
    },
    {
     "data": {
      "text/html": [
       "<span class=\"tex2jax_ignore\"><div class=\"entities\" style=\"line-height: 2.5; direction: ltr\">After restricting the sample to Southern whites, we have an \n",
       "<mark class=\"entity\" style=\"background: #ddd; padding: 0.45em 0.6em; margin: 0 0.25em; line-height: 1; border-radius: 0.35em;\">\n",
       "    ANES\n",
       "    <span style=\"font-size: 0.8em; font-weight: bold; line-height: 1; border-radius: 0.35em; vertical-align: middle; margin-left: 0.5rem\">DATASET</span>\n",
       "</mark>\n",
       " sample of 3,123 individuals across 64 counties in the South.</div></span>"
      ],
      "text/plain": [
       "<IPython.core.display.HTML object>"
      ]
     },
     "metadata": {},
     "output_type": "display_data"
    },
    {
     "data": {
      "text/html": [
       "<span class=\"tex2jax_ignore\"><div class=\"entities\" style=\"line-height: 2.5; direction: ltr\">This makes the \n",
       "<mark class=\"entity\" style=\"background: #ddd; padding: 0.45em 0.6em; margin: 0 0.25em; line-height: 1; border-radius: 0.35em;\">\n",
       "    ANES\n",
       "    <span style=\"font-size: 0.8em; font-weight: bold; line-height: 1; border-radius: 0.35em; vertical-align: middle; margin-left: 0.5rem\">DATASET</span>\n",
       "</mark>\n",
       " more restricted in its geographic coverage, but it contains valuable direct questions on the subjective evaluation of racial groups.</div></span>"
      ],
      "text/plain": [
       "<IPython.core.display.HTML object>"
      ]
     },
     "metadata": {},
     "output_type": "display_data"
    },
    {
     "data": {
      "text/html": [
       "<span class=\"tex2jax_ignore\"><div class=\"entities\" style=\"line-height: 2.5; direction: ltr\">We construct our partisanship measure from a standard seven-point party identification question on the \n",
       "<mark class=\"entity\" style=\"background: #ddd; padding: 0.45em 0.6em; margin: 0 0.25em; line-height: 1; border-radius: 0.35em;\">\n",
       "    CCES\n",
       "    <span style=\"font-size: 0.8em; font-weight: bold; line-height: 1; border-radius: 0.35em; vertical-align: middle; margin-left: 0.5rem\">DATASET</span>\n",
       "</mark>\n",
       ".</div></span>"
      ],
      "text/plain": [
       "<IPython.core.display.HTML object>"
      ]
     },
     "metadata": {},
     "output_type": "display_data"
    },
    {
     "data": {
      "text/html": [
       "<span class=\"tex2jax_ignore\"><div class=\"entities\" style=\"line-height: 2.5; direction: ltr\">All \n",
       "<mark class=\"entity\" style=\"background: #ddd; padding: 0.45em 0.6em; margin: 0 0.25em; line-height: 1; border-radius: 0.35em;\">\n",
       "    CCES\n",
       "    <span style=\"font-size: 0.8em; font-weight: bold; line-height: 1; border-radius: 0.35em; vertical-align: middle; margin-left: 0.5rem\">DATASET</span>\n",
       "</mark>\n",
       " surveys ask respondents whether they support or oppose affirmative action policies, which are described as &quot;programs [that] give preference to racial minorities and to women in employment and college admissions in order to correct for discrimination&quot; (2008 CCES).</div></span>"
      ],
      "text/plain": [
       "<IPython.core.display.HTML object>"
      ]
     },
     "metadata": {},
     "output_type": "display_data"
    },
    {
     "data": {
      "text/html": [
       "<span class=\"tex2jax_ignore\"><div class=\"entities\" style=\"line-height: 2.5; direction: ltr\">We construct a third outcome variable using the two \n",
       "<mark class=\"entity\" style=\"background: #ddd; padding: 0.45em 0.6em; margin: 0 0.25em; line-height: 1; border-radius: 0.35em;\">\n",
       "    CCES\n",
       "    <span style=\"font-size: 0.8em; font-weight: bold; line-height: 1; border-radius: 0.35em; vertical-align: middle; margin-left: 0.5rem\">DATASET</span>\n",
       "</mark>\n",
       " questions on racial resentment.</div></span>"
      ],
      "text/plain": [
       "<IPython.core.display.HTML object>"
      ]
     },
     "metadata": {},
     "output_type": "display_data"
    },
    {
     "data": {
      "text/html": [
       "<span class=\"tex2jax_ignore\"><div class=\"entities\" style=\"line-height: 2.5; direction: ltr\">The first question, asked in the 2010 and \n",
       "<mark class=\"entity\" style=\"background: #ddd; padding: 0.45em 0.6em; margin: 0 0.25em; line-height: 1; border-radius: 0.35em;\">\n",
       "    2011 CCES surveys\n",
       "    <span style=\"font-size: 0.8em; font-weight: bold; line-height: 1; border-radius: 0.35em; vertical-align: middle; margin-left: 0.5rem\">DATASET</span>\n",
       "</mark>\n",
       ", asks respondents on a five-point scale whether they agree with the following statement: &quot;The Irish, Italian, Jews and many other minorities overcame prejudice and worked their way up.</div></span>"
      ],
      "text/plain": [
       "<IPython.core.display.HTML object>"
      ]
     },
     "metadata": {},
     "output_type": "display_data"
    },
    {
     "data": {
      "text/html": [
       "<span class=\"tex2jax_ignore\"><div class=\"entities\" style=\"line-height: 2.5; direction: ltr\">For the \n",
       "<mark class=\"entity\" style=\"background: #ddd; padding: 0.45em 0.6em; margin: 0 0.25em; line-height: 1; border-radius: 0.35em;\">\n",
       "    2010 CCES\n",
       "    <span style=\"font-size: 0.8em; font-weight: bold; line-height: 1; border-radius: 0.35em; vertical-align: middle; margin-left: 0.5rem\">DATASET</span>\n",
       "</mark>\n",
       ", when both questions were asked, we rescaled both questions and averaged them to create one measure.</div></span>"
      ],
      "text/plain": [
       "<IPython.core.display.HTML object>"
      ]
     },
     "metadata": {},
     "output_type": "display_data"
    },
    {
     "data": {
      "text/html": [
       "<span class=\"tex2jax_ignore\"><div class=\"entities\" style=\"line-height: 2.5; direction: ltr\">In many years, the \n",
       "<mark class=\"entity\" style=\"background: #ddd; padding: 0.45em 0.6em; margin: 0 0.25em; line-height: 1; border-radius: 0.35em;\">\n",
       "    ANES\n",
       "    <span style=\"font-size: 0.8em; font-weight: bold; line-height: 1; border-radius: 0.35em; vertical-align: middle; margin-left: 0.5rem\">DATASET</span>\n",
       "</mark>\n",
       " contains &quot;feeling thermometer&quot; questions, which ask respondents to evaluate their feelings about politicians and groups (including racial or ethnic groups) on a scale from 0 to 100.</div></span>"
      ],
      "text/plain": [
       "<IPython.core.display.HTML object>"
      ]
     },
     "metadata": {},
     "output_type": "display_data"
    },
    {
     "data": {
      "text/html": [
       "<span class=\"tex2jax_ignore\"><div class=\"entities\" style=\"line-height: 2.5; direction: ltr\">8 Since 8 The \n",
       "<mark class=\"entity\" style=\"background: #ddd; padding: 0.45em 0.6em; margin: 0 0.25em; line-height: 1; border-radius: 0.35em;\">\n",
       "    1984 ANES\n",
       "    <span style=\"font-size: 0.8em; font-weight: bold; line-height: 1; border-radius: 0.35em; vertical-align: middle; margin-left: 0.5rem\">DATASET</span>\n",
       "</mark>\n",
       " gave respondents the following instructions: I'll read the name of a person and I' d like you to rate the person using the feeling thermometer.</div></span>"
      ],
      "text/plain": [
       "<IPython.core.display.HTML object>"
      ]
     },
     "metadata": {},
     "output_type": "display_data"
    },
    {
     "data": {
      "text/html": [
       "<span class=\"tex2jax_ignore\"><div class=\"entities\" style=\"line-height: 2.5; direction: ltr\">Figure 2 depicts the bivariate relationships between proportion slave in 1860 and the four outcome measures from the CCES and \n",
       "<mark class=\"entity\" style=\"background: #ddd; padding: 0.45em 0.6em; margin: 0 0.25em; line-height: 1; border-radius: 0.35em;\">\n",
       "    ANES\n",
       "    <span style=\"font-size: 0.8em; font-weight: bold; line-height: 1; border-radius: 0.35em; vertical-align: middle; margin-left: 0.5rem\">DATASET</span>\n",
       "</mark>\n",
       ".</div></span>"
      ],
      "text/plain": [
       "<IPython.core.display.HTML object>"
      ]
     },
     "metadata": {},
     "output_type": "display_data"
    },
    {
     "data": {
      "text/html": [
       "<span class=\"tex2jax_ignore\"><div class=\"entities\" style=\"line-height: 2.5; direction: ltr\">In models that analyze the \n",
       "<mark class=\"entity\" style=\"background: #ddd; padding: 0.45em 0.6em; margin: 0 0.25em; line-height: 1; border-radius: 0.35em;\">\n",
       "    CCES\n",
       "    <span style=\"font-size: 0.8em; font-weight: bold; line-height: 1; border-radius: 0.35em; vertical-align: middle; margin-left: 0.5rem\">DATASET</span>\n",
       "</mark>\n",
       " outcomes, we conduct a county-level analysis using weighted least squares (WLS) with the within-county sample size (appropriately weighted by the sampling weights) as weights.</div></span>"
      ],
      "text/plain": [
       "<IPython.core.display.HTML object>"
      ]
     },
     "metadata": {},
     "output_type": "display_data"
    },
    {
     "data": {
      "text/html": [
       "<span class=\"tex2jax_ignore\"><div class=\"entities\" style=\"line-height: 2.5; direction: ltr\">In Table 1 , we report the baseline estimates of slavery's effect on the three \n",
       "<mark class=\"entity\" style=\"background: #ddd; padding: 0.45em 0.6em; margin: 0 0.25em; line-height: 1; border-radius: 0.35em;\">\n",
       "    CCES\n",
       "    <span style=\"font-size: 0.8em; font-weight: bold; line-height: 1; border-radius: 0.35em; vertical-align: middle; margin-left: 0.5rem\">DATASET</span>\n",
       "</mark>\n",
       " outcomes.</div></span>"
      ],
      "text/plain": [
       "<IPython.core.display.HTML object>"
      ]
     },
     "metadata": {},
     "output_type": "display_data"
    },
    {
     "data": {
      "text/html": [
       "<span class=\"tex2jax_ignore\"><div class=\"entities\" style=\"line-height: 2.5; direction: ltr\">These &quot;1860 covariates, &quot; unless otherwise noted, come from the \n",
       "<mark class=\"entity\" style=\"background: #ddd; padding: 0.45em 0.6em; margin: 0 0.25em; line-height: 1; border-radius: 0.35em;\">\n",
       "    1860 U.S. Census\n",
       "    <span style=\"font-size: 0.8em; font-weight: bold; line-height: 1; border-radius: 0.35em; vertical-align: middle; margin-left: 0.5rem\">DATASET</span>\n",
       "</mark>\n",
       " and address possible differences between slaveholding and nonslaveholding counties.</div></span>"
      ],
      "text/plain": [
       "<IPython.core.display.HTML object>"
      ]
     },
     "metadata": {},
     "output_type": "display_data"
    },
    {
     "data": {
      "text/html": [
       "<span class=\"tex2jax_ignore\"><div class=\"entities\" style=\"line-height: 2.5; direction: ltr\">10 As Columns (2) -(4) show, the conditional effects of slavery are meaningful and significant for all three \n",
       "<mark class=\"entity\" style=\"background: #ddd; padding: 0.45em 0.6em; margin: 0 0.25em; line-height: 1; border-radius: 0.35em;\">\n",
       "    CCES\n",
       "    <span style=\"font-size: 0.8em; font-weight: bold; line-height: 1; border-radius: 0.35em; vertical-align: middle; margin-left: 0.5rem\">DATASET</span>\n",
       "</mark>\n",
       " outcome variables.</div></span>"
      ],
      "text/plain": [
       "<IPython.core.display.HTML object>"
      ]
     },
     "metadata": {},
     "output_type": "display_data"
    },
    {
     "data": {
      "text/html": [
       "<span class=\"tex2jax_ignore\"><div class=\"entities\" style=\"line-height: 2.5; direction: ltr\">These represent approximately a 0.09-0.13 standard deviation change in the \n",
       "<mark class=\"entity\" style=\"background: #ddd; padding: 0.45em 0.6em; margin: 0 0.25em; line-height: 1; border-radius: 0.35em;\">\n",
       "    CCES\n",
       "    <span style=\"font-size: 0.8em; font-weight: bold; line-height: 1; border-radius: 0.35em; vertical-align: middle; margin-left: 0.5rem\">DATASET</span>\n",
       "</mark>\n",
       " outcomes and roughly a 0.32 standard deviation change in the thermometer score difference.</div></span>"
      ],
      "text/plain": [
       "<IPython.core.display.HTML object>"
      ]
     },
     "metadata": {},
     "output_type": "display_data"
    },
    {
     "data": {
      "text/html": [
       "<span class=\"tex2jax_ignore\"><div class=\"entities\" style=\"line-height: 2.5; direction: ltr\">The individual-level results for the \n",
       "<mark class=\"entity\" style=\"background: #ddd; padding: 0.45em 0.6em; margin: 0 0.25em; line-height: 1; border-radius: 0.35em;\">\n",
       "    CCES\n",
       "    <span style=\"font-size: 0.8em; font-weight: bold; line-height: 1; border-radius: 0.35em; vertical-align: middle; margin-left: 0.5rem\">DATASET</span>\n",
       "</mark>\n",
       " in Appendix Table A.3 give very similar estimates, making it unlikely that these results are due to some sort of ecological or aggregation bias.</div></span>"
      ],
      "text/plain": [
       "<IPython.core.display.HTML object>"
      ]
     },
     "metadata": {},
     "output_type": "display_data"
    },
    {
     "data": {
      "text/html": [
       "<span class=\"tex2jax_ignore\"><div class=\"entities\" style=\"line-height: 2.5; direction: ltr\">We constructed these measures using data from the \n",
       "<mark class=\"entity\" style=\"background: #ddd; padding: 0.45em 0.6em; margin: 0 0.25em; line-height: 1; border-radius: 0.35em;\">\n",
       "    United Nations Food and Agriculture Organization (FAO\n",
       "    <span style=\"font-size: 0.8em; font-weight: bold; line-height: 1; border-radius: 0.35em; vertical-align: middle; margin-left: 0.5rem\">DATASET</span>\n",
       "</mark>\n",
       ").</div></span>"
      ],
      "text/plain": [
       "<IPython.core.display.HTML object>"
      ]
     },
     "metadata": {},
     "output_type": "display_data"
    },
    {
     "data": {
      "text/html": [
       "<span class=\"tex2jax_ignore\"><div class=\"entities\" style=\"line-height: 2.5; direction: ltr\">To investigate this possibility, we look into patterns of migration in a five-year snapshot from 1935-1940, drawing on the public use micro-sample (\n",
       "<mark class=\"entity\" style=\"background: #ddd; padding: 0.45em 0.6em; margin: 0 0.25em; line-height: 1; border-radius: 0.35em;\">\n",
       "    PUMS\n",
       "    <span style=\"font-size: 0.8em; font-weight: bold; line-height: 1; border-radius: 0.35em; vertical-align: middle; margin-left: 0.5rem\">DATASET</span>\n",
       "</mark>\n",
       ") of the \n",
       "<mark class=\"entity\" style=\"background: #ddd; padding: 0.45em 0.6em; margin: 0 0.25em; line-height: 1; border-radius: 0.35em;\">\n",
       "    1940 U.S. Census (Ruggles et al., 2010) .\n",
       "    <span style=\"font-size: 0.8em; font-weight: bold; line-height: 1; border-radius: 0.35em; vertical-align: middle; margin-left: 0.5rem\">DATASET</span>\n",
       "</mark>\n",
       "</div></span>"
      ],
      "text/plain": [
       "<IPython.core.display.HTML object>"
      ]
     },
     "metadata": {},
     "output_type": "display_data"
    },
    {
     "data": {
      "text/html": [
       "<span class=\"tex2jax_ignore\"><div class=\"entities\" style=\"line-height: 2.5; direction: ltr\">The effect sizes from the 1950s and 1960s are roughly similar in magnitude, but in the opposite direction, to the effect of slavery on the Obama white vote in 2008, estimated from \n",
       "<mark class=\"entity\" style=\"background: #ddd; padding: 0.45em 0.6em; margin: 0 0.25em; line-height: 1; border-radius: 0.35em;\">\n",
       "    CCES\n",
       "    <span style=\"font-size: 0.8em; font-weight: bold; line-height: 1; border-radius: 0.35em; vertical-align: middle; margin-left: 0.5rem\">DATASET</span>\n",
       "</mark>\n",
       " white respondents.</div></span>"
      ],
      "text/plain": [
       "<IPython.core.display.HTML object>"
      ]
     },
     "metadata": {},
     "output_type": "display_data"
    },
    {
     "data": {
      "text/html": [
       "<span class=\"tex2jax_ignore\"><div class=\"entities\" style=\"line-height: 2.5; direction: ltr\">These findings also hold if we use the \n",
       "<mark class=\"entity\" style=\"background: #ddd; padding: 0.45em 0.6em; margin: 0 0.25em; line-height: 1; border-radius: 0.35em;\">\n",
       "    WLS specification\n",
       "    <span style=\"font-size: 0.8em; font-weight: bold; line-height: 1; border-radius: 0.35em; vertical-align: middle; margin-left: 0.5rem\">DATASET</span>\n",
       "</mark>\n",
       " and condition on our pre-treatment covariates, and they hold even when we control for county-level vote for Democrat James Buchanan in the 1856 presidential election.</div></span>"
      ],
      "text/plain": [
       "<IPython.core.display.HTML object>"
      ]
     },
     "metadata": {},
     "output_type": "display_data"
    },
    {
     "data": {
      "text/html": [
       "<span class=\"tex2jax_ignore\"><div class=\"entities\" style=\"line-height: 2.5; direction: ltr\">Appendix Table A .17 draws on data from the the \n",
       "<mark class=\"entity\" style=\"background: #ddd; padding: 0.45em 0.6em; margin: 0 0.25em; line-height: 1; border-radius: 0.35em;\">\n",
       "    1925 Agricultural Census (Haines\n",
       "    <span style=\"font-size: 0.8em; font-weight: bold; line-height: 1; border-radius: 0.35em; vertical-align: middle; margin-left: 0.5rem\">DATASET</span>\n",
       "</mark>\n",
       ", 2010) and shows that, in comparison to white farmers, black farmers in former high-slave areas were significantly worse off than those in other areas of the South.</div></span>"
      ],
      "text/plain": [
       "<IPython.core.display.HTML object>"
      ]
     },
     "metadata": {},
     "output_type": "display_data"
    },
    {
     "data": {
      "text/html": [
       "<span class=\"tex2jax_ignore\"><div class=\"entities\" style=\"line-height: 2.5; direction: ltr\">A final concern is that our findings regarding contemporary attitudes may be driven not by intergenerational transmission, but by the direct experiences and attitudes of older individuals in our \n",
       "<mark class=\"entity\" style=\"background: #ddd; padding: 0.45em 0.6em; margin: 0 0.25em; line-height: 1; border-radius: 0.35em;\">\n",
       "    CCES\n",
       "    <span style=\"font-size: 0.8em; font-weight: bold; line-height: 1; border-radius: 0.35em; vertical-align: middle; margin-left: 0.5rem\">DATASET</span>\n",
       "</mark>\n",
       " sample.</div></span>"
      ],
      "text/plain": [
       "<IPython.core.display.HTML object>"
      ]
     },
     "metadata": {},
     "output_type": "display_data"
    },
    {
     "data": {
      "text/html": [
       "<span class=\"tex2jax_ignore\"><div class=\"entities\" style=\"line-height: 2.5; direction: ltr\">Columns (1), (3), and (5) of Table A .6 show that the results for all three of our \n",
       "<mark class=\"entity\" style=\"background: #ddd; padding: 0.45em 0.6em; margin: 0 0.25em; line-height: 1; border-radius: 0.35em;\">\n",
       "    CCES\n",
       "    <span style=\"font-size: 0.8em; font-weight: bold; line-height: 1; border-radius: 0.35em; vertical-align: middle; margin-left: 0.5rem\">DATASET</span>\n",
       "</mark>\n",
       " outcomes are robust to restricting our analysis to only these neighboring counties, even though this removes more than half of the counties in our original sample.</div></span>"
      ],
      "text/plain": [
       "<IPython.core.display.HTML object>"
      ]
     },
     "metadata": {},
     "output_type": "display_data"
    },
    {
     "data": {
      "text/html": [
       "<span class=\"tex2jax_ignore\"><div class=\"entities\" style=\"line-height: 2.5; direction: ltr\">31 We regress each of our three \n",
       "<mark class=\"entity\" style=\"background: #ddd; padding: 0.45em 0.6em; margin: 0 0.25em; line-height: 1; border-radius: 0.35em;\">\n",
       "    CCES\n",
       "    <span style=\"font-size: 0.8em; font-weight: bold; line-height: 1; border-radius: 0.35em; vertical-align: middle; margin-left: 0.5rem\">DATASET</span>\n",
       "</mark>\n",
       " outcome variables on the 1860 covariates as well as on a dummy variable for the county being in a slave state.</div></span>"
      ],
      "text/plain": [
       "<IPython.core.display.HTML object>"
      ]
     },
     "metadata": {},
     "output_type": "display_data"
    },
    {
     "data": {
      "text/html": [
       "<span class=\"tex2jax_ignore\"><div class=\"entities\" style=\"line-height: 2.5; direction: ltr\">In particular we use samples from the slave schedules of the \n",
       "<mark class=\"entity\" style=\"background: #ddd; padding: 0.45em 0.6em; margin: 0 0.25em; line-height: 1; border-radius: 0.35em;\">\n",
       "    1860 U.S. Census to\n",
       "    <span style=\"font-size: 0.8em; font-weight: bold; line-height: 1; border-radius: 0.35em; vertical-align: middle; margin-left: 0.5rem\">DATASET</span>\n",
       "</mark>\n",
       " calculate the average occupant size of slave quarters on farms in a county (Menard et al., 2004) .</div></span>"
      ],
      "text/plain": [
       "<IPython.core.display.HTML object>"
      ]
     },
     "metadata": {},
     "output_type": "display_data"
    },
    {
     "data": {
      "text/html": [
       "<span class=\"tex2jax_ignore\"><div class=\"entities\" style=\"line-height: 2.5; direction: ltr\">We also present some suggestive evidence against geographic sorting using data on between-county migration from 1995 to 2000 from the \n",
       "<mark class=\"entity\" style=\"background: #ddd; padding: 0.45em 0.6em; margin: 0 0.25em; line-height: 1; border-radius: 0.35em;\">\n",
       "    2000 U.S. Census (Bureau, 2001)\n",
       "    <span style=\"font-size: 0.8em; font-weight: bold; line-height: 1; border-radius: 0.35em; vertical-align: middle; margin-left: 0.5rem\">DATASET</span>\n",
       "</mark>\n",
       " .</div></span>"
      ],
      "text/plain": [
       "<IPython.core.display.HTML object>"
      ]
     },
     "metadata": {},
     "output_type": "display_data"
    },
    {
     "data": {
      "text/html": [
       "<span class=\"tex2jax_ignore\"><div class=\"entities\" style=\"line-height: 2.5; direction: ltr\">We use county-level data for the \n",
       "<mark class=\"entity\" style=\"background: #ddd; padding: 0.45em 0.6em; margin: 0 0.25em; line-height: 1; border-radius: 0.35em;\">\n",
       "    ANES measures\n",
       "    <span style=\"font-size: 0.8em; font-weight: bold; line-height: 1; border-radius: 0.35em; vertical-align: middle; margin-left: 0.5rem\">DATASET</span>\n",
       "</mark>\n",
       " to side-step the issue of clustering by county in the 2SLS model.</div></span>"
      ],
      "text/plain": [
       "<IPython.core.display.HTML object>"
      ]
     },
     "metadata": {},
     "output_type": "display_data"
    },
    {
     "data": {
      "text/html": [
       "<span class=\"tex2jax_ignore\"><div class=\"entities\" style=\"line-height: 2.5; direction: ltr\">See the \n",
       "<mark class=\"entity\" style=\"background: #ddd; padding: 0.45em 0.6em; margin: 0 0.25em; line-height: 1; border-radius: 0.35em;\">\n",
       "    IPUMS\n",
       "    <span style=\"font-size: 0.8em; font-weight: bold; line-height: 1; border-radius: 0.35em; vertical-align: middle; margin-left: 0.5rem\">DATASET</span>\n",
       "</mark>\n",
       " documentation at https://usa.ipums.org/ for a complete description of these cen-</div></span>"
      ],
      "text/plain": [
       "<IPython.core.display.HTML object>"
      ]
     },
     "metadata": {},
     "output_type": "display_data"
    },
    {
     "data": {
      "text/html": [
       "<span class=\"tex2jax_ignore\"><div class=\"entities\" style=\"line-height: 2.5; direction: ltr\">Large scale re-enfranchisement did not occur until the Voting Rights Act of 1965, which is why we stop the analysis of such vote shares at that time.25 We use the original \n",
       "<mark class=\"entity\" style=\"background: #ddd; padding: 0.45em 0.6em; margin: 0 0.25em; line-height: 1; border-radius: 0.35em;\">\n",
       "    1860 county boundaries\n",
       "    <span style=\"font-size: 0.8em; font-weight: bold; line-height: 1; border-radius: 0.35em; vertical-align: middle; margin-left: 0.5rem\">DATASET</span>\n",
       "</mark>\n",
       " for the measurement of slavery for outcomes until 1924, after which we use the data interpolated to modern boundaries.</div></span>"
      ],
      "text/plain": [
       "<IPython.core.display.HTML object>"
      ]
     },
     "metadata": {},
     "output_type": "display_data"
    },
    {
     "data": {
      "text/html": [
       "<span class=\"tex2jax_ignore\"><div class=\"entities\" style=\"line-height: 2.5; direction: ltr\">The changes in county boundaries between 1924 and today in the sample states is minimal.26 We obtain similar results for congressional elections and using the \n",
       "<mark class=\"entity\" style=\"background: #ddd; padding: 0.45em 0.6em; margin: 0 0.25em; line-height: 1; border-radius: 0.35em;\">\n",
       "    WLS specification\n",
       "    <span style=\"font-size: 0.8em; font-weight: bold; line-height: 1; border-radius: 0.35em; vertical-align: middle; margin-left: 0.5rem\">DATASET</span>\n",
       "</mark>\n",
       ".</div></span>"
      ],
      "text/plain": [
       "<IPython.core.display.HTML object>"
      ]
     },
     "metadata": {},
     "output_type": "display_data"
    },
    {
     "data": {
      "text/html": [
       "<span class=\"tex2jax_ignore\"><div class=\"entities\" style=\"line-height: 2.5; direction: ltr\">We coded the mortality information from the original manuscripts of the Mortality Schedules of the \n",
       "<mark class=\"entity\" style=\"background: #ddd; padding: 0.45em 0.6em; margin: 0 0.25em; line-height: 1; border-radius: 0.35em;\">\n",
       "    1860 U.S. Census\n",
       "    <span style=\"font-size: 0.8em; font-weight: bold; line-height: 1; border-radius: 0.35em; vertical-align: middle; margin-left: 0.5rem\">DATASET</span>\n",
       "</mark>\n",
       ", which asked census takers to record all deaths that occurred in the year 1859.</div></span>"
      ],
      "text/plain": [
       "<IPython.core.display.HTML object>"
      ]
     },
     "metadata": {},
     "output_type": "display_data"
    },
    {
     "data": {
      "text/html": [
       "<span class=\"tex2jax_ignore\"><div class=\"entities\" style=\"line-height: 2.5; direction: ltr\">Data from \n",
       "<mark class=\"entity\" style=\"background: #ddd; padding: 0.45em 0.6em; margin: 0 0.25em; line-height: 1; border-radius: 0.35em;\">\n",
       "    theANES 1984ANES -1998\n",
       "    <span style=\"font-size: 0.8em; font-weight: bold; line-height: 1; border-radius: 0.35em; vertical-align: middle; margin-left: 0.5rem\">DATASET</span>\n",
       "</mark>\n",
       "</div></span>"
      ],
      "text/plain": [
       "<IPython.core.display.HTML object>"
      ]
     },
     "metadata": {},
     "output_type": "display_data"
    }
   ],
   "source": [
    "candidates = df_candidates_legacy['sentence_text'].to_list()\n",
    "\n",
    "for candidate in candidates:\n",
    "    label = set()\n",
    "    doc = custom_ner_model(candidate)\n",
    "    if len(doc.ents) > 0:\n",
    "        label.add(clean_text(doc.ents))\n",
    "        displacy.render(doc, style=\"ent\", jupyter=True)"
   ]
  },
  {
   "cell_type": "code",
   "execution_count": null,
   "metadata": {},
   "outputs": [],
   "source": []
  }
 ],
 "metadata": {
  "kernelspec": {
   "display_name": "Python 3",
   "language": "python",
   "name": "python3"
  },
  "language_info": {
   "codemirror_mode": {
    "name": "ipython",
    "version": 3
   },
   "file_extension": ".py",
   "mimetype": "text/x-python",
   "name": "python",
   "nbconvert_exporter": "python",
   "pygments_lexer": "ipython3",
   "version": "3.9.5"
  }
 },
 "nbformat": 4,
 "nbformat_minor": 4
}
