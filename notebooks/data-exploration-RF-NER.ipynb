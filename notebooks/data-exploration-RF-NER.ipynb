{
 "cells": [
  {
   "cell_type": "markdown",
   "metadata": {},
   "source": [
    "# Data exploration\n",
    "Characterizing manually labeled training data to informs feature selection for the RF classifier and NER model\n",
    "\n",
    "1. **Where are data citations located?**\n",
    "    - Discussion, Data, Sample, Measures, Method...\n",
    "2. **What indicator terms accompany a data citation?**\n",
    "    - \"data\", \"survey\", \"...\n",
    "3. **How are data citation sentences constructed?**\n",
    "   -  entities: ORG, DATE, CARDINAL... \n",
    "    - acronyms: 'LEMAS', 'UCR', 'NCVS', 'NHATS', 'HSIS'...\n"
   ]
  },
  {
   "cell_type": "code",
   "execution_count": 1,
   "metadata": {},
   "outputs": [],
   "source": [
    "import glob\n",
    "import re\n",
    "from collections import defaultdict, Counter\n",
    "\n",
    "import pandas as pd\n",
    "\n",
    "import nltk\n",
    "from nltk.corpus import stopwords\n",
    "from nltk.tokenize import word_tokenize, sent_tokenize\n",
    "from nltk.tag import pos_tag\n",
    "from nltk.chunk import conlltags2tree, tree2conlltags\n",
    "\n",
    "import spacy\n",
    "import en_core_web_sm\n",
    "from spacy.displacy.render import EntityRenderer\n",
    "from IPython.core.display import display, HTML\n",
    "\n",
    "import matplotlib.pyplot as plt\n",
    "%matplotlib inline\n",
    "\n",
    "from sklearn.feature_extraction.text import TfidfVectorizer"
   ]
  },
  {
   "cell_type": "code",
   "execution_count": 2,
   "metadata": {},
   "outputs": [],
   "source": [
    "nlp = en_core_web_sm.load()"
   ]
  },
  {
   "cell_type": "code",
   "execution_count": 3,
   "metadata": {},
   "outputs": [],
   "source": [
    "stop_words = stopwords.words('english')"
   ]
  },
  {
   "cell_type": "code",
   "execution_count": 4,
   "metadata": {},
   "outputs": [],
   "source": [
    "def clean_text(txt):\n",
    "    \"\"\"\n",
    "    Convert to lowercase, remove special characters, and punctuation.\n",
    "    \"\"\"\n",
    "    return re.sub('[^A-Za-z0-9]+', ' ', str(txt).lower())"
   ]
  },
  {
   "cell_type": "markdown",
   "metadata": {},
   "source": [
    "## Where are data citations located?\n",
    "Top paper sections where training sentences that mention datasets are located"
   ]
  },
  {
   "cell_type": "code",
   "execution_count": 5,
   "metadata": {},
   "outputs": [
    {
     "data": {
      "text/plain": [
       "TRUE     214\n",
       "FALSE    188\n",
       "Name: contains_dataset_1, dtype: int64"
      ]
     },
     "execution_count": 5,
     "metadata": {},
     "output_type": "execute_result"
    }
   ],
   "source": [
    "df = pd.read_csv('/Users/slafia/Documents/coleridge-kaggle/data/ner_annotate.csv')\n",
    "df = df[((df['labeler_1']==\"Sara\"))]\n",
    "df.contains_dataset_1.value_counts()"
   ]
  },
  {
   "cell_type": "code",
   "execution_count": 6,
   "metadata": {},
   "outputs": [
    {
     "data": {
      "text/plain": [
       "<AxesSubplot:>"
      ]
     },
     "execution_count": 6,
     "metadata": {},
     "output_type": "execute_result"
    },
    {
     "data": {
      "image/png": "[encoded data removed]",
      "text/plain": [
       "<Figure size 864x720 with 1 Axes>"
      ]
     },
     "metadata": {
      "needs_background": "light"
     },
     "output_type": "display_data"
    }
   ],
   "source": [
    "df['clean_section'] = df['paper_section'].apply(clean_text)\n",
    "df['clean_sentence'] = df['sentence_text'].apply(clean_text)\n",
    "df['clean_text_referencing_dataset_1'] = df['text_referencing_dataset_1'].apply(clean_text)\n",
    "\n",
    "df_explode = df.assign(text_referencing_dataset_1=df['text_referencing_dataset_1'].str.split(';')).explode('text_referencing_dataset_1')\n",
    "df_full = df_explode[df_explode.contains_dataset_1 ==\"TRUE\"]\n",
    "\n",
    "df_full.clean_section.value_counts().nlargest(10).sort_values().plot(kind='barh',figsize=(12,10))"
   ]
  },
  {
   "cell_type": "markdown",
   "metadata": {},
   "source": [
    "## What **indicator terms** accompany data citations?"
   ]
  },
  {
   "cell_type": "markdown",
   "metadata": {},
   "source": [
    "### In paper sections"
   ]
  },
  {
   "cell_type": "code",
   "execution_count": 7,
   "metadata": {},
   "outputs": [
    {
     "data": {
      "text/plain": [
       "[('data', 66),\n",
       " ('discussion', 27),\n",
       " ('measures', 24),\n",
       " ('method', 23),\n",
       " ('study', 21),\n",
       " ('sample', 18),\n",
       " ('variables', 15),\n",
       " ('results', 14),\n",
       " ('control', 10),\n",
       " ('curricular', 10),\n",
       " ('analysis', 9),\n",
       " ('limitations', 9),\n",
       " ('conclusion', 8),\n",
       " ('quality', 8),\n",
       " ('current', 7),\n",
       " ('nan', 6),\n",
       " ('fatal', 6),\n",
       " ('population', 6),\n",
       " ('instrumentation', 6),\n",
       " ('instruments', 5),\n",
       " ('7', 5),\n",
       " ('59', 5),\n",
       " ('participants', 5),\n",
       " ('knowledge', 5),\n",
       " ('police', 5)]"
      ]
     },
     "execution_count": 7,
     "metadata": {},
     "output_type": "execute_result"
    }
   ],
   "source": [
    "tokenized_sections = df_full.apply(lambda row: nltk.word_tokenize(row['clean_section']), axis=1)\n",
    "\n",
    "output = []\n",
    "for section in tokenized_sections:\n",
    "    for w in section:\n",
    "        if w not in stop_words:\n",
    "            output.append(w)\n",
    "\n",
    "Counter(\" \".join(output).split()).most_common(25)"
   ]
  },
  {
   "cell_type": "markdown",
   "metadata": {},
   "source": [
    "Normalize and count section titles"
   ]
  },
  {
   "cell_type": "code",
   "execution_count": 8,
   "metadata": {},
   "outputs": [
    {
     "name": "stderr",
     "output_type": "stream",
     "text": [
      "<ipython-input-8-e5fedeea6757>:65: SettingWithCopyWarning: \n",
      "A value is trying to be set on a copy of a slice from a DataFrame.\n",
      "Try using .loc[row_indexer,col_indexer] = value instead\n",
      "\n",
      "See the caveats in the documentation: https://pandas.pydata.org/pandas-docs/stable/user_guide/indexing.html#returning-a-view-versus-a-copy\n",
      "  df_normal['clean_section'] = df_normal['clean_section'].apply(lambda x: func(x))\n"
     ]
    },
    {
     "data": {
      "text/plain": [
       "<AxesSubplot:>"
      ]
     },
     "execution_count": 8,
     "metadata": {},
     "output_type": "execute_result"
    },
    {
     "data": {
      "image/png": "[encoded data removed]",
      "text/plain": [
       "<Figure size 864x720 with 1 Axes>"
      ]
     },
     "metadata": {
      "needs_background": "light"
     },
     "output_type": "display_data"
    }
   ],
   "source": [
    "pub_sections = [\"title\", \n",
    "                \"abstract\", \n",
    "                \"introduction\", \n",
    "                \"background\",\n",
    "                \"method\",\n",
    "                \"methods\", \n",
    "                \"methodology\",\n",
    "                \"preprocessing\",\n",
    "                \"design\",\n",
    "                \"analysis\",\n",
    "                \"sample\", \n",
    "                \"results\", \n",
    "                \"discussion\", \n",
    "                \"conclusion\", \n",
    "                \"conclusions\",\n",
    "                \"summary\",\n",
    "                \"references\", \n",
    "                \"data\", \n",
    "                \"material\",\n",
    "                \"materials\", \n",
    "                \"supplement\",\n",
    "                \"supplements\",\n",
    "                \"supplementary\",\n",
    "                \"table\",\n",
    "                \"tables\", \n",
    "                \"figure\",\n",
    "                \"figures\",\n",
    "                \"footnote\",\n",
    "                \"footnotes\",\n",
    "                \"acknowledgement\",\n",
    "                \"acknowledgements\",\n",
    "                \"appendix\",\n",
    "                \"appendices\"]\n",
    "\n",
    "df_normal = df_full.query('clean_section in @pub_sections')\n",
    "\n",
    "def func(a):\n",
    "    if \"method\" in a.lower():\n",
    "        return \"methods\"\n",
    "    elif \"methodology\" in a.lower():\n",
    "        return \"methods\"\n",
    "    elif \"conclusion\" in a.lower():\n",
    "        return \"conclusions\"\n",
    "    elif \"materials\" in a.lower():\n",
    "        return \"material\"\n",
    "    elif \"supplements\" in a.lower():\n",
    "        return \"supplement\"\n",
    "    elif \"supplementary\" in a.lower():\n",
    "        return \"supplement\"\n",
    "    elif \"figures\" in a.lower():\n",
    "        return \"figures\"\n",
    "    elif \"footnote\" in a.lower():\n",
    "        return \"footnotes\"\n",
    "    elif \"figures\" in a.lower():\n",
    "        return \"figure\"\n",
    "    elif \"tables\" in a.lower():\n",
    "        return \"table\"\n",
    "    elif \"acknowledgements\" in a.lower():\n",
    "        return \"acknowledgement\"\n",
    "    elif \"appendices\" in a.lower():\n",
    "        return \"appendix\"\n",
    "    else:\n",
    "        return a\n",
    "\n",
    "df_normal['clean_section'] = df_normal['clean_section'].apply(lambda x: func(x))\n",
    "\n",
    "section_counts = df_normal['clean_section'].value_counts().sort_values()\n",
    "section_counts.plot(kind='barh',figsize=(12,10))"
   ]
  },
  {
   "cell_type": "markdown",
   "metadata": {},
   "source": [
    "### In dataset labels"
   ]
  },
  {
   "cell_type": "code",
   "execution_count": 9,
   "metadata": {},
   "outputs": [
    {
     "data": {
      "text/plain": [
       "[('ncvs', 56),\n",
       " ('ucr', 48),\n",
       " ('lemas', 34),\n",
       " ('midus', 26),\n",
       " ('ecls', 25),\n",
       " ('nhats', 24),\n",
       " ('k', 21),\n",
       " ('hsis', 21),\n",
       " ('survey', 20),\n",
       " ('national', 19),\n",
       " ('2013', 19),\n",
       " ('crime', 18),\n",
       " ('hsls', 17),\n",
       " ('naep', 15),\n",
       " ('acs', 15),\n",
       " ('faces', 14),\n",
       " ('09', 14),\n",
       " ('2002', 14),\n",
       " ('study', 12),\n",
       " ('psid', 12),\n",
       " ('supplement', 11),\n",
       " ('wrs', 11),\n",
       " ('census', 10),\n",
       " ('1976', 10),\n",
       " ('cds', 10)]"
      ]
     },
     "execution_count": 9,
     "metadata": {},
     "output_type": "execute_result"
    }
   ],
   "source": [
    "tokenized_labels = df_full.apply(lambda row: nltk.word_tokenize(row['clean_text_referencing_dataset_1']), axis=1)\n",
    "\n",
    "output = []\n",
    "for section in tokenized_labels:\n",
    "    for w in section:\n",
    "        if w not in stop_words:\n",
    "            output.append(w)\n",
    "\n",
    "Counter(\" \".join(output).split()).most_common(25)"
   ]
  },
  {
   "cell_type": "markdown",
   "metadata": {},
   "source": [
    "Get scores for frequent and distinctive terms in dataset labels"
   ]
  },
  {
   "cell_type": "code",
   "execution_count": 10,
   "metadata": {},
   "outputs": [
    {
     "data": {
      "text/html": [
       "<div>\n",
       "<style scoped>\n",
       "    .dataframe tbody tr th:only-of-type {\n",
       "        vertical-align: middle;\n",
       "    }\n",
       "\n",
       "    .dataframe tbody tr th {\n",
       "        vertical-align: top;\n",
       "    }\n",
       "\n",
       "    .dataframe thead th {\n",
       "        text-align: right;\n",
       "    }\n",
       "</style>\n",
       "<table border=\"1\" class=\"dataframe\">\n",
       "  <thead>\n",
       "    <tr style=\"text-align: right;\">\n",
       "      <th></th>\n",
       "      <th>term</th>\n",
       "      <th>score</th>\n",
       "    </tr>\n",
       "  </thead>\n",
       "  <tbody>\n",
       "    <tr>\n",
       "      <th>0</th>\n",
       "      <td>hsis</td>\n",
       "      <td>3.571918</td>\n",
       "    </tr>\n",
       "    <tr>\n",
       "      <th>1</th>\n",
       "      <td>09</td>\n",
       "      <td>0.000000</td>\n",
       "    </tr>\n",
       "    <tr>\n",
       "      <th>2</th>\n",
       "      <td>nhsda</td>\n",
       "      <td>0.000000</td>\n",
       "    </tr>\n",
       "    <tr>\n",
       "      <th>3</th>\n",
       "      <td>nass</td>\n",
       "      <td>0.000000</td>\n",
       "    </tr>\n",
       "    <tr>\n",
       "      <th>4</th>\n",
       "      <td>national</td>\n",
       "      <td>0.000000</td>\n",
       "    </tr>\n",
       "    <tr>\n",
       "      <th>5</th>\n",
       "      <td>ncedl</td>\n",
       "      <td>0.000000</td>\n",
       "    </tr>\n",
       "    <tr>\n",
       "      <th>6</th>\n",
       "      <td>nces</td>\n",
       "      <td>0.000000</td>\n",
       "    </tr>\n",
       "    <tr>\n",
       "      <th>7</th>\n",
       "      <td>ncrp</td>\n",
       "      <td>0.000000</td>\n",
       "    </tr>\n",
       "    <tr>\n",
       "      <th>8</th>\n",
       "      <td>ncvs</td>\n",
       "      <td>0.000000</td>\n",
       "    </tr>\n",
       "    <tr>\n",
       "      <th>9</th>\n",
       "      <td>neuroimaging</td>\n",
       "      <td>0.000000</td>\n",
       "    </tr>\n",
       "    <tr>\n",
       "      <th>10</th>\n",
       "      <td>nfs</td>\n",
       "      <td>0.000000</td>\n",
       "    </tr>\n",
       "    <tr>\n",
       "      <th>11</th>\n",
       "      <td>nhanes</td>\n",
       "      <td>0.000000</td>\n",
       "    </tr>\n",
       "    <tr>\n",
       "      <th>12</th>\n",
       "      <td>nhats</td>\n",
       "      <td>0.000000</td>\n",
       "    </tr>\n",
       "    <tr>\n",
       "      <th>13</th>\n",
       "      <td>nibrs</td>\n",
       "      <td>0.000000</td>\n",
       "    </tr>\n",
       "    <tr>\n",
       "      <th>14</th>\n",
       "      <td>mtf</td>\n",
       "      <td>0.000000</td>\n",
       "    </tr>\n",
       "    <tr>\n",
       "      <th>15</th>\n",
       "      <td>nisvs</td>\n",
       "      <td>0.000000</td>\n",
       "    </tr>\n",
       "    <tr>\n",
       "      <th>16</th>\n",
       "      <td>nsc</td>\n",
       "      <td>0.000000</td>\n",
       "    </tr>\n",
       "    <tr>\n",
       "      <th>17</th>\n",
       "      <td>nsoc</td>\n",
       "      <td>0.000000</td>\n",
       "    </tr>\n",
       "    <tr>\n",
       "      <th>18</th>\n",
       "      <td>nvdrs</td>\n",
       "      <td>0.000000</td>\n",
       "    </tr>\n",
       "    <tr>\n",
       "      <th>19</th>\n",
       "      <td>panel</td>\n",
       "      <td>0.000000</td>\n",
       "    </tr>\n",
       "    <tr>\n",
       "      <th>20</th>\n",
       "      <td>pcer</td>\n",
       "      <td>0.000000</td>\n",
       "    </tr>\n",
       "    <tr>\n",
       "      <th>21</th>\n",
       "      <td>phase</td>\n",
       "      <td>0.000000</td>\n",
       "    </tr>\n",
       "    <tr>\n",
       "      <th>22</th>\n",
       "      <td>police</td>\n",
       "      <td>0.000000</td>\n",
       "    </tr>\n",
       "    <tr>\n",
       "      <th>23</th>\n",
       "      <td>post</td>\n",
       "      <td>0.000000</td>\n",
       "    </tr>\n",
       "    <tr>\n",
       "      <th>24</th>\n",
       "      <td>naep</td>\n",
       "      <td>0.000000</td>\n",
       "    </tr>\n",
       "  </tbody>\n",
       "</table>\n",
       "</div>"
      ],
      "text/plain": [
       "            term     score\n",
       "0           hsis  3.571918\n",
       "1             09  0.000000\n",
       "2          nhsda  0.000000\n",
       "3           nass  0.000000\n",
       "4       national  0.000000\n",
       "5          ncedl  0.000000\n",
       "6           nces  0.000000\n",
       "7           ncrp  0.000000\n",
       "8           ncvs  0.000000\n",
       "9   neuroimaging  0.000000\n",
       "10           nfs  0.000000\n",
       "11        nhanes  0.000000\n",
       "12         nhats  0.000000\n",
       "13         nibrs  0.000000\n",
       "14           mtf  0.000000\n",
       "15         nisvs  0.000000\n",
       "16           nsc  0.000000\n",
       "17          nsoc  0.000000\n",
       "18         nvdrs  0.000000\n",
       "19         panel  0.000000\n",
       "20          pcer  0.000000\n",
       "21         phase  0.000000\n",
       "22        police  0.000000\n",
       "23          post  0.000000\n",
       "24          naep  0.000000"
      ]
     },
     "execution_count": 10,
     "metadata": {},
     "output_type": "execute_result"
    }
   ],
   "source": [
    "v = TfidfVectorizer(max_df=.5, min_df=1, stop_words='english', use_idf=True, norm=None)\n",
    "x = v.fit_transform(df_full['clean_text_referencing_dataset_1']).toarray()\n",
    "\n",
    "for counter, doc in enumerate(x):\n",
    "    tf_idf_tuples = list(zip(v.get_feature_names(), doc))\n",
    "    one_doc_as_df = pd.DataFrame.from_records(tf_idf_tuples, columns=['term', 'score']).sort_values(by='score', ascending=False).reset_index(drop=True)\n",
    "\n",
    "one_doc_as_df.head(25)"
   ]
  },
  {
   "cell_type": "markdown",
   "metadata": {},
   "source": [
    "### In sentences containing data citations"
   ]
  },
  {
   "cell_type": "code",
   "execution_count": 11,
   "metadata": {},
   "outputs": [
    {
     "data": {
      "text/plain": [
       "[('data', 115),\n",
       " ('ncvs', 57),\n",
       " ('study', 51),\n",
       " ('ucr', 49),\n",
       " ('survey', 48),\n",
       " ('sample', 43),\n",
       " ('crime', 39),\n",
       " ('used', 35),\n",
       " ('using', 35),\n",
       " ('lemas', 35),\n",
       " ('national', 34),\n",
       " ('2012', 34),\n",
       " ('spring', 34),\n",
       " ('2013', 33),\n",
       " ('midus', 32),\n",
       " ('et', 29),\n",
       " ('al', 29),\n",
       " ('2011', 26),\n",
       " ('nhats', 26),\n",
       " ('0', 26),\n",
       " ('ecls', 25),\n",
       " ('hsis', 25),\n",
       " ('community', 24),\n",
       " ('k', 23),\n",
       " ('reported', 22)]"
      ]
     },
     "execution_count": 11,
     "metadata": {},
     "output_type": "execute_result"
    }
   ],
   "source": [
    "tokenized_sentences = df_full.apply(lambda row: nltk.word_tokenize(row['clean_sentence']), axis=1)\n",
    "\n",
    "output = []\n",
    "for section in tokenized_sentences:\n",
    "    for w in section:\n",
    "        if w not in stop_words:\n",
    "            output.append(w)\n",
    "\n",
    "Counter(\" \".join(output).split()).most_common(25)"
   ]
  },
  {
   "cell_type": "markdown",
   "metadata": {},
   "source": [
    "Get scores for frequent and distinctive terms in sentences that reference datasets"
   ]
  },
  {
   "cell_type": "code",
   "execution_count": 12,
   "metadata": {},
   "outputs": [
    {
     "data": {
      "text/html": [
       "<div>\n",
       "<style scoped>\n",
       "    .dataframe tbody tr th:only-of-type {\n",
       "        vertical-align: middle;\n",
       "    }\n",
       "\n",
       "    .dataframe tbody tr th {\n",
       "        vertical-align: top;\n",
       "    }\n",
       "\n",
       "    .dataframe thead th {\n",
       "        text-align: right;\n",
       "    }\n",
       "</style>\n",
       "<table border=\"1\" class=\"dataframe\">\n",
       "  <thead>\n",
       "    <tr style=\"text-align: right;\">\n",
       "      <th></th>\n",
       "      <th>term</th>\n",
       "      <th>score</th>\n",
       "    </tr>\n",
       "  </thead>\n",
       "  <tbody>\n",
       "    <tr>\n",
       "      <th>0</th>\n",
       "      <td>curricula</td>\n",
       "      <td>10.553332</td>\n",
       "    </tr>\n",
       "    <tr>\n",
       "      <th>1</th>\n",
       "      <td>ease</td>\n",
       "      <td>5.969813</td>\n",
       "    </tr>\n",
       "    <tr>\n",
       "      <th>2</th>\n",
       "      <td>implement</td>\n",
       "      <td>5.969813</td>\n",
       "    </tr>\n",
       "    <tr>\n",
       "      <th>3</th>\n",
       "      <td>adequacy</td>\n",
       "      <td>5.969813</td>\n",
       "    </tr>\n",
       "    <tr>\n",
       "      <th>4</th>\n",
       "      <td>90</td>\n",
       "      <td>5.969813</td>\n",
       "    </tr>\n",
       "    <tr>\n",
       "      <th>5</th>\n",
       "      <td>liking</td>\n",
       "      <td>5.969813</td>\n",
       "    </tr>\n",
       "    <tr>\n",
       "      <th>6</th>\n",
       "      <td>room</td>\n",
       "      <td>5.969813</td>\n",
       "    </tr>\n",
       "    <tr>\n",
       "      <th>7</th>\n",
       "      <td>materials</td>\n",
       "      <td>5.969813</td>\n",
       "    </tr>\n",
       "    <tr>\n",
       "      <th>8</th>\n",
       "      <td>leaving</td>\n",
       "      <td>5.969813</td>\n",
       "    </tr>\n",
       "    <tr>\n",
       "      <th>9</th>\n",
       "      <td>creativity</td>\n",
       "      <td>5.969813</td>\n",
       "    </tr>\n",
       "    <tr>\n",
       "      <th>10</th>\n",
       "      <td>packages</td>\n",
       "      <td>5.969813</td>\n",
       "    </tr>\n",
       "    <tr>\n",
       "      <th>11</th>\n",
       "      <td>significant</td>\n",
       "      <td>5.969813</td>\n",
       "    </tr>\n",
       "    <tr>\n",
       "      <th>12</th>\n",
       "      <td>teacher</td>\n",
       "      <td>5.276666</td>\n",
       "    </tr>\n",
       "    <tr>\n",
       "      <th>13</th>\n",
       "      <td>agreement</td>\n",
       "      <td>5.276666</td>\n",
       "    </tr>\n",
       "    <tr>\n",
       "      <th>14</th>\n",
       "      <td>high</td>\n",
       "      <td>5.276666</td>\n",
       "    </tr>\n",
       "    <tr>\n",
       "      <th>15</th>\n",
       "      <td>curricular</td>\n",
       "      <td>5.276666</td>\n",
       "    </tr>\n",
       "    <tr>\n",
       "      <th>16</th>\n",
       "      <td>curriculum</td>\n",
       "      <td>5.053523</td>\n",
       "    </tr>\n",
       "    <tr>\n",
       "      <th>17</th>\n",
       "      <td>teachers</td>\n",
       "      <td>4.583519</td>\n",
       "    </tr>\n",
       "    <tr>\n",
       "      <th>18</th>\n",
       "      <td>items</td>\n",
       "      <td>4.465736</td>\n",
       "    </tr>\n",
       "    <tr>\n",
       "      <th>19</th>\n",
       "      <td>differences</td>\n",
       "      <td>4.465736</td>\n",
       "    </tr>\n",
       "    <tr>\n",
       "      <th>20</th>\n",
       "      <td>reported</td>\n",
       "      <td>3.618438</td>\n",
       "    </tr>\n",
       "    <tr>\n",
       "      <th>21</th>\n",
       "      <td>use</td>\n",
       "      <td>3.571918</td>\n",
       "    </tr>\n",
       "    <tr>\n",
       "      <th>22</th>\n",
       "      <td>hsis</td>\n",
       "      <td>3.527466</td>\n",
       "    </tr>\n",
       "    <tr>\n",
       "      <th>23</th>\n",
       "      <td>pain</td>\n",
       "      <td>0.000000</td>\n",
       "    </tr>\n",
       "    <tr>\n",
       "      <th>24</th>\n",
       "      <td>partners</td>\n",
       "      <td>0.000000</td>\n",
       "    </tr>\n",
       "  </tbody>\n",
       "</table>\n",
       "</div>"
      ],
      "text/plain": [
       "           term      score\n",
       "0     curricula  10.553332\n",
       "1          ease   5.969813\n",
       "2     implement   5.969813\n",
       "3      adequacy   5.969813\n",
       "4            90   5.969813\n",
       "5        liking   5.969813\n",
       "6          room   5.969813\n",
       "7     materials   5.969813\n",
       "8       leaving   5.969813\n",
       "9    creativity   5.969813\n",
       "10     packages   5.969813\n",
       "11  significant   5.969813\n",
       "12      teacher   5.276666\n",
       "13    agreement   5.276666\n",
       "14         high   5.276666\n",
       "15   curricular   5.276666\n",
       "16   curriculum   5.053523\n",
       "17     teachers   4.583519\n",
       "18        items   4.465736\n",
       "19  differences   4.465736\n",
       "20     reported   3.618438\n",
       "21          use   3.571918\n",
       "22         hsis   3.527466\n",
       "23         pain   0.000000\n",
       "24     partners   0.000000"
      ]
     },
     "execution_count": 12,
     "metadata": {},
     "output_type": "execute_result"
    }
   ],
   "source": [
    "v = TfidfVectorizer(max_df=.5, min_df=1, stop_words='english', use_idf=True, norm=None)\n",
    "x = v.fit_transform(df_full['clean_sentence']).toarray()\n",
    "\n",
    "for counter, doc in enumerate(x):\n",
    "    tf_idf_tuples = list(zip(v.get_feature_names(), doc))\n",
    "    one_doc_as_df = pd.DataFrame.from_records(tf_idf_tuples, columns=['term', 'score']).sort_values(by='score', ascending=False).reset_index(drop=True)\n",
    "\n",
    "one_doc_as_df.head(25)"
   ]
  },
  {
   "cell_type": "markdown",
   "metadata": {},
   "source": [
    "Let's see if the sentences with data references include terms and phrases indicating data sharing and reuse as predicted by Park et al. (2018). We modify the list as follows and also account for case sensitivity, punctuation:\n",
    "\n",
    "- \"accession\" to \"access\"\n",
    "- \"available at/from\" as \"available\"\n",
    "- \"deposited\" as \"deposit\"\n",
    "- \"donated\" as \"donate\"\n",
    "- added \"nsf\", \"national science foundation\", \"grant\", \"doi\""
   ]
  },
  {
   "cell_type": "code",
   "execution_count": 13,
   "metadata": {},
   "outputs": [
    {
     "name": "stderr",
     "output_type": "stream",
     "text": [
      "<ipython-input-13-1a3d30a93bfd>:46: SettingWithCopyWarning: \n",
      "A value is trying to be set on a copy of a slice from a DataFrame.\n",
      "Try using .loc[row_indexer,col_indexer] = value instead\n",
      "\n",
      "See the caveats in the documentation: https://pandas.pydata.org/pandas-docs/stable/user_guide/indexing.html#returning-a-view-versus-a-copy\n",
      "  df_full['indicator'] = df_full['sentence_text'].apply(lambda x: search_pat(search_str=x, search_list=ind_pattern))\n"
     ]
    }
   ],
   "source": [
    "indicator_terms = [\"access\", \n",
    "                   \"available\", \n",
    "                   \".com\", \n",
    "                   \"commercial\", \n",
    "                   \"Corp.\", \n",
    "                   \"dataset\", \n",
    "                   \"Dataset\",\n",
    "                   \"database\", \n",
    "                   \"Database\",\n",
    "                   \"deposit\",\n",
    "                   \"doi\",\n",
    "                   \"DOI\",\n",
    "                   \"donated\",\n",
    "                   \".edu\",\n",
    "                   \"ftp://\", \n",
    "                   \"gift\", \n",
    "                   \".gov\", \n",
    "                   \"Inc.\", \n",
    "                   \"National Institutes of Health\", \n",
    "                   \"NIH\",\n",
    "                   \"National Science Foundation\",\n",
    "                   \"NSF\",\n",
    "                   \"grant\",\n",
    "                   \"obtained from\", \n",
    "                   \"publicly available\", \n",
    "                   \"purchased from\", \n",
    "                   \"repository\",\n",
    "                   \"sample sets\",\n",
    "                   \"stored\",\n",
    "                   \"suppl\", \n",
    "                   \"Suppl\",\n",
    "                   \"Supplemental\",\n",
    "                   \"supplemental\",\n",
    "                   \"survey\"]\n",
    "\n",
    "ind_pattern = '|'.join(indicator_terms)\n",
    "\n",
    "def search_pat(search_str:str, search_list:str):\n",
    "    search_obj = re.search(search_list, search_str)\n",
    "    if search_obj:\n",
    "        return_str = search_str[search_obj.start(): search_obj.end()]\n",
    "    else:\n",
    "        return_str = 'NA'\n",
    "    return return_str\n",
    "\n",
    "df_full['indicator'] = df_full['sentence_text'].apply(lambda x: search_pat(search_str=x, search_list=ind_pattern))\n",
    "df_full = df_full[df_full.indicator != 'NA']"
   ]
  },
  {
   "cell_type": "code",
   "execution_count": 14,
   "metadata": {},
   "outputs": [
    {
     "data": {
      "text/plain": [
       "<AxesSubplot:>"
      ]
     },
     "execution_count": 14,
     "metadata": {},
     "output_type": "execute_result"
    },
    {
     "data": {
      "image/png": "[encoded data removed]",
      "text/plain": [
       "<Figure size 864x720 with 1 Axes>"
      ]
     },
     "metadata": {
      "needs_background": "light"
     },
     "output_type": "display_data"
    }
   ],
   "source": [
    "indicator_counts = df_full['indicator'].value_counts().sort_values()\n",
    "indicator_counts.plot(kind='barh',figsize=(12,10))\n"
   ]
  },
  {
   "cell_type": "markdown",
   "metadata": {},
   "source": [
    "## How are data citation sentences constructed?"
   ]
  },
  {
   "cell_type": "markdown",
   "metadata": {},
   "source": [
    "Full dataframe of citances is too large, so create a random sample for demonstration"
   ]
  },
  {
   "cell_type": "code",
   "execution_count": 15,
   "metadata": {},
   "outputs": [
    {
     "data": {
      "text/plain": [
       "'3 This study is based on data from the 2007 ARMS Phase III survey, which used a probability-based, stratifi ed, multiframe sample to provide detailed information on farm businesses and their operators from 18,907 usable questionnaires (Banker 2007) .'"
      ]
     },
     "execution_count": 15,
     "metadata": {},
     "output_type": "execute_result"
    }
   ],
   "source": [
    "# sent_sample = df_full.sample(10)\n",
    "citances = [x for x in df_full.sentence_text]\n",
    "citances[0]"
   ]
  },
  {
   "cell_type": "code",
   "execution_count": 16,
   "metadata": {},
   "outputs": [
    {
     "data": {
      "text/html": [
       "<span class=\"tex2jax_ignore\"><div class=\"entities\" style=\"line-height: 2.5; direction: ltr\">\n",
       "<mark class=\"entity\" style=\"background: #e4e7d2; padding: 0.45em 0.6em; margin: 0 0.25em; line-height: 1; border-radius: 0.35em;\">\n",
       "    3\n",
       "    <span style=\"font-size: 0.8em; font-weight: bold; line-height: 1; border-radius: 0.35em; text-transform: uppercase; vertical-align: middle; margin-left: 0.5rem\">CARDINAL</span>\n",
       "</mark>\n",
       " This study is based on data from the \n",
       "<mark class=\"entity\" style=\"background: #bfe1d9; padding: 0.45em 0.6em; margin: 0 0.25em; line-height: 1; border-radius: 0.35em;\">\n",
       "    2007\n",
       "    <span style=\"font-size: 0.8em; font-weight: bold; line-height: 1; border-radius: 0.35em; text-transform: uppercase; vertical-align: middle; margin-left: 0.5rem\">DATE</span>\n",
       "</mark>\n",
       " \n",
       "<mark class=\"entity\" style=\"background: #ffeb80; padding: 0.45em 0.6em; margin: 0 0.25em; line-height: 1; border-radius: 0.35em;\">\n",
       "    ARMS Phase III\n",
       "    <span style=\"font-size: 0.8em; font-weight: bold; line-height: 1; border-radius: 0.35em; text-transform: uppercase; vertical-align: middle; margin-left: 0.5rem\">EVENT</span>\n",
       "</mark>\n",
       " survey, which used a probability-based, stratifi ed, multiframe sample to provide detailed information on farm businesses and their operators from \n",
       "<mark class=\"entity\" style=\"background: #e4e7d2; padding: 0.45em 0.6em; margin: 0 0.25em; line-height: 1; border-radius: 0.35em;\">\n",
       "    18,907\n",
       "    <span style=\"font-size: 0.8em; font-weight: bold; line-height: 1; border-radius: 0.35em; text-transform: uppercase; vertical-align: middle; margin-left: 0.5rem\">CARDINAL</span>\n",
       "</mark>\n",
       " usable questionnaires (Banker \n",
       "<mark class=\"entity\" style=\"background: #e4e7d2; padding: 0.45em 0.6em; margin: 0 0.25em; line-height: 1; border-radius: 0.35em;\">\n",
       "    2007\n",
       "    <span style=\"font-size: 0.8em; font-weight: bold; line-height: 1; border-radius: 0.35em; text-transform: uppercase; vertical-align: middle; margin-left: 0.5rem\">CARDINAL</span>\n",
       "</mark>\n",
       ") .</div></span>"
      ],
      "text/plain": [
       "<IPython.core.display.HTML object>"
      ]
     },
     "metadata": {},
     "output_type": "display_data"
    }
   ],
   "source": [
    "spacy.displacy.render(nlp(str(citances[0])), jupyter=True, style='ent')"
   ]
  },
  {
   "cell_type": "code",
   "execution_count": 17,
   "metadata": {},
   "outputs": [
    {
     "name": "stdout",
     "output_type": "stream",
     "text": [
      "[('3', 'CARDINAL'), ('2007', 'DATE'), ('ARMS Phase III', 'EVENT'), ('18,907', 'CARDINAL'), ('2007', 'CARDINAL')]\n"
     ]
    }
   ],
   "source": [
    "doc = nlp(citances[0])\n",
    "print([(X.text, X.label_) for X in doc.ents])"
   ]
  },
  {
   "cell_type": "markdown",
   "metadata": {},
   "source": [
    "Parsing: \"B\" means the token begins an entity, \"I\" means it is inside an entity, \"O\" means it is outside an entity, and \"\" means no entity tag is set"
   ]
  },
  {
   "cell_type": "code",
   "execution_count": 18,
   "metadata": {},
   "outputs": [
    {
     "name": "stdout",
     "output_type": "stream",
     "text": [
      "[(3, 'B', 'CARDINAL'), (This, 'O', ''), (study, 'O', ''), (is, 'O', ''), (based, 'O', ''), (on, 'O', ''), (data, 'O', ''), (from, 'O', ''), (the, 'O', ''), (2007, 'B', 'DATE'), (ARMS, 'B', 'EVENT'), (Phase, 'I', 'EVENT'), (III, 'I', 'EVENT'), (survey, 'O', ''), (,, 'O', ''), (which, 'O', ''), (used, 'O', ''), (a, 'O', ''), (probability, 'O', ''), (-, 'O', ''), (based, 'O', ''), (,, 'O', ''), (stratifi, 'O', ''), (ed, 'O', ''), (,, 'O', ''), (multiframe, 'O', ''), (sample, 'O', ''), (to, 'O', ''), (provide, 'O', ''), (detailed, 'O', ''), (information, 'O', ''), (on, 'O', ''), (farm, 'O', ''), (businesses, 'O', ''), (and, 'O', ''), (their, 'O', ''), (operators, 'O', ''), (from, 'O', ''), (18,907, 'B', 'CARDINAL'), (usable, 'O', ''), (questionnaires, 'O', ''), ((, 'O', ''), (Banker, 'O', ''), (2007, 'B', 'CARDINAL'), (), 'O', ''), (., 'O', '')]\n"
     ]
    }
   ],
   "source": [
    "print([(X, X.ent_iob_, X.ent_type_) for X in doc])"
   ]
  },
  {
   "cell_type": "code",
   "execution_count": 19,
   "metadata": {},
   "outputs": [
    {
     "data": {
      "text/plain": [
       "Counter({'CARDINAL': 3, 'DATE': 1, 'EVENT': 1})"
      ]
     },
     "execution_count": 19,
     "metadata": {},
     "output_type": "execute_result"
    }
   ],
   "source": [
    "labels = [x.label_ for x in doc.ents]\n",
    "len(labels)\n",
    "Counter(labels)"
   ]
  },
  {
   "cell_type": "code",
   "execution_count": 20,
   "metadata": {},
   "outputs": [
    {
     "data": {
      "text/plain": [
       "[('2007', 2), ('3', 1), ('ARMS Phase III', 1)]"
      ]
     },
     "execution_count": 20,
     "metadata": {},
     "output_type": "execute_result"
    }
   ],
   "source": [
    "items = [x.text for x in doc.ents]\n",
    "Counter(items).most_common(3)"
   ]
  },
  {
   "cell_type": "code",
   "execution_count": 21,
   "metadata": {},
   "outputs": [
    {
     "data": {
      "text/plain": [
       "{'3': 'CARDINAL',\n",
       " '2007': 'CARDINAL',\n",
       " 'ARMS Phase III': 'EVENT',\n",
       " '18,907': 'CARDINAL'}"
      ]
     },
     "execution_count": 21,
     "metadata": {},
     "output_type": "execute_result"
    }
   ],
   "source": [
    "dict([(str(x), x.label_) for x in nlp(str(doc)).ents])"
   ]
  },
  {
   "cell_type": "markdown",
   "metadata": {},
   "source": [
    "Define functions for extracting named entities in dataframe"
   ]
  },
  {
   "cell_type": "code",
   "execution_count": 27,
   "metadata": {},
   "outputs": [
    {
     "data": {
      "text/plain": [
       "[('ORG', 234),\n",
       " ('DATE', 177),\n",
       " ('CARDINAL', 84),\n",
       " ('PERSON', 21),\n",
       " ('PERCENT', 21),\n",
       " ('GPE', 14),\n",
       " ('WORK_OF_ART', 13),\n",
       " ('LAW', 11),\n",
       " ('NORP', 6),\n",
       " ('ORDINAL', 6),\n",
       " ('EVENT', 3),\n",
       " ('LANGUAGE', 3),\n",
       " ('PRODUCT', 2)]"
      ]
     },
     "execution_count": 27,
     "metadata": {},
     "output_type": "execute_result"
    }
   ],
   "source": [
    "def extract_named_ents(text):\n",
    "    \"\"\"Extract named entities, and beginning, middle and end idx using spaCy's out-of-the-box model. \n",
    "    \n",
    "    Keyword arguments:\n",
    "    text -- the actual text source from which to extract entities\n",
    "    \n",
    "    \"\"\"\n",
    "#     return [(ent.text, ent.start_char, ent.end_char, ent.label_) for ent in nlp(text).ents]\n",
    "    return [(ent.text, ent.label_) for ent in nlp(text).ents]\n",
    "\n",
    "def add_named_ents(df):\n",
    "    \"\"\"Create new column in data frame with named entity tuple extracted.\n",
    "    \n",
    "    Keyword arguments:\n",
    "    df -- a dataframe object\n",
    "    \n",
    "    \"\"\"\n",
    "#     sent_sample['named_ents'] = sent_sample['sentence_text'].apply(extract_named_ents)  \n",
    "    df_full['named_ents'] = df_full['sentence_text'].apply(extract_named_ents) \n",
    "    \n",
    "add_named_ents(df_full)\n",
    "\n",
    "tokens = nlp(''.join(str(df_full.sentence_text.tolist())))\n",
    "items = [x.label_ for x in tokens.ents]\n",
    "Counter(items).most_common(20)"
   ]
  },
  {
   "cell_type": "markdown",
   "metadata": {},
   "source": [
    "Most common tokens appearing across randomly sampled citances"
   ]
  },
  {
   "cell_type": "code",
   "execution_count": 30,
   "metadata": {},
   "outputs": [
    {
     "data": {
      "text/plain": [
       "[('LEMAS', 30),\n",
       " ('UCR', 30),\n",
       " ('NCVS', 27),\n",
       " ('NHATS', 15),\n",
       " ('HSIS', 13),\n",
       " ('ACS', 12),\n",
       " ('ECLS', 11),\n",
       " ('PSID', 10),\n",
       " ('N', 9),\n",
       " ('o', 9),\n",
       " ('n', 9),\n",
       " ('e', 9),\n",
       " ('CDS', 8),\n",
       " ('BWCS', 8),\n",
       " ('WRS', 7),\n",
       " ('MIDUS', 7),\n",
       " ('NSC', 6),\n",
       " ('LEAIC', 6),\n",
       " ('IPV', 5),\n",
       " ('NCRP', 5),\n",
       " ('SCS', 5),\n",
       " ('BJS', 4),\n",
       " ('U.S', 4),\n",
       " ('FACES', 4),\n",
       " ('LML', 4)]"
      ]
     },
     "execution_count": 30,
     "metadata": {},
     "output_type": "execute_result"
    }
   ],
   "source": [
    "def find_acronyms(txt):\n",
    "    \"\"\"\n",
    "    finds and returns a sequence of capital letters\n",
    "    for use on dataset_titles, dataset_labels, or full text\n",
    "    \"\"\"\n",
    "    matches = re.findall(r\"\\b[A-Z\\.]{2,}s?\\b\", txt)\n",
    "    if matches:\n",
    "        return matches\n",
    "    else:\n",
    "        return 'None'\n",
    "\n",
    "def count_acronyms(txt):\n",
    "    \"\"\"\n",
    "    finds and returns a sequence of capital letters\n",
    "    for use on dataset_titles, dataset_labels, or full text\n",
    "    \"\"\"\n",
    "    matches = re.findall(r\"\\b[A-Z\\.]{2,}s?\\b\", txt)\n",
    "    if matches:\n",
    "        return len(matches)\n",
    "    else:\n",
    "        return 0\n",
    "\n",
    "df_full['find_acronyms'] = df_full['sentence_text'].apply(find_acronyms)\n",
    "df_full['count_acronyms'] = df_full['sentence_text'].apply(count_acronyms)\n",
    "\n",
    "acronyms = df_full.find_acronyms.to_list()\n",
    "acronyms.remove('None')\n",
    "flat_acronyms = [item for sublist in acronyms for item in sublist]\n",
    "Counter(flat_acronyms).most_common(25)"
   ]
  },
  {
   "cell_type": "code",
   "execution_count": null,
   "metadata": {},
   "outputs": [],
   "source": []
  }
 ],
 "metadata": {
  "kernelspec": {
   "display_name": "Python 3",
   "language": "python",
   "name": "python3"
  },
  "language_info": {
   "codemirror_mode": {
    "name": "ipython",
    "version": 3
   },
   "file_extension": ".py",
   "mimetype": "text/x-python",
   "name": "python",
   "nbconvert_exporter": "python",
   "pygments_lexer": "ipython3",
   "version": "3.9.5"
  }
 },
 "nbformat": 4,
 "nbformat_minor": 4
}
