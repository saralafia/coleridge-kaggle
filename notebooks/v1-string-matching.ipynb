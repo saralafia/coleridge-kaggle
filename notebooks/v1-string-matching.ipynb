{
 "cells": [
  {
   "cell_type": "markdown",
   "metadata": {},
   "source": [
    "# String matching V1\n",
    "A first attempt solution for matching and formatting strings from publication text with dataset labels ([Score](https://www.kaggle.com/c/coleridgeinitiative-show-us-the-data/leaderboard): 0.47)\n",
    "\n",
    "Workflow:\n",
    "- check sentences for matching dataset labels and titles only"
   ]
  },
  {
   "cell_type": "code",
   "execution_count": 4,
   "metadata": {},
   "outputs": [],
   "source": [
    "import glob\n",
    "import re\n",
    "import pandas as pd"
   ]
  },
  {
   "cell_type": "code",
   "execution_count": 5,
   "metadata": {},
   "outputs": [],
   "source": [
    "def clean_text(txt):\n",
    "    return re.sub('[^A-Za-z0-9]+', ' ', str(txt).lower())"
   ]
  },
  {
   "cell_type": "markdown",
   "metadata": {},
   "source": [
    "## Data"
   ]
  },
  {
   "cell_type": "markdown",
   "metadata": {},
   "source": [
    "Dataframe of training `pub_title`, `dataset_title`, `dataset_label`"
   ]
  },
  {
   "cell_type": "code",
   "execution_count": 6,
   "metadata": {},
   "outputs": [
    {
     "data": {
      "text/html": [
       "<div>\n",
       "<style scoped>\n",
       "    .dataframe tbody tr th:only-of-type {\n",
       "        vertical-align: middle;\n",
       "    }\n",
       "\n",
       "    .dataframe tbody tr th {\n",
       "        vertical-align: top;\n",
       "    }\n",
       "\n",
       "    .dataframe thead th {\n",
       "        text-align: right;\n",
       "    }\n",
       "</style>\n",
       "<table border=\"1\" class=\"dataframe\">\n",
       "  <thead>\n",
       "    <tr style=\"text-align: right;\">\n",
       "      <th></th>\n",
       "      <th>Id</th>\n",
       "      <th>pub_title</th>\n",
       "      <th>dataset_title</th>\n",
       "      <th>dataset_label</th>\n",
       "      <th>cleaned_label</th>\n",
       "    </tr>\n",
       "  </thead>\n",
       "  <tbody>\n",
       "    <tr>\n",
       "      <th>14073</th>\n",
       "      <td>69063cf9-0429-460b-8ded-c50a1c6dc971</td>\n",
       "      <td>Adult Competencies and Employment Outcomes amo...</td>\n",
       "      <td>Program for the International Assessment of Ad...</td>\n",
       "      <td>Program for the International Assessment of Ad...</td>\n",
       "      <td>program for the international assessment of ad...</td>\n",
       "    </tr>\n",
       "    <tr>\n",
       "      <th>4404</th>\n",
       "      <td>7e875ded-00ec-4570-8c5d-c39478bdf85d</td>\n",
       "      <td>Modeling and prediction of clinical symptom tr...</td>\n",
       "      <td>Alzheimer's Disease Neuroimaging Initiative (A...</td>\n",
       "      <td>ADNI</td>\n",
       "      <td>adni</td>\n",
       "    </tr>\n",
       "    <tr>\n",
       "      <th>19441</th>\n",
       "      <td>df14b3b5-ab24-46c4-8e05-9aa4e6d182a5</td>\n",
       "      <td>Exploring Diversity of COVID‑19 Based on Subst...</td>\n",
       "      <td>SARS-CoV-2 genome sequence</td>\n",
       "      <td>genome sequence of SARS-CoV-2</td>\n",
       "      <td>genome sequence of sars cov 2</td>\n",
       "    </tr>\n",
       "    <tr>\n",
       "      <th>9332</th>\n",
       "      <td>baa59b52-3793-4775-a539-190a0e059182</td>\n",
       "      <td>Chronic divalproex sodium use and brain atroph...</td>\n",
       "      <td>Alzheimer's Disease Neuroimaging Initiative (A...</td>\n",
       "      <td>Alzheimer's Disease Neuroimaging Initiative (A...</td>\n",
       "      <td>alzheimer s disease neuroimaging initiative adni</td>\n",
       "    </tr>\n",
       "    <tr>\n",
       "      <th>14325</th>\n",
       "      <td>6fa237ed-3dcf-4a21-b01b-be2f05ef5526</td>\n",
       "      <td>NATIONAL HURRICANE CENTER ANNUAL SUMMARY</td>\n",
       "      <td>NOAA Tide Gauge</td>\n",
       "      <td>NOAA Tide Gauge</td>\n",
       "      <td>noaa tide gauge</td>\n",
       "    </tr>\n",
       "  </tbody>\n",
       "</table>\n",
       "</div>"
      ],
      "text/plain": [
       "                                         Id  \\\n",
       "14073  69063cf9-0429-460b-8ded-c50a1c6dc971   \n",
       "4404   7e875ded-00ec-4570-8c5d-c39478bdf85d   \n",
       "19441  df14b3b5-ab24-46c4-8e05-9aa4e6d182a5   \n",
       "9332   baa59b52-3793-4775-a539-190a0e059182   \n",
       "14325  6fa237ed-3dcf-4a21-b01b-be2f05ef5526   \n",
       "\n",
       "                                               pub_title  \\\n",
       "14073  Adult Competencies and Employment Outcomes amo...   \n",
       "4404   Modeling and prediction of clinical symptom tr...   \n",
       "19441  Exploring Diversity of COVID‑19 Based on Subst...   \n",
       "9332   Chronic divalproex sodium use and brain atroph...   \n",
       "14325           NATIONAL HURRICANE CENTER ANNUAL SUMMARY   \n",
       "\n",
       "                                           dataset_title  \\\n",
       "14073  Program for the International Assessment of Ad...   \n",
       "4404   Alzheimer's Disease Neuroimaging Initiative (A...   \n",
       "19441                         SARS-CoV-2 genome sequence   \n",
       "9332   Alzheimer's Disease Neuroimaging Initiative (A...   \n",
       "14325                                    NOAA Tide Gauge   \n",
       "\n",
       "                                           dataset_label  \\\n",
       "14073  Program for the International Assessment of Ad...   \n",
       "4404                                                ADNI   \n",
       "19441                      genome sequence of SARS-CoV-2   \n",
       "9332   Alzheimer's Disease Neuroimaging Initiative (A...   \n",
       "14325                                    NOAA Tide Gauge   \n",
       "\n",
       "                                           cleaned_label  \n",
       "14073  program for the international assessment of ad...  \n",
       "4404                                                adni  \n",
       "19441                      genome sequence of sars cov 2  \n",
       "9332   alzheimer s disease neuroimaging initiative adni   \n",
       "14325                                    noaa tide gauge  "
      ]
     },
     "execution_count": 6,
     "metadata": {},
     "output_type": "execute_result"
    }
   ],
   "source": [
    "df_train = pd.read_csv('../data/train.csv')\n",
    "df_train.sample(n=5)"
   ]
  },
  {
   "cell_type": "markdown",
   "metadata": {},
   "source": [
    "Dataframe of training json publications"
   ]
  },
  {
   "cell_type": "code",
   "execution_count": 7,
   "metadata": {},
   "outputs": [
    {
     "data": {
      "text/html": [
       "<div>\n",
       "<style scoped>\n",
       "    .dataframe tbody tr th:only-of-type {\n",
       "        vertical-align: middle;\n",
       "    }\n",
       "\n",
       "    .dataframe tbody tr th {\n",
       "        vertical-align: top;\n",
       "    }\n",
       "\n",
       "    .dataframe thead th {\n",
       "        text-align: right;\n",
       "    }\n",
       "</style>\n",
       "<table border=\"1\" class=\"dataframe\">\n",
       "  <thead>\n",
       "    <tr style=\"text-align: right;\">\n",
       "      <th></th>\n",
       "      <th>Id</th>\n",
       "      <th>section_title</th>\n",
       "      <th>text</th>\n",
       "      <th>clean_text</th>\n",
       "    </tr>\n",
       "  </thead>\n",
       "  <tbody>\n",
       "    <tr>\n",
       "      <th>0</th>\n",
       "      <td>07cbcedc-9f95-42e3-8340-468a866916b9</td>\n",
       "      <td>Abstract</td>\n",
       "      <td>In this study, we highlight the importance of ...</td>\n",
       "      <td>in this study we highlight the importance of s...</td>\n",
       "    </tr>\n",
       "    <tr>\n",
       "      <th>1</th>\n",
       "      <td>07cbcedc-9f95-42e3-8340-468a866916b9</td>\n",
       "      <td></td>\n",
       "      <td>consequences of these early work experiences a...</td>\n",
       "      <td>consequences of these early work experiences a...</td>\n",
       "    </tr>\n",
       "    <tr>\n",
       "      <th>2</th>\n",
       "      <td>07cbcedc-9f95-42e3-8340-468a866916b9</td>\n",
       "      <td>Socioeconomic Disadvantage and Early Work Expe...</td>\n",
       "      <td>Some scholars have suggested that long work ho...</td>\n",
       "      <td>some scholars have suggested that long work ho...</td>\n",
       "    </tr>\n",
       "    <tr>\n",
       "      <th>3</th>\n",
       "      <td>07cbcedc-9f95-42e3-8340-468a866916b9</td>\n",
       "      <td>The Youth Development Study</td>\n",
       "      <td>To address these issues, we draw on data from ...</td>\n",
       "      <td>to address these issues we draw on data from t...</td>\n",
       "    </tr>\n",
       "    <tr>\n",
       "      <th>4</th>\n",
       "      <td>07cbcedc-9f95-42e3-8340-468a866916b9</td>\n",
       "      <td>Teenage Work and the Process of Socioeconomic ...</td>\n",
       "      <td>Precursors of Teenage Work. We first distingui...</td>\n",
       "      <td>precursors of teenage work we first distinguis...</td>\n",
       "    </tr>\n",
       "  </tbody>\n",
       "</table>\n",
       "</div>"
      ],
      "text/plain": [
       "                                     Id  \\\n",
       "0  07cbcedc-9f95-42e3-8340-468a866916b9   \n",
       "1  07cbcedc-9f95-42e3-8340-468a866916b9   \n",
       "2  07cbcedc-9f95-42e3-8340-468a866916b9   \n",
       "3  07cbcedc-9f95-42e3-8340-468a866916b9   \n",
       "4  07cbcedc-9f95-42e3-8340-468a866916b9   \n",
       "\n",
       "                                       section_title  \\\n",
       "0                                           Abstract   \n",
       "1                                                      \n",
       "2  Socioeconomic Disadvantage and Early Work Expe...   \n",
       "3                        The Youth Development Study   \n",
       "4  Teenage Work and the Process of Socioeconomic ...   \n",
       "\n",
       "                                                text  \\\n",
       "0  In this study, we highlight the importance of ...   \n",
       "1  consequences of these early work experiences a...   \n",
       "2  Some scholars have suggested that long work ho...   \n",
       "3  To address these issues, we draw on data from ...   \n",
       "4  Precursors of Teenage Work. We first distingui...   \n",
       "\n",
       "                                          clean_text  \n",
       "0  in this study we highlight the importance of s...  \n",
       "1  consequences of these early work experiences a...  \n",
       "2  some scholars have suggested that long work ho...  \n",
       "3  to address these issues we draw on data from t...  \n",
       "4  precursors of teenage work we first distinguis...  "
      ]
     },
     "execution_count": 7,
     "metadata": {},
     "output_type": "execute_result"
    }
   ],
   "source": [
    "train_files = glob.glob('../data/train/*.json')\n",
    "\n",
    "df_train_pubs = pd.DataFrame()\n",
    "for train_file in train_files: \n",
    "    file_data = pd.read_json(train_file)\n",
    "    file_data.insert(0,'Id', train_file.split('/')[-1].split('.')[0])\n",
    "    df_train_pubs = pd.concat([df_train_pubs, file_data])\n",
    "\n",
    "df_train_pubs['clean_text'] = df_train_pubs['text'].apply(clean_text)\n",
    "df_train_pubs.head()"
   ]
  },
  {
   "cell_type": "markdown",
   "metadata": {},
   "source": [
    "Dataframe of testing json publications"
   ]
  },
  {
   "cell_type": "code",
   "execution_count": 14,
   "metadata": {},
   "outputs": [
    {
     "data": {
      "text/html": [
       "<div>\n",
       "<style scoped>\n",
       "    .dataframe tbody tr th:only-of-type {\n",
       "        vertical-align: middle;\n",
       "    }\n",
       "\n",
       "    .dataframe tbody tr th {\n",
       "        vertical-align: top;\n",
       "    }\n",
       "\n",
       "    .dataframe thead th {\n",
       "        text-align: right;\n",
       "    }\n",
       "</style>\n",
       "<table border=\"1\" class=\"dataframe\">\n",
       "  <thead>\n",
       "    <tr style=\"text-align: right;\">\n",
       "      <th></th>\n",
       "      <th>Id</th>\n",
       "      <th>section_title</th>\n",
       "      <th>text</th>\n",
       "      <th>clean_text</th>\n",
       "    </tr>\n",
       "  </thead>\n",
       "  <tbody>\n",
       "    <tr>\n",
       "      <th>0</th>\n",
       "      <td>8e6996b4-ca08-4c0b-bed2-aaf07a4c6a60</td>\n",
       "      <td>Introduction</td>\n",
       "      <td>A significant body of research has been conduc...</td>\n",
       "      <td>a significant body of research has been conduc...</td>\n",
       "    </tr>\n",
       "    <tr>\n",
       "      <th>1</th>\n",
       "      <td>8e6996b4-ca08-4c0b-bed2-aaf07a4c6a60</td>\n",
       "      <td>Literature review</td>\n",
       "      <td>We reviewed the literature that explored retai...</td>\n",
       "      <td>we reviewed the literature that explored retai...</td>\n",
       "    </tr>\n",
       "    <tr>\n",
       "      <th>2</th>\n",
       "      <td>8e6996b4-ca08-4c0b-bed2-aaf07a4c6a60</td>\n",
       "      <td>Food shopping patterns: where do people shop?</td>\n",
       "      <td>Diversification in the food retail sector offe...</td>\n",
       "      <td>diversification in the food retail sector offe...</td>\n",
       "    </tr>\n",
       "    <tr>\n",
       "      <th>3</th>\n",
       "      <td>8e6996b4-ca08-4c0b-bed2-aaf07a4c6a60</td>\n",
       "      <td>Food shopping patterns: what do people buy?</td>\n",
       "      <td>Many factors, including income, participation ...</td>\n",
       "      <td>many factors including income participation in...</td>\n",
       "    </tr>\n",
       "    <tr>\n",
       "      <th>4</th>\n",
       "      <td>8e6996b4-ca08-4c0b-bed2-aaf07a4c6a60</td>\n",
       "      <td>2</td>\n",
       "      <td>Anne Palmer et al. shopping at the same store ...</td>\n",
       "      <td>anne palmer et al shopping at the same store h...</td>\n",
       "    </tr>\n",
       "  </tbody>\n",
       "</table>\n",
       "</div>"
      ],
      "text/plain": [
       "                                     Id  \\\n",
       "0  8e6996b4-ca08-4c0b-bed2-aaf07a4c6a60   \n",
       "1  8e6996b4-ca08-4c0b-bed2-aaf07a4c6a60   \n",
       "2  8e6996b4-ca08-4c0b-bed2-aaf07a4c6a60   \n",
       "3  8e6996b4-ca08-4c0b-bed2-aaf07a4c6a60   \n",
       "4  8e6996b4-ca08-4c0b-bed2-aaf07a4c6a60   \n",
       "\n",
       "                                   section_title  \\\n",
       "0                                   Introduction   \n",
       "1                              Literature review   \n",
       "2  Food shopping patterns: where do people shop?   \n",
       "3    Food shopping patterns: what do people buy?   \n",
       "4                                              2   \n",
       "\n",
       "                                                text  \\\n",
       "0  A significant body of research has been conduc...   \n",
       "1  We reviewed the literature that explored retai...   \n",
       "2  Diversification in the food retail sector offe...   \n",
       "3  Many factors, including income, participation ...   \n",
       "4  Anne Palmer et al. shopping at the same store ...   \n",
       "\n",
       "                                          clean_text  \n",
       "0  a significant body of research has been conduc...  \n",
       "1  we reviewed the literature that explored retai...  \n",
       "2  diversification in the food retail sector offe...  \n",
       "3  many factors including income participation in...  \n",
       "4  anne palmer et al shopping at the same store h...  "
      ]
     },
     "execution_count": 14,
     "metadata": {},
     "output_type": "execute_result"
    }
   ],
   "source": [
    "test_files = glob.glob('../data/test/*.json')\n",
    "\n",
    "df_test_pubs = pd.DataFrame()\n",
    "for test_file in test_files: \n",
    "    file_data = pd.read_json(test_file)\n",
    "    file_data.insert(0,'Id', test_file.split('/')[-1].split('.')[0])\n",
    "    df_test_pubs = pd.concat([df_test_pubs, file_data])\n",
    "\n",
    "df_test_pubs['clean_text'] = df_test_pubs['text'].apply(clean_text)\n",
    "df_test_pubs.head()"
   ]
  },
  {
   "cell_type": "markdown",
   "metadata": {},
   "source": [
    "Submission template"
   ]
  },
  {
   "cell_type": "code",
   "execution_count": 11,
   "metadata": {},
   "outputs": [
    {
     "data": {
      "text/html": [
       "<div>\n",
       "<style scoped>\n",
       "    .dataframe tbody tr th:only-of-type {\n",
       "        vertical-align: middle;\n",
       "    }\n",
       "\n",
       "    .dataframe tbody tr th {\n",
       "        vertical-align: top;\n",
       "    }\n",
       "\n",
       "    .dataframe thead th {\n",
       "        text-align: right;\n",
       "    }\n",
       "</style>\n",
       "<table border=\"1\" class=\"dataframe\">\n",
       "  <thead>\n",
       "    <tr style=\"text-align: right;\">\n",
       "      <th></th>\n",
       "      <th>PredictionString</th>\n",
       "    </tr>\n",
       "    <tr>\n",
       "      <th>Id</th>\n",
       "      <th></th>\n",
       "    </tr>\n",
       "  </thead>\n",
       "  <tbody>\n",
       "    <tr>\n",
       "      <th>2100032a-7c33-4bff-97ef-690822c43466</th>\n",
       "      <td>NaN</td>\n",
       "    </tr>\n",
       "    <tr>\n",
       "      <th>2f392438-e215-4169-bebf-21ac4ff253e1</th>\n",
       "      <td>NaN</td>\n",
       "    </tr>\n",
       "    <tr>\n",
       "      <th>3f316b38-1a24-45a9-8d8c-4e05a42257c6</th>\n",
       "      <td>NaN</td>\n",
       "    </tr>\n",
       "    <tr>\n",
       "      <th>8e6996b4-ca08-4c0b-bed2-aaf07a4c6a60</th>\n",
       "      <td>NaN</td>\n",
       "    </tr>\n",
       "  </tbody>\n",
       "</table>\n",
       "</div>"
      ],
      "text/plain": [
       "                                      PredictionString\n",
       "Id                                                    \n",
       "2100032a-7c33-4bff-97ef-690822c43466               NaN\n",
       "2f392438-e215-4169-bebf-21ac4ff253e1               NaN\n",
       "3f316b38-1a24-45a9-8d8c-4e05a42257c6               NaN\n",
       "8e6996b4-ca08-4c0b-bed2-aaf07a4c6a60               NaN"
      ]
     },
     "execution_count": 11,
     "metadata": {},
     "output_type": "execute_result"
    }
   ],
   "source": [
    "submission_df = pd.read_csv('../data/sample_submission.csv', index_col=0)\n",
    "submission_df"
   ]
  },
  {
   "cell_type": "markdown",
   "metadata": {},
   "source": [
    "Union of unique dataset titles in dataset_labels"
   ]
  },
  {
   "cell_type": "code",
   "execution_count": 12,
   "metadata": {},
   "outputs": [
    {
     "data": {
      "text/plain": [
       "175"
      ]
     },
     "execution_count": 12,
     "metadata": {},
     "output_type": "execute_result"
    }
   ],
   "source": [
    "dataset_titles = [x.lower() for x in set(df_train['dataset_title'].apply(clean_text).unique()).union(set(df_train['dataset_label'].unique()))]\n",
    "len(dataset_titles)"
   ]
  },
  {
   "cell_type": "markdown",
   "metadata": {},
   "source": [
    "If a dataset_title is in publication text, return the dataset_titles mentioned in the publication"
   ]
  },
  {
   "cell_type": "code",
   "execution_count": 15,
   "metadata": {},
   "outputs": [
    {
     "data": {
      "text/html": [
       "<div>\n",
       "<style scoped>\n",
       "    .dataframe tbody tr th:only-of-type {\n",
       "        vertical-align: middle;\n",
       "    }\n",
       "\n",
       "    .dataframe tbody tr th {\n",
       "        vertical-align: top;\n",
       "    }\n",
       "\n",
       "    .dataframe thead th {\n",
       "        text-align: right;\n",
       "    }\n",
       "</style>\n",
       "<table border=\"1\" class=\"dataframe\">\n",
       "  <thead>\n",
       "    <tr style=\"text-align: right;\">\n",
       "      <th></th>\n",
       "      <th>PredictionString</th>\n",
       "    </tr>\n",
       "    <tr>\n",
       "      <th>Id</th>\n",
       "      <th></th>\n",
       "    </tr>\n",
       "  </thead>\n",
       "  <tbody>\n",
       "    <tr>\n",
       "      <th>2100032a-7c33-4bff-97ef-690822c43466</th>\n",
       "      <td>adni|alzheimer s disease neuroimaging initiati...</td>\n",
       "    </tr>\n",
       "    <tr>\n",
       "      <th>2f392438-e215-4169-bebf-21ac4ff253e1</th>\n",
       "      <td>trends in international mathematics and scienc...</td>\n",
       "    </tr>\n",
       "    <tr>\n",
       "      <th>3f316b38-1a24-45a9-8d8c-4e05a42257c6</th>\n",
       "      <td>slosh model|noaa storm surge inundation</td>\n",
       "    </tr>\n",
       "    <tr>\n",
       "      <th>8e6996b4-ca08-4c0b-bed2-aaf07a4c6a60</th>\n",
       "      <td>rural urban continuum codes</td>\n",
       "    </tr>\n",
       "  </tbody>\n",
       "</table>\n",
       "</div>"
      ],
      "text/plain": [
       "                                                                       PredictionString\n",
       "Id                                                                                     \n",
       "2100032a-7c33-4bff-97ef-690822c43466  adni|alzheimer s disease neuroimaging initiati...\n",
       "2f392438-e215-4169-bebf-21ac4ff253e1  trends in international mathematics and scienc...\n",
       "3f316b38-1a24-45a9-8d8c-4e05a42257c6            slosh model|noaa storm surge inundation\n",
       "8e6996b4-ca08-4c0b-bed2-aaf07a4c6a60                        rural urban continuum codes"
      ]
     },
     "execution_count": 15,
     "metadata": {},
     "output_type": "execute_result"
    }
   ],
   "source": [
    "labels = []\n",
    "for index in submission_df.index:\n",
    "    publication_text = df_test_pubs[df_test_pubs['Id'] == index].text.str.cat(sep='\\n').lower()\n",
    "    label = []\n",
    "    for dataset_title in dataset_titles:\n",
    "        if dataset_title in publication_text:\n",
    "            label.append(clean_text(dataset_title))\n",
    "    labels.append('|'.join(label))\n",
    "\n",
    "submission_df['PredictionString'] = labels\n",
    "submission_df"
   ]
  },
  {
   "cell_type": "code",
   "execution_count": null,
   "metadata": {},
   "outputs": [],
   "source": [
    "# submission_df.to_csv(\"../results/submission.csv\",index=True)"
   ]
  },
  {
   "cell_type": "code",
   "execution_count": null,
   "metadata": {},
   "outputs": [],
   "source": []
  }
 ],
 "metadata": {
  "kernelspec": {
   "display_name": "Python 3",
   "language": "python",
   "name": "python3"
  },
  "language_info": {
   "codemirror_mode": {
    "name": "ipython",
    "version": 3
   },
   "file_extension": ".py",
   "mimetype": "text/x-python",
   "name": "python",
   "nbconvert_exporter": "python",
   "pygments_lexer": "ipython3",
   "version": "3.8.3"
  }
 },
 "nbformat": 4,
 "nbformat_minor": 4
}
